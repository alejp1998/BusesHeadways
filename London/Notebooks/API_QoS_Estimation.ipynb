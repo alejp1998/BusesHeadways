{
 "cells": [
  {
   "cell_type": "markdown",
   "metadata": {},
   "source": [
    "# API QoS Estimation"
   ]
  },
  {
   "cell_type": "code",
   "execution_count": 1,
   "metadata": {},
   "outputs": [
    {
     "name": "stdout",
     "output_type": "stream",
     "text": [
      "INFO: Pandarallel will run on 16 workers.\n",
      "INFO: Pandarallel will use Memory file system to transfer data between the main process and workers.\n"
     ]
    }
   ],
   "source": [
    "#First we import the requested modules\n",
    "import pandas as pd\n",
    "from pandas.io.json import json_normalize\n",
    "import json\n",
    "\n",
    "import math\n",
    "import numpy as np\n",
    "\n",
    "import plotly.graph_objects as go\n",
    "import plotly.io as pio\n",
    "import plotly.express as px\n",
    "pio.templates.default = 'plotly_white'\n",
    "pd.set_option(\"display.precision\", 3)\n",
    "\n",
    "import datetime\n",
    "from datetime import timedelta\n",
    "\n",
    "from pandarallel import pandarallel\n",
    "from joblib import Parallel, delayed\n",
    "import multiprocessing\n",
    "num_cores = multiprocessing.cpu_count()\n",
    "pandarallel.initialize()"
   ]
  },
  {
   "cell_type": "code",
   "execution_count": 2,
   "metadata": {},
   "outputs": [],
   "source": [
    "#Available colors\n",
    "colors = [\n",
    "    '#1f77b4',  # muted blue\n",
    "    '#ff7f0e',  # safety orange\n",
    "    '#2ca02c',  # cooked asparagus green\n",
    "    '#d62728',  # brick red\n",
    "    '#9467bd',  # muted purple\n",
    "    '#8c564b',  # chestnut brown\n",
    "    '#e377c2',  # raspberry yogurt pink\n",
    "    '#7f7f7f',  # middle gray\n",
    "    '#bcbd22',  # curry yellow-green\n",
    "    '#17becf'   # blue-teal\n",
    "]"
   ]
  },
  {
   "cell_type": "code",
   "execution_count": 3,
   "metadata": {},
   "outputs": [],
   "source": [
    "# FUNCTIONS\n",
    "def str_to_int(string) :\n",
    "    final_val = 0\n",
    "    for c in string:\n",
    "        val = ord(c)\n",
    "        final_val += val\n",
    "    return final_val"
   ]
  },
  {
   "cell_type": "code",
   "execution_count": 4,
   "metadata": {},
   "outputs": [],
   "source": [
    "f = '../Data/'"
   ]
  },
  {
   "cell_type": "code",
   "execution_count": 16,
   "metadata": {},
   "outputs": [],
   "source": [
    "#Load line_stops_dict\n",
    "with open(f+'Static/lines_dict.json', 'r') as file:\n",
    "    lines_dict = json.load(file)"
   ]
  },
  {
   "cell_type": "code",
   "execution_count": 17,
   "metadata": {},
   "outputs": [],
   "source": [
    "#lines_dict['25']['2']['stops']"
   ]
  },
  {
   "cell_type": "markdown",
   "metadata": {},
   "source": [
    "## Last week's data"
   ]
  },
  {
   "cell_type": "code",
   "execution_count": 55,
   "metadata": {},
   "outputs": [],
   "source": [
    "#Read week df\n",
    "week_df = pd.read_csv(f+'RealTime/buses_data_week_cleaned.csv',\n",
    "    dtype={\n",
    "        'line': 'uint16',\n",
    "        'direction': 'uint16',\n",
    "        'stop': 'str',\n",
    "        'bus': 'str',\n",
    "        'estimateArrive': 'uint16'\n",
    "    }\n",
    ")[['line','direction','stop','bus','datetime','estimateArrive']]\n",
    "\n",
    "#Parse the dates\n",
    "week_df['datetime'] = pd.to_datetime(week_df['datetime'], errors = 'coerce', format='%Y-%m-%dT%H:%M:%S.%f')"
   ]
  },
  {
   "cell_type": "code",
   "execution_count": 56,
   "metadata": {},
   "outputs": [
    {
     "data": {
      "text/html": [
       "<div>\n",
       "<style scoped>\n",
       "    .dataframe tbody tr th:only-of-type {\n",
       "        vertical-align: middle;\n",
       "    }\n",
       "\n",
       "    .dataframe tbody tr th {\n",
       "        vertical-align: top;\n",
       "    }\n",
       "\n",
       "    .dataframe thead th {\n",
       "        text-align: right;\n",
       "    }\n",
       "</style>\n",
       "<table border=\"1\" class=\"dataframe\">\n",
       "  <thead>\n",
       "    <tr style=\"text-align: right;\">\n",
       "      <th></th>\n",
       "      <th>line</th>\n",
       "      <th>direction</th>\n",
       "      <th>stop</th>\n",
       "      <th>bus</th>\n",
       "      <th>datetime</th>\n",
       "      <th>estimateArrive</th>\n",
       "    </tr>\n",
       "  </thead>\n",
       "  <tbody>\n",
       "    <tr>\n",
       "      <th>0</th>\n",
       "      <td>18</td>\n",
       "      <td>1</td>\n",
       "      <td>490005584K</td>\n",
       "      <td>BF67GMY</td>\n",
       "      <td>2021-01-30 18:54:41.856658700</td>\n",
       "      <td>1095</td>\n",
       "    </tr>\n",
       "    <tr>\n",
       "      <th>1</th>\n",
       "      <td>18</td>\n",
       "      <td>1</td>\n",
       "      <td>490005584K</td>\n",
       "      <td>BF67GMY</td>\n",
       "      <td>2021-01-30 18:54:41.856658700</td>\n",
       "      <td>1095</td>\n",
       "    </tr>\n",
       "    <tr>\n",
       "      <th>2</th>\n",
       "      <td>18</td>\n",
       "      <td>1</td>\n",
       "      <td>490005584K</td>\n",
       "      <td>LJ66TSU</td>\n",
       "      <td>2021-01-30 18:54:41.856658700</td>\n",
       "      <td>1575</td>\n",
       "    </tr>\n",
       "    <tr>\n",
       "      <th>3</th>\n",
       "      <td>18</td>\n",
       "      <td>1</td>\n",
       "      <td>490005584K</td>\n",
       "      <td>BF67GMY</td>\n",
       "      <td>2021-01-30 18:54:41.856658700</td>\n",
       "      <td>1095</td>\n",
       "    </tr>\n",
       "    <tr>\n",
       "      <th>4</th>\n",
       "      <td>18</td>\n",
       "      <td>1</td>\n",
       "      <td>490005584K</td>\n",
       "      <td>BF67GLY</td>\n",
       "      <td>2021-01-30 18:54:41.856658700</td>\n",
       "      <td>591</td>\n",
       "    </tr>\n",
       "  </tbody>\n",
       "</table>\n",
       "</div>"
      ],
      "text/plain": [
       "   line  direction        stop      bus                      datetime  \\\n",
       "0    18          1  490005584K  BF67GMY 2021-01-30 18:54:41.856658700   \n",
       "1    18          1  490005584K  BF67GMY 2021-01-30 18:54:41.856658700   \n",
       "2    18          1  490005584K  LJ66TSU 2021-01-30 18:54:41.856658700   \n",
       "3    18          1  490005584K  BF67GMY 2021-01-30 18:54:41.856658700   \n",
       "4    18          1  490005584K  BF67GLY 2021-01-30 18:54:41.856658700   \n",
       "\n",
       "   estimateArrive  \n",
       "0            1095  \n",
       "1            1095  \n",
       "2            1575  \n",
       "3            1095  \n",
       "4             591  "
      ]
     },
     "execution_count": 56,
     "metadata": {},
     "output_type": "execute_result"
    }
   ],
   "source": [
    "week_df.head()"
   ]
  },
  {
   "cell_type": "code",
   "execution_count": 57,
   "metadata": {},
   "outputs": [
    {
     "name": "stdout",
     "output_type": "stream",
     "text": [
      "<class 'pandas.core.frame.DataFrame'>\n",
      "RangeIndex: 545178 entries, 0 to 545177\n",
      "Data columns (total 6 columns):\n",
      " #   Column          Non-Null Count   Dtype         \n",
      "---  ------          --------------   -----         \n",
      " 0   line            545178 non-null  uint16        \n",
      " 1   direction       545178 non-null  uint16        \n",
      " 2   stop            545178 non-null  object        \n",
      " 3   bus             545178 non-null  object        \n",
      " 4   datetime        545178 non-null  datetime64[ns]\n",
      " 5   estimateArrive  545178 non-null  uint16        \n",
      "dtypes: datetime64[ns](1), object(2), uint16(3)\n",
      "memory usage: 15.6+ MB\n"
     ]
    }
   ],
   "source": [
    "week_df.info()"
   ]
  },
  {
   "cell_type": "markdown",
   "metadata": {},
   "source": [
    "# Analysis of temporal series belonging to a bus\n",
    "Analyze all the data corresponding to the different trips of a bus to a stop.\n",
    "We pay attention to the last TH values of the series."
   ]
  },
  {
   "cell_type": "code",
   "execution_count": 58,
   "metadata": {},
   "outputs": [],
   "source": [
    "#Number of last ocurrences which form the series we are going to analyze for QoS\n",
    "TH = 30"
   ]
  },
  {
   "cell_type": "code",
   "execution_count": 59,
   "metadata": {},
   "outputs": [
    {
     "data": {
      "text/html": [
       "<div>\n",
       "<style scoped>\n",
       "    .dataframe tbody tr th:only-of-type {\n",
       "        vertical-align: middle;\n",
       "    }\n",
       "\n",
       "    .dataframe tbody tr th {\n",
       "        vertical-align: top;\n",
       "    }\n",
       "\n",
       "    .dataframe thead th {\n",
       "        text-align: right;\n",
       "    }\n",
       "</style>\n",
       "<table border=\"1\" class=\"dataframe\">\n",
       "  <thead>\n",
       "    <tr style=\"text-align: right;\">\n",
       "      <th></th>\n",
       "      <th>line</th>\n",
       "      <th>direction</th>\n",
       "      <th>stop</th>\n",
       "      <th>bus</th>\n",
       "      <th>datetime</th>\n",
       "      <th>estimateArrive</th>\n",
       "    </tr>\n",
       "  </thead>\n",
       "  <tbody>\n",
       "    <tr>\n",
       "      <th>537480</th>\n",
       "      <td>25</td>\n",
       "      <td>1</td>\n",
       "      <td>490013195H</td>\n",
       "      <td>SK20BDV</td>\n",
       "      <td>2021-02-06 18:47:38.795904200</td>\n",
       "      <td>171</td>\n",
       "    </tr>\n",
       "    <tr>\n",
       "      <th>538699</th>\n",
       "      <td>25</td>\n",
       "      <td>1</td>\n",
       "      <td>490013195H</td>\n",
       "      <td>SK20BDV</td>\n",
       "      <td>2021-02-06 18:48:38.227376600</td>\n",
       "      <td>111</td>\n",
       "    </tr>\n",
       "    <tr>\n",
       "      <th>539706</th>\n",
       "      <td>25</td>\n",
       "      <td>1</td>\n",
       "      <td>490013195H</td>\n",
       "      <td>SK20BDV</td>\n",
       "      <td>2021-02-06 18:49:38.818081000</td>\n",
       "      <td>32</td>\n",
       "    </tr>\n",
       "    <tr>\n",
       "      <th>540332</th>\n",
       "      <td>25</td>\n",
       "      <td>1</td>\n",
       "      <td>490013195H</td>\n",
       "      <td>SK20BDV</td>\n",
       "      <td>2021-02-06 18:50:09.027057100</td>\n",
       "      <td>33</td>\n",
       "    </tr>\n",
       "    <tr>\n",
       "      <th>540960</th>\n",
       "      <td>25</td>\n",
       "      <td>1</td>\n",
       "      <td>490013195H</td>\n",
       "      <td>SK20BDV</td>\n",
       "      <td>2021-02-06 18:50:39.926769000</td>\n",
       "      <td>3</td>\n",
       "    </tr>\n",
       "  </tbody>\n",
       "</table>\n",
       "</div>"
      ],
      "text/plain": [
       "        line  direction        stop      bus                      datetime  \\\n",
       "537480    25          1  490013195H  SK20BDV 2021-02-06 18:47:38.795904200   \n",
       "538699    25          1  490013195H  SK20BDV 2021-02-06 18:48:38.227376600   \n",
       "539706    25          1  490013195H  SK20BDV 2021-02-06 18:49:38.818081000   \n",
       "540332    25          1  490013195H  SK20BDV 2021-02-06 18:50:09.027057100   \n",
       "540960    25          1  490013195H  SK20BDV 2021-02-06 18:50:39.926769000   \n",
       "\n",
       "        estimateArrive  \n",
       "537480             171  \n",
       "538699             111  \n",
       "539706              32  \n",
       "540332              33  \n",
       "540960               3  "
      ]
     },
     "execution_count": 59,
     "metadata": {},
     "output_type": "execute_result"
    }
   ],
   "source": [
    "th_df = week_df.sort_values(by=['bus','stop','datetime'], ascending = True)\n",
    "th_df = th_df.drop_duplicates(['bus','stop','datetime'], keep = 'last')\n",
    "th_df = th_df[th_df.datetime > th_df.datetime.max() - timedelta(seconds=900)]\n",
    "th_df.tail(5)"
   ]
  },
  {
   "cell_type": "code",
   "execution_count": 60,
   "metadata": {},
   "outputs": [
    {
     "data": {
      "text/plain": [
       "array(['BF67GKE', 'BF67GKG', 'BF67GKN', 'BF67GKP', 'BF67GKU', 'BF67GKV',\n",
       "       'BF67GKX', 'BF67GKY', 'BF67GKZ', 'BF67GLK', 'BF67GLY', 'BF67GLZ',\n",
       "       'BF67GME', 'BF67GMO', 'BF67GMU', 'BF67GMV', 'BF67GMZ', 'BF67GNJ',\n",
       "       'BF67GNK', 'BF67GNN', 'LJ15JYZ', 'LJ15JZA', 'LJ15JZC', 'LJ15JZD',\n",
       "       'LJ16EWH', 'LJ16EWU', 'LJ16EWV', 'LJ16EWW', 'LJ16EWX', 'LJ16EWZ',\n",
       "       'LJ66TSO', 'LJ66TSU'], dtype=object)"
      ]
     },
     "execution_count": 60,
     "metadata": {},
     "output_type": "execute_result"
    }
   ],
   "source": [
    "th_df[th_df.line == 18].bus.unique()"
   ]
  },
  {
   "cell_type": "code",
   "execution_count": 61,
   "metadata": {},
   "outputs": [],
   "source": [
    "def build_time_series_graph(th_df,TH,bus_id) :\n",
    "\n",
    "    graph = go.Figure()\n",
    "    \n",
    "    #TH_DF\n",
    "    series_df = th_df[th_df.datetime > th_df.datetime.max() - timedelta(seconds=TH*30)]\n",
    "    \n",
    "    #Loc Bus Appearances\n",
    "    series_df = series_df[series_df.bus == bus_id]\n",
    "    \n",
    "    if series_df.shape[0] < 1 :\n",
    "        return graph\n",
    "    line = series_df.line.iloc[0]\n",
    "    direction = series_df.direction.iloc[0]\n",
    "    stops_list = lines_dict[str(line)][str(direction)]['stops']\n",
    "    \n",
    "    #Set title and layout\n",
    "    graph.update_layout(\n",
    "        title='<b>Bus {} : ETA Time Series</b> - Line: {}'.format(bus_id,line),\n",
    "        legend_title='<b>Destination Stop</b>',\n",
    "        yaxis = dict(\n",
    "            title='ETA in Seconds',\n",
    "            nticks=10,\n",
    "            zerolinecolor='darkgrey'\n",
    "        ),\n",
    "        margin=dict(r=0, l=0, t=40, b=0),\n",
    "        hovermode='closest'\n",
    "    )\n",
    "    \n",
    "    #Locate unique stops\n",
    "    unique_stops = series_df.stop.unique().tolist()\n",
    "    for stop in stops_list :\n",
    "        if stop not in unique_stops :\n",
    "            continue\n",
    "        else : \n",
    "            stop_index = stops_list.index(stop)\n",
    "            \n",
    "        stop_df = series_df[series_df.stop == stop]\n",
    "        \n",
    "        \n",
    "        #Build stop trace\n",
    "        graph.add_trace(go.Scatter(\n",
    "            name= '[' + str(stop_index) + '] ' + str(stop),\n",
    "            x=stop_df.datetime,\n",
    "            y=stop_df.estimateArrive,\n",
    "            mode='lines+markers',\n",
    "            line=dict(width=3,color=colors[(str_to_int(stop))%len(colors)]),\n",
    "            text=['<b>Bus : ' + str(bus_id) + '</b> <br>' + \\\n",
    "                    'Stop[' + str(stop_index) + ']: ' + str(stop) + '<br>' + \\\n",
    "                    'Time : ' + row.datetime.strftime(\"%H:%M:%S\") + '<br>' + \\\n",
    "                    'ETA : ' + str(row.estimateArrive) for row in stop_df.itertuples() ],\n",
    "            hoverinfo='text'\n",
    "        ))\n",
    "\n",
    "\n",
    "    return graph"
   ]
  },
  {
   "cell_type": "code",
   "execution_count": 62,
   "metadata": {},
   "outputs": [
    {
     "data": {
      "application/vnd.plotly.v1+json": {
       "config": {
        "plotlyServerURL": "https://plot.ly"
       },
       "data": [
        {
         "hoverinfo": "text",
         "line": {
          "color": "#8c564b",
          "width": 3
         },
         "mode": "lines+markers",
         "name": "[38] 490006827W",
         "text": [
          "<b>Bus : SK20BDV</b> <br>Stop[38]: 490006827W<br>Time : 18:39:41<br>ETA : 15"
         ],
         "type": "scatter",
         "x": [
          "2021-02-06T18:39:41.245985"
         ],
         "y": [
          15
         ]
        },
        {
         "hoverinfo": "text",
         "line": {
          "color": "#e377c2",
          "width": 3
         },
         "mode": "lines+markers",
         "name": "[39] 490000004W",
         "text": [
          "<b>Bus : SK20BDV</b> <br>Stop[39]: 490000004W<br>Time : 18:40:07<br>ETA : 165",
          "<b>Bus : SK20BDV</b> <br>Stop[39]: 490000004W<br>Time : 18:41:38<br>ETA : 74",
          "<b>Bus : SK20BDV</b> <br>Stop[39]: 490000004W<br>Time : 18:42:08<br>ETA : 44",
          "<b>Bus : SK20BDV</b> <br>Stop[39]: 490000004W<br>Time : 18:42:38<br>ETA : 14",
          "<b>Bus : SK20BDV</b> <br>Stop[39]: 490000004W<br>Time : 18:43:07<br>ETA : 41"
         ],
         "type": "scatter",
         "x": [
          "2021-02-06T18:40:07.698094",
          "2021-02-06T18:41:38.175405",
          "2021-02-06T18:42:08.026746",
          "2021-02-06T18:42:38.149985",
          "2021-02-06T18:43:07.916699"
         ],
         "y": [
          165,
          74,
          44,
          14,
          41
         ]
        },
        {
         "hoverinfo": "text",
         "line": {
          "color": "#1f77b4",
          "width": 3
         },
         "mode": "lines+markers",
         "name": "[40] 490000003R",
         "text": [
          "<b>Bus : SK20BDV</b> <br>Stop[40]: 490000003R<br>Time : 18:40:09<br>ETA : 293",
          "<b>Bus : SK20BDV</b> <br>Stop[40]: 490000003R<br>Time : 18:40:39<br>ETA : 263",
          "<b>Bus : SK20BDV</b> <br>Stop[40]: 490000003R<br>Time : 18:41:09<br>ETA : 233",
          "<b>Bus : SK20BDV</b> <br>Stop[40]: 490000003R<br>Time : 18:42:08<br>ETA : 174",
          "<b>Bus : SK20BDV</b> <br>Stop[40]: 490000003R<br>Time : 18:42:39<br>ETA : 143",
          "<b>Bus : SK20BDV</b> <br>Stop[40]: 490000003R<br>Time : 18:43:09<br>ETA : 113"
         ],
         "type": "scatter",
         "x": [
          "2021-02-06T18:40:09.499366",
          "2021-02-06T18:40:39.763853",
          "2021-02-06T18:41:09.457187",
          "2021-02-06T18:42:08.953554",
          "2021-02-06T18:42:39.596178",
          "2021-02-06T18:43:09.820662"
         ],
         "y": [
          293,
          263,
          233,
          174,
          143,
          113
         ]
        },
        {
         "hoverinfo": "text",
         "line": {
          "color": "#2ca02c",
          "width": 3
         },
         "mode": "lines+markers",
         "name": "[41] 490012755W",
         "text": [
          "<b>Bus : SK20BDV</b> <br>Stop[41]: 490012755W<br>Time : 18:40:09<br>ETA : 382",
          "<b>Bus : SK20BDV</b> <br>Stop[41]: 490012755W<br>Time : 18:43:09<br>ETA : 202"
         ],
         "type": "scatter",
         "x": [
          "2021-02-06T18:40:09.541771",
          "2021-02-06T18:43:09.550589"
         ],
         "y": [
          382,
          202
         ]
        },
        {
         "hoverinfo": "text",
         "line": {
          "color": "#d62728",
          "width": 3
         },
         "mode": "lines+markers",
         "name": "[42] 490012783W",
         "text": [
          "<b>Bus : SK20BDV</b> <br>Stop[42]: 490012783W<br>Time : 18:39:39<br>ETA : 532",
          "<b>Bus : SK20BDV</b> <br>Stop[42]: 490012783W<br>Time : 18:40:39<br>ETA : 472",
          "<b>Bus : SK20BDV</b> <br>Stop[42]: 490012783W<br>Time : 18:41:39<br>ETA : 346",
          "<b>Bus : SK20BDV</b> <br>Stop[42]: 490012783W<br>Time : 18:43:38<br>ETA : 227",
          "<b>Bus : SK20BDV</b> <br>Stop[42]: 490012783W<br>Time : 18:44:36<br>ETA : 136",
          "<b>Bus : SK20BDV</b> <br>Stop[42]: 490012783W<br>Time : 18:46:08<br>ETA : 44",
          "<b>Bus : SK20BDV</b> <br>Stop[42]: 490012783W<br>Time : 18:46:39<br>ETA : 13"
         ],
         "type": "scatter",
         "x": [
          "2021-02-06T18:39:39.262997",
          "2021-02-06T18:40:39.103889",
          "2021-02-06T18:41:39.191015",
          "2021-02-06T18:43:38.383014",
          "2021-02-06T18:44:36.614198",
          "2021-02-06T18:46:08.976974",
          "2021-02-06T18:46:39.087896"
         ],
         "y": [
          532,
          472,
          346,
          227,
          136,
          44,
          13
         ]
        },
        {
         "hoverinfo": "text",
         "line": {
          "color": "#bcbd22",
          "width": 3
         },
         "mode": "lines+markers",
         "name": "[43] 490000013E",
         "text": [
          "<b>Bus : SK20BDV</b> <br>Stop[43]: 490000013E<br>Time : 18:40:40<br>ETA : 558",
          "<b>Bus : SK20BDV</b> <br>Stop[43]: 490000013E<br>Time : 18:44:41<br>ETA : 254",
          "<b>Bus : SK20BDV</b> <br>Stop[43]: 490000013E<br>Time : 18:46:10<br>ETA : 165",
          "<b>Bus : SK20BDV</b> <br>Stop[43]: 490000013E<br>Time : 18:48:10<br>ETA : 78"
         ],
         "type": "scatter",
         "x": [
          "2021-02-06T18:40:40.830607",
          "2021-02-06T18:44:41.265882",
          "2021-02-06T18:46:10.231271",
          "2021-02-06T18:48:10.695444"
         ],
         "y": [
          558,
          254,
          165,
          78
         ]
        },
        {
         "hoverinfo": "text",
         "line": {
          "color": "#e377c2",
          "width": 3
         },
         "mode": "lines+markers",
         "name": "[44] 490013195H",
         "text": [
          "<b>Bus : SK20BDV</b> <br>Stop[44]: 490013195H<br>Time : 18:40:38<br>ETA : 591",
          "<b>Bus : SK20BDV</b> <br>Stop[44]: 490013195H<br>Time : 18:41:08<br>ETA : 561",
          "<b>Bus : SK20BDV</b> <br>Stop[44]: 490013195H<br>Time : 18:42:08<br>ETA : 501",
          "<b>Bus : SK20BDV</b> <br>Stop[44]: 490013195H<br>Time : 18:42:38<br>ETA : 471",
          "<b>Bus : SK20BDV</b> <br>Stop[44]: 490013195H<br>Time : 18:43:09<br>ETA : 440",
          "<b>Bus : SK20BDV</b> <br>Stop[44]: 490013195H<br>Time : 18:43:38<br>ETA : 411",
          "<b>Bus : SK20BDV</b> <br>Stop[44]: 490013195H<br>Time : 18:44:09<br>ETA : 380",
          "<b>Bus : SK20BDV</b> <br>Stop[44]: 490013195H<br>Time : 18:45:08<br>ETA : 321",
          "<b>Bus : SK20BDV</b> <br>Stop[44]: 490013195H<br>Time : 18:45:39<br>ETA : 290",
          "<b>Bus : SK20BDV</b> <br>Stop[44]: 490013195H<br>Time : 18:47:08<br>ETA : 201",
          "<b>Bus : SK20BDV</b> <br>Stop[44]: 490013195H<br>Time : 18:47:38<br>ETA : 171",
          "<b>Bus : SK20BDV</b> <br>Stop[44]: 490013195H<br>Time : 18:48:38<br>ETA : 111",
          "<b>Bus : SK20BDV</b> <br>Stop[44]: 490013195H<br>Time : 18:49:38<br>ETA : 32",
          "<b>Bus : SK20BDV</b> <br>Stop[44]: 490013195H<br>Time : 18:50:09<br>ETA : 33",
          "<b>Bus : SK20BDV</b> <br>Stop[44]: 490013195H<br>Time : 18:50:39<br>ETA : 3"
         ],
         "type": "scatter",
         "x": [
          "2021-02-06T18:40:38.651025",
          "2021-02-06T18:41:08.668158",
          "2021-02-06T18:42:08.256047",
          "2021-02-06T18:42:38.504882",
          "2021-02-06T18:43:09.001841",
          "2021-02-06T18:43:38.888960",
          "2021-02-06T18:44:09.114666",
          "2021-02-06T18:45:08.469754",
          "2021-02-06T18:45:39.170924",
          "2021-02-06T18:47:08.152854",
          "2021-02-06T18:47:38.795904",
          "2021-02-06T18:48:38.227376",
          "2021-02-06T18:49:38.818081",
          "2021-02-06T18:50:09.027057",
          "2021-02-06T18:50:39.926769"
         ],
         "y": [
          591,
          561,
          501,
          471,
          440,
          411,
          380,
          321,
          290,
          201,
          171,
          111,
          32,
          33,
          3
         ]
        }
       ],
       "layout": {
        "hovermode": "closest",
        "legend": {
         "title": {
          "text": "<b>Destination Stop</b>"
         }
        },
        "margin": {
         "b": 0,
         "l": 0,
         "r": 0,
         "t": 40
        },
        "template": {
         "data": {
          "bar": [
           {
            "error_x": {
             "color": "#2a3f5f"
            },
            "error_y": {
             "color": "#2a3f5f"
            },
            "marker": {
             "line": {
              "color": "white",
              "width": 0.5
             }
            },
            "type": "bar"
           }
          ],
          "barpolar": [
           {
            "marker": {
             "line": {
              "color": "white",
              "width": 0.5
             }
            },
            "type": "barpolar"
           }
          ],
          "carpet": [
           {
            "aaxis": {
             "endlinecolor": "#2a3f5f",
             "gridcolor": "#C8D4E3",
             "linecolor": "#C8D4E3",
             "minorgridcolor": "#C8D4E3",
             "startlinecolor": "#2a3f5f"
            },
            "baxis": {
             "endlinecolor": "#2a3f5f",
             "gridcolor": "#C8D4E3",
             "linecolor": "#C8D4E3",
             "minorgridcolor": "#C8D4E3",
             "startlinecolor": "#2a3f5f"
            },
            "type": "carpet"
           }
          ],
          "choropleth": [
           {
            "colorbar": {
             "outlinewidth": 0,
             "ticks": ""
            },
            "type": "choropleth"
           }
          ],
          "contour": [
           {
            "colorbar": {
             "outlinewidth": 0,
             "ticks": ""
            },
            "colorscale": [
             [
              0,
              "#0d0887"
             ],
             [
              0.1111111111111111,
              "#46039f"
             ],
             [
              0.2222222222222222,
              "#7201a8"
             ],
             [
              0.3333333333333333,
              "#9c179e"
             ],
             [
              0.4444444444444444,
              "#bd3786"
             ],
             [
              0.5555555555555556,
              "#d8576b"
             ],
             [
              0.6666666666666666,
              "#ed7953"
             ],
             [
              0.7777777777777778,
              "#fb9f3a"
             ],
             [
              0.8888888888888888,
              "#fdca26"
             ],
             [
              1,
              "#f0f921"
             ]
            ],
            "type": "contour"
           }
          ],
          "contourcarpet": [
           {
            "colorbar": {
             "outlinewidth": 0,
             "ticks": ""
            },
            "type": "contourcarpet"
           }
          ],
          "heatmap": [
           {
            "colorbar": {
             "outlinewidth": 0,
             "ticks": ""
            },
            "colorscale": [
             [
              0,
              "#0d0887"
             ],
             [
              0.1111111111111111,
              "#46039f"
             ],
             [
              0.2222222222222222,
              "#7201a8"
             ],
             [
              0.3333333333333333,
              "#9c179e"
             ],
             [
              0.4444444444444444,
              "#bd3786"
             ],
             [
              0.5555555555555556,
              "#d8576b"
             ],
             [
              0.6666666666666666,
              "#ed7953"
             ],
             [
              0.7777777777777778,
              "#fb9f3a"
             ],
             [
              0.8888888888888888,
              "#fdca26"
             ],
             [
              1,
              "#f0f921"
             ]
            ],
            "type": "heatmap"
           }
          ],
          "heatmapgl": [
           {
            "colorbar": {
             "outlinewidth": 0,
             "ticks": ""
            },
            "colorscale": [
             [
              0,
              "#0d0887"
             ],
             [
              0.1111111111111111,
              "#46039f"
             ],
             [
              0.2222222222222222,
              "#7201a8"
             ],
             [
              0.3333333333333333,
              "#9c179e"
             ],
             [
              0.4444444444444444,
              "#bd3786"
             ],
             [
              0.5555555555555556,
              "#d8576b"
             ],
             [
              0.6666666666666666,
              "#ed7953"
             ],
             [
              0.7777777777777778,
              "#fb9f3a"
             ],
             [
              0.8888888888888888,
              "#fdca26"
             ],
             [
              1,
              "#f0f921"
             ]
            ],
            "type": "heatmapgl"
           }
          ],
          "histogram": [
           {
            "marker": {
             "colorbar": {
              "outlinewidth": 0,
              "ticks": ""
             }
            },
            "type": "histogram"
           }
          ],
          "histogram2d": [
           {
            "colorbar": {
             "outlinewidth": 0,
             "ticks": ""
            },
            "colorscale": [
             [
              0,
              "#0d0887"
             ],
             [
              0.1111111111111111,
              "#46039f"
             ],
             [
              0.2222222222222222,
              "#7201a8"
             ],
             [
              0.3333333333333333,
              "#9c179e"
             ],
             [
              0.4444444444444444,
              "#bd3786"
             ],
             [
              0.5555555555555556,
              "#d8576b"
             ],
             [
              0.6666666666666666,
              "#ed7953"
             ],
             [
              0.7777777777777778,
              "#fb9f3a"
             ],
             [
              0.8888888888888888,
              "#fdca26"
             ],
             [
              1,
              "#f0f921"
             ]
            ],
            "type": "histogram2d"
           }
          ],
          "histogram2dcontour": [
           {
            "colorbar": {
             "outlinewidth": 0,
             "ticks": ""
            },
            "colorscale": [
             [
              0,
              "#0d0887"
             ],
             [
              0.1111111111111111,
              "#46039f"
             ],
             [
              0.2222222222222222,
              "#7201a8"
             ],
             [
              0.3333333333333333,
              "#9c179e"
             ],
             [
              0.4444444444444444,
              "#bd3786"
             ],
             [
              0.5555555555555556,
              "#d8576b"
             ],
             [
              0.6666666666666666,
              "#ed7953"
             ],
             [
              0.7777777777777778,
              "#fb9f3a"
             ],
             [
              0.8888888888888888,
              "#fdca26"
             ],
             [
              1,
              "#f0f921"
             ]
            ],
            "type": "histogram2dcontour"
           }
          ],
          "mesh3d": [
           {
            "colorbar": {
             "outlinewidth": 0,
             "ticks": ""
            },
            "type": "mesh3d"
           }
          ],
          "parcoords": [
           {
            "line": {
             "colorbar": {
              "outlinewidth": 0,
              "ticks": ""
             }
            },
            "type": "parcoords"
           }
          ],
          "pie": [
           {
            "automargin": true,
            "type": "pie"
           }
          ],
          "scatter": [
           {
            "marker": {
             "colorbar": {
              "outlinewidth": 0,
              "ticks": ""
             }
            },
            "type": "scatter"
           }
          ],
          "scatter3d": [
           {
            "line": {
             "colorbar": {
              "outlinewidth": 0,
              "ticks": ""
             }
            },
            "marker": {
             "colorbar": {
              "outlinewidth": 0,
              "ticks": ""
             }
            },
            "type": "scatter3d"
           }
          ],
          "scattercarpet": [
           {
            "marker": {
             "colorbar": {
              "outlinewidth": 0,
              "ticks": ""
             }
            },
            "type": "scattercarpet"
           }
          ],
          "scattergeo": [
           {
            "marker": {
             "colorbar": {
              "outlinewidth": 0,
              "ticks": ""
             }
            },
            "type": "scattergeo"
           }
          ],
          "scattergl": [
           {
            "marker": {
             "colorbar": {
              "outlinewidth": 0,
              "ticks": ""
             }
            },
            "type": "scattergl"
           }
          ],
          "scattermapbox": [
           {
            "marker": {
             "colorbar": {
              "outlinewidth": 0,
              "ticks": ""
             }
            },
            "type": "scattermapbox"
           }
          ],
          "scatterpolar": [
           {
            "marker": {
             "colorbar": {
              "outlinewidth": 0,
              "ticks": ""
             }
            },
            "type": "scatterpolar"
           }
          ],
          "scatterpolargl": [
           {
            "marker": {
             "colorbar": {
              "outlinewidth": 0,
              "ticks": ""
             }
            },
            "type": "scatterpolargl"
           }
          ],
          "scatterternary": [
           {
            "marker": {
             "colorbar": {
              "outlinewidth": 0,
              "ticks": ""
             }
            },
            "type": "scatterternary"
           }
          ],
          "surface": [
           {
            "colorbar": {
             "outlinewidth": 0,
             "ticks": ""
            },
            "colorscale": [
             [
              0,
              "#0d0887"
             ],
             [
              0.1111111111111111,
              "#46039f"
             ],
             [
              0.2222222222222222,
              "#7201a8"
             ],
             [
              0.3333333333333333,
              "#9c179e"
             ],
             [
              0.4444444444444444,
              "#bd3786"
             ],
             [
              0.5555555555555556,
              "#d8576b"
             ],
             [
              0.6666666666666666,
              "#ed7953"
             ],
             [
              0.7777777777777778,
              "#fb9f3a"
             ],
             [
              0.8888888888888888,
              "#fdca26"
             ],
             [
              1,
              "#f0f921"
             ]
            ],
            "type": "surface"
           }
          ],
          "table": [
           {
            "cells": {
             "fill": {
              "color": "#EBF0F8"
             },
             "line": {
              "color": "white"
             }
            },
            "header": {
             "fill": {
              "color": "#C8D4E3"
             },
             "line": {
              "color": "white"
             }
            },
            "type": "table"
           }
          ]
         },
         "layout": {
          "annotationdefaults": {
           "arrowcolor": "#2a3f5f",
           "arrowhead": 0,
           "arrowwidth": 1
          },
          "autotypenumbers": "strict",
          "coloraxis": {
           "colorbar": {
            "outlinewidth": 0,
            "ticks": ""
           }
          },
          "colorscale": {
           "diverging": [
            [
             0,
             "#8e0152"
            ],
            [
             0.1,
             "#c51b7d"
            ],
            [
             0.2,
             "#de77ae"
            ],
            [
             0.3,
             "#f1b6da"
            ],
            [
             0.4,
             "#fde0ef"
            ],
            [
             0.5,
             "#f7f7f7"
            ],
            [
             0.6,
             "#e6f5d0"
            ],
            [
             0.7,
             "#b8e186"
            ],
            [
             0.8,
             "#7fbc41"
            ],
            [
             0.9,
             "#4d9221"
            ],
            [
             1,
             "#276419"
            ]
           ],
           "sequential": [
            [
             0,
             "#0d0887"
            ],
            [
             0.1111111111111111,
             "#46039f"
            ],
            [
             0.2222222222222222,
             "#7201a8"
            ],
            [
             0.3333333333333333,
             "#9c179e"
            ],
            [
             0.4444444444444444,
             "#bd3786"
            ],
            [
             0.5555555555555556,
             "#d8576b"
            ],
            [
             0.6666666666666666,
             "#ed7953"
            ],
            [
             0.7777777777777778,
             "#fb9f3a"
            ],
            [
             0.8888888888888888,
             "#fdca26"
            ],
            [
             1,
             "#f0f921"
            ]
           ],
           "sequentialminus": [
            [
             0,
             "#0d0887"
            ],
            [
             0.1111111111111111,
             "#46039f"
            ],
            [
             0.2222222222222222,
             "#7201a8"
            ],
            [
             0.3333333333333333,
             "#9c179e"
            ],
            [
             0.4444444444444444,
             "#bd3786"
            ],
            [
             0.5555555555555556,
             "#d8576b"
            ],
            [
             0.6666666666666666,
             "#ed7953"
            ],
            [
             0.7777777777777778,
             "#fb9f3a"
            ],
            [
             0.8888888888888888,
             "#fdca26"
            ],
            [
             1,
             "#f0f921"
            ]
           ]
          },
          "colorway": [
           "#636efa",
           "#EF553B",
           "#00cc96",
           "#ab63fa",
           "#FFA15A",
           "#19d3f3",
           "#FF6692",
           "#B6E880",
           "#FF97FF",
           "#FECB52"
          ],
          "font": {
           "color": "#2a3f5f"
          },
          "geo": {
           "bgcolor": "white",
           "lakecolor": "white",
           "landcolor": "white",
           "showlakes": true,
           "showland": true,
           "subunitcolor": "#C8D4E3"
          },
          "hoverlabel": {
           "align": "left"
          },
          "hovermode": "closest",
          "mapbox": {
           "style": "light"
          },
          "paper_bgcolor": "white",
          "plot_bgcolor": "white",
          "polar": {
           "angularaxis": {
            "gridcolor": "#EBF0F8",
            "linecolor": "#EBF0F8",
            "ticks": ""
           },
           "bgcolor": "white",
           "radialaxis": {
            "gridcolor": "#EBF0F8",
            "linecolor": "#EBF0F8",
            "ticks": ""
           }
          },
          "scene": {
           "xaxis": {
            "backgroundcolor": "white",
            "gridcolor": "#DFE8F3",
            "gridwidth": 2,
            "linecolor": "#EBF0F8",
            "showbackground": true,
            "ticks": "",
            "zerolinecolor": "#EBF0F8"
           },
           "yaxis": {
            "backgroundcolor": "white",
            "gridcolor": "#DFE8F3",
            "gridwidth": 2,
            "linecolor": "#EBF0F8",
            "showbackground": true,
            "ticks": "",
            "zerolinecolor": "#EBF0F8"
           },
           "zaxis": {
            "backgroundcolor": "white",
            "gridcolor": "#DFE8F3",
            "gridwidth": 2,
            "linecolor": "#EBF0F8",
            "showbackground": true,
            "ticks": "",
            "zerolinecolor": "#EBF0F8"
           }
          },
          "shapedefaults": {
           "line": {
            "color": "#2a3f5f"
           }
          },
          "ternary": {
           "aaxis": {
            "gridcolor": "#DFE8F3",
            "linecolor": "#A2B1C6",
            "ticks": ""
           },
           "baxis": {
            "gridcolor": "#DFE8F3",
            "linecolor": "#A2B1C6",
            "ticks": ""
           },
           "bgcolor": "white",
           "caxis": {
            "gridcolor": "#DFE8F3",
            "linecolor": "#A2B1C6",
            "ticks": ""
           }
          },
          "title": {
           "x": 0.05
          },
          "xaxis": {
           "automargin": true,
           "gridcolor": "#EBF0F8",
           "linecolor": "#EBF0F8",
           "ticks": "",
           "title": {
            "standoff": 15
           },
           "zerolinecolor": "#EBF0F8",
           "zerolinewidth": 2
          },
          "yaxis": {
           "automargin": true,
           "gridcolor": "#EBF0F8",
           "linecolor": "#EBF0F8",
           "ticks": "",
           "title": {
            "standoff": 15
           },
           "zerolinecolor": "#EBF0F8",
           "zerolinewidth": 2
          }
         }
        },
        "title": {
         "text": "<b>Bus SK20BDV : ETA Time Series</b> - Line: 25"
        },
        "yaxis": {
         "nticks": 10,
         "title": {
          "text": "ETA in Seconds"
         },
         "zerolinecolor": "darkgrey"
        }
       }
      },
      "text/html": [
       "<div>                            <div id=\"ac6c8ec2-10d8-4300-84f5-7d255629a834\" class=\"plotly-graph-div\" style=\"height:525px; width:100%;\"></div>            <script type=\"text/javascript\">                require([\"plotly\"], function(Plotly) {                    window.PLOTLYENV=window.PLOTLYENV || {};                                    if (document.getElementById(\"ac6c8ec2-10d8-4300-84f5-7d255629a834\")) {                    Plotly.newPlot(                        \"ac6c8ec2-10d8-4300-84f5-7d255629a834\",                        [{\"hoverinfo\": \"text\", \"line\": {\"color\": \"#8c564b\", \"width\": 3}, \"mode\": \"lines+markers\", \"name\": \"[38] 490006827W\", \"text\": [\"<b>Bus : SK20BDV</b> <br>Stop[38]: 490006827W<br>Time : 18:39:41<br>ETA : 15\"], \"type\": \"scatter\", \"x\": [\"2021-02-06T18:39:41.245985\"], \"y\": [15]}, {\"hoverinfo\": \"text\", \"line\": {\"color\": \"#e377c2\", \"width\": 3}, \"mode\": \"lines+markers\", \"name\": \"[39] 490000004W\", \"text\": [\"<b>Bus : SK20BDV</b> <br>Stop[39]: 490000004W<br>Time : 18:40:07<br>ETA : 165\", \"<b>Bus : SK20BDV</b> <br>Stop[39]: 490000004W<br>Time : 18:41:38<br>ETA : 74\", \"<b>Bus : SK20BDV</b> <br>Stop[39]: 490000004W<br>Time : 18:42:08<br>ETA : 44\", \"<b>Bus : SK20BDV</b> <br>Stop[39]: 490000004W<br>Time : 18:42:38<br>ETA : 14\", \"<b>Bus : SK20BDV</b> <br>Stop[39]: 490000004W<br>Time : 18:43:07<br>ETA : 41\"], \"type\": \"scatter\", \"x\": [\"2021-02-06T18:40:07.698094\", \"2021-02-06T18:41:38.175405\", \"2021-02-06T18:42:08.026746\", \"2021-02-06T18:42:38.149985\", \"2021-02-06T18:43:07.916699\"], \"y\": [165, 74, 44, 14, 41]}, {\"hoverinfo\": \"text\", \"line\": {\"color\": \"#1f77b4\", \"width\": 3}, \"mode\": \"lines+markers\", \"name\": \"[40] 490000003R\", \"text\": [\"<b>Bus : SK20BDV</b> <br>Stop[40]: 490000003R<br>Time : 18:40:09<br>ETA : 293\", \"<b>Bus : SK20BDV</b> <br>Stop[40]: 490000003R<br>Time : 18:40:39<br>ETA : 263\", \"<b>Bus : SK20BDV</b> <br>Stop[40]: 490000003R<br>Time : 18:41:09<br>ETA : 233\", \"<b>Bus : SK20BDV</b> <br>Stop[40]: 490000003R<br>Time : 18:42:08<br>ETA : 174\", \"<b>Bus : SK20BDV</b> <br>Stop[40]: 490000003R<br>Time : 18:42:39<br>ETA : 143\", \"<b>Bus : SK20BDV</b> <br>Stop[40]: 490000003R<br>Time : 18:43:09<br>ETA : 113\"], \"type\": \"scatter\", \"x\": [\"2021-02-06T18:40:09.499366\", \"2021-02-06T18:40:39.763853\", \"2021-02-06T18:41:09.457187\", \"2021-02-06T18:42:08.953554\", \"2021-02-06T18:42:39.596178\", \"2021-02-06T18:43:09.820662\"], \"y\": [293, 263, 233, 174, 143, 113]}, {\"hoverinfo\": \"text\", \"line\": {\"color\": \"#2ca02c\", \"width\": 3}, \"mode\": \"lines+markers\", \"name\": \"[41] 490012755W\", \"text\": [\"<b>Bus : SK20BDV</b> <br>Stop[41]: 490012755W<br>Time : 18:40:09<br>ETA : 382\", \"<b>Bus : SK20BDV</b> <br>Stop[41]: 490012755W<br>Time : 18:43:09<br>ETA : 202\"], \"type\": \"scatter\", \"x\": [\"2021-02-06T18:40:09.541771\", \"2021-02-06T18:43:09.550589\"], \"y\": [382, 202]}, {\"hoverinfo\": \"text\", \"line\": {\"color\": \"#d62728\", \"width\": 3}, \"mode\": \"lines+markers\", \"name\": \"[42] 490012783W\", \"text\": [\"<b>Bus : SK20BDV</b> <br>Stop[42]: 490012783W<br>Time : 18:39:39<br>ETA : 532\", \"<b>Bus : SK20BDV</b> <br>Stop[42]: 490012783W<br>Time : 18:40:39<br>ETA : 472\", \"<b>Bus : SK20BDV</b> <br>Stop[42]: 490012783W<br>Time : 18:41:39<br>ETA : 346\", \"<b>Bus : SK20BDV</b> <br>Stop[42]: 490012783W<br>Time : 18:43:38<br>ETA : 227\", \"<b>Bus : SK20BDV</b> <br>Stop[42]: 490012783W<br>Time : 18:44:36<br>ETA : 136\", \"<b>Bus : SK20BDV</b> <br>Stop[42]: 490012783W<br>Time : 18:46:08<br>ETA : 44\", \"<b>Bus : SK20BDV</b> <br>Stop[42]: 490012783W<br>Time : 18:46:39<br>ETA : 13\"], \"type\": \"scatter\", \"x\": [\"2021-02-06T18:39:39.262997\", \"2021-02-06T18:40:39.103889\", \"2021-02-06T18:41:39.191015\", \"2021-02-06T18:43:38.383014\", \"2021-02-06T18:44:36.614198\", \"2021-02-06T18:46:08.976974\", \"2021-02-06T18:46:39.087896\"], \"y\": [532, 472, 346, 227, 136, 44, 13]}, {\"hoverinfo\": \"text\", \"line\": {\"color\": \"#bcbd22\", \"width\": 3}, \"mode\": \"lines+markers\", \"name\": \"[43] 490000013E\", \"text\": [\"<b>Bus : SK20BDV</b> <br>Stop[43]: 490000013E<br>Time : 18:40:40<br>ETA : 558\", \"<b>Bus : SK20BDV</b> <br>Stop[43]: 490000013E<br>Time : 18:44:41<br>ETA : 254\", \"<b>Bus : SK20BDV</b> <br>Stop[43]: 490000013E<br>Time : 18:46:10<br>ETA : 165\", \"<b>Bus : SK20BDV</b> <br>Stop[43]: 490000013E<br>Time : 18:48:10<br>ETA : 78\"], \"type\": \"scatter\", \"x\": [\"2021-02-06T18:40:40.830607\", \"2021-02-06T18:44:41.265882\", \"2021-02-06T18:46:10.231271\", \"2021-02-06T18:48:10.695444\"], \"y\": [558, 254, 165, 78]}, {\"hoverinfo\": \"text\", \"line\": {\"color\": \"#e377c2\", \"width\": 3}, \"mode\": \"lines+markers\", \"name\": \"[44] 490013195H\", \"text\": [\"<b>Bus : SK20BDV</b> <br>Stop[44]: 490013195H<br>Time : 18:40:38<br>ETA : 591\", \"<b>Bus : SK20BDV</b> <br>Stop[44]: 490013195H<br>Time : 18:41:08<br>ETA : 561\", \"<b>Bus : SK20BDV</b> <br>Stop[44]: 490013195H<br>Time : 18:42:08<br>ETA : 501\", \"<b>Bus : SK20BDV</b> <br>Stop[44]: 490013195H<br>Time : 18:42:38<br>ETA : 471\", \"<b>Bus : SK20BDV</b> <br>Stop[44]: 490013195H<br>Time : 18:43:09<br>ETA : 440\", \"<b>Bus : SK20BDV</b> <br>Stop[44]: 490013195H<br>Time : 18:43:38<br>ETA : 411\", \"<b>Bus : SK20BDV</b> <br>Stop[44]: 490013195H<br>Time : 18:44:09<br>ETA : 380\", \"<b>Bus : SK20BDV</b> <br>Stop[44]: 490013195H<br>Time : 18:45:08<br>ETA : 321\", \"<b>Bus : SK20BDV</b> <br>Stop[44]: 490013195H<br>Time : 18:45:39<br>ETA : 290\", \"<b>Bus : SK20BDV</b> <br>Stop[44]: 490013195H<br>Time : 18:47:08<br>ETA : 201\", \"<b>Bus : SK20BDV</b> <br>Stop[44]: 490013195H<br>Time : 18:47:38<br>ETA : 171\", \"<b>Bus : SK20BDV</b> <br>Stop[44]: 490013195H<br>Time : 18:48:38<br>ETA : 111\", \"<b>Bus : SK20BDV</b> <br>Stop[44]: 490013195H<br>Time : 18:49:38<br>ETA : 32\", \"<b>Bus : SK20BDV</b> <br>Stop[44]: 490013195H<br>Time : 18:50:09<br>ETA : 33\", \"<b>Bus : SK20BDV</b> <br>Stop[44]: 490013195H<br>Time : 18:50:39<br>ETA : 3\"], \"type\": \"scatter\", \"x\": [\"2021-02-06T18:40:38.651025\", \"2021-02-06T18:41:08.668158\", \"2021-02-06T18:42:08.256047\", \"2021-02-06T18:42:38.504882\", \"2021-02-06T18:43:09.001841\", \"2021-02-06T18:43:38.888960\", \"2021-02-06T18:44:09.114666\", \"2021-02-06T18:45:08.469754\", \"2021-02-06T18:45:39.170924\", \"2021-02-06T18:47:08.152854\", \"2021-02-06T18:47:38.795904\", \"2021-02-06T18:48:38.227376\", \"2021-02-06T18:49:38.818081\", \"2021-02-06T18:50:09.027057\", \"2021-02-06T18:50:39.926769\"], \"y\": [591, 561, 501, 471, 440, 411, 380, 321, 290, 201, 171, 111, 32, 33, 3]}],                        {\"hovermode\": \"closest\", \"legend\": {\"title\": {\"text\": \"<b>Destination Stop</b>\"}}, \"margin\": {\"b\": 0, \"l\": 0, \"r\": 0, \"t\": 40}, \"template\": {\"data\": {\"bar\": [{\"error_x\": {\"color\": \"#2a3f5f\"}, \"error_y\": {\"color\": \"#2a3f5f\"}, \"marker\": {\"line\": {\"color\": \"white\", \"width\": 0.5}}, \"type\": \"bar\"}], \"barpolar\": [{\"marker\": {\"line\": {\"color\": \"white\", \"width\": 0.5}}, \"type\": \"barpolar\"}], \"carpet\": [{\"aaxis\": {\"endlinecolor\": \"#2a3f5f\", \"gridcolor\": \"#C8D4E3\", \"linecolor\": \"#C8D4E3\", \"minorgridcolor\": \"#C8D4E3\", \"startlinecolor\": \"#2a3f5f\"}, \"baxis\": {\"endlinecolor\": \"#2a3f5f\", \"gridcolor\": \"#C8D4E3\", \"linecolor\": \"#C8D4E3\", \"minorgridcolor\": \"#C8D4E3\", \"startlinecolor\": \"#2a3f5f\"}, \"type\": \"carpet\"}], \"choropleth\": [{\"colorbar\": {\"outlinewidth\": 0, \"ticks\": \"\"}, \"type\": \"choropleth\"}], \"contour\": [{\"colorbar\": {\"outlinewidth\": 0, \"ticks\": \"\"}, \"colorscale\": [[0.0, \"#0d0887\"], [0.1111111111111111, \"#46039f\"], [0.2222222222222222, \"#7201a8\"], [0.3333333333333333, \"#9c179e\"], [0.4444444444444444, \"#bd3786\"], [0.5555555555555556, \"#d8576b\"], [0.6666666666666666, \"#ed7953\"], [0.7777777777777778, \"#fb9f3a\"], [0.8888888888888888, \"#fdca26\"], [1.0, \"#f0f921\"]], \"type\": \"contour\"}], \"contourcarpet\": [{\"colorbar\": {\"outlinewidth\": 0, \"ticks\": \"\"}, \"type\": \"contourcarpet\"}], \"heatmap\": [{\"colorbar\": {\"outlinewidth\": 0, \"ticks\": \"\"}, \"colorscale\": [[0.0, \"#0d0887\"], [0.1111111111111111, \"#46039f\"], [0.2222222222222222, \"#7201a8\"], [0.3333333333333333, \"#9c179e\"], [0.4444444444444444, \"#bd3786\"], [0.5555555555555556, \"#d8576b\"], [0.6666666666666666, \"#ed7953\"], [0.7777777777777778, \"#fb9f3a\"], [0.8888888888888888, \"#fdca26\"], [1.0, \"#f0f921\"]], \"type\": \"heatmap\"}], \"heatmapgl\": [{\"colorbar\": {\"outlinewidth\": 0, \"ticks\": \"\"}, \"colorscale\": [[0.0, \"#0d0887\"], [0.1111111111111111, \"#46039f\"], [0.2222222222222222, \"#7201a8\"], [0.3333333333333333, \"#9c179e\"], [0.4444444444444444, \"#bd3786\"], [0.5555555555555556, \"#d8576b\"], [0.6666666666666666, \"#ed7953\"], [0.7777777777777778, \"#fb9f3a\"], [0.8888888888888888, \"#fdca26\"], [1.0, \"#f0f921\"]], \"type\": \"heatmapgl\"}], \"histogram\": [{\"marker\": {\"colorbar\": {\"outlinewidth\": 0, \"ticks\": \"\"}}, \"type\": \"histogram\"}], \"histogram2d\": [{\"colorbar\": {\"outlinewidth\": 0, \"ticks\": \"\"}, \"colorscale\": [[0.0, \"#0d0887\"], [0.1111111111111111, \"#46039f\"], [0.2222222222222222, \"#7201a8\"], [0.3333333333333333, \"#9c179e\"], [0.4444444444444444, \"#bd3786\"], [0.5555555555555556, \"#d8576b\"], [0.6666666666666666, \"#ed7953\"], [0.7777777777777778, \"#fb9f3a\"], [0.8888888888888888, \"#fdca26\"], [1.0, \"#f0f921\"]], \"type\": \"histogram2d\"}], \"histogram2dcontour\": [{\"colorbar\": {\"outlinewidth\": 0, \"ticks\": \"\"}, \"colorscale\": [[0.0, \"#0d0887\"], [0.1111111111111111, \"#46039f\"], [0.2222222222222222, \"#7201a8\"], [0.3333333333333333, \"#9c179e\"], [0.4444444444444444, \"#bd3786\"], [0.5555555555555556, \"#d8576b\"], [0.6666666666666666, \"#ed7953\"], [0.7777777777777778, \"#fb9f3a\"], [0.8888888888888888, \"#fdca26\"], [1.0, \"#f0f921\"]], \"type\": \"histogram2dcontour\"}], \"mesh3d\": [{\"colorbar\": {\"outlinewidth\": 0, \"ticks\": \"\"}, \"type\": \"mesh3d\"}], \"parcoords\": [{\"line\": {\"colorbar\": {\"outlinewidth\": 0, \"ticks\": \"\"}}, \"type\": \"parcoords\"}], \"pie\": [{\"automargin\": true, \"type\": \"pie\"}], \"scatter\": [{\"marker\": {\"colorbar\": {\"outlinewidth\": 0, \"ticks\": \"\"}}, \"type\": \"scatter\"}], \"scatter3d\": [{\"line\": {\"colorbar\": {\"outlinewidth\": 0, \"ticks\": \"\"}}, \"marker\": {\"colorbar\": {\"outlinewidth\": 0, \"ticks\": \"\"}}, \"type\": \"scatter3d\"}], \"scattercarpet\": [{\"marker\": {\"colorbar\": {\"outlinewidth\": 0, \"ticks\": \"\"}}, \"type\": \"scattercarpet\"}], \"scattergeo\": [{\"marker\": {\"colorbar\": {\"outlinewidth\": 0, \"ticks\": \"\"}}, \"type\": \"scattergeo\"}], \"scattergl\": [{\"marker\": {\"colorbar\": {\"outlinewidth\": 0, \"ticks\": \"\"}}, \"type\": \"scattergl\"}], \"scattermapbox\": [{\"marker\": {\"colorbar\": {\"outlinewidth\": 0, \"ticks\": \"\"}}, \"type\": \"scattermapbox\"}], \"scatterpolar\": [{\"marker\": {\"colorbar\": {\"outlinewidth\": 0, \"ticks\": \"\"}}, \"type\": \"scatterpolar\"}], \"scatterpolargl\": [{\"marker\": {\"colorbar\": {\"outlinewidth\": 0, \"ticks\": \"\"}}, \"type\": \"scatterpolargl\"}], \"scatterternary\": [{\"marker\": {\"colorbar\": {\"outlinewidth\": 0, \"ticks\": \"\"}}, \"type\": \"scatterternary\"}], \"surface\": [{\"colorbar\": {\"outlinewidth\": 0, \"ticks\": \"\"}, \"colorscale\": [[0.0, \"#0d0887\"], [0.1111111111111111, \"#46039f\"], [0.2222222222222222, \"#7201a8\"], [0.3333333333333333, \"#9c179e\"], [0.4444444444444444, \"#bd3786\"], [0.5555555555555556, \"#d8576b\"], [0.6666666666666666, \"#ed7953\"], [0.7777777777777778, \"#fb9f3a\"], [0.8888888888888888, \"#fdca26\"], [1.0, \"#f0f921\"]], \"type\": \"surface\"}], \"table\": [{\"cells\": {\"fill\": {\"color\": \"#EBF0F8\"}, \"line\": {\"color\": \"white\"}}, \"header\": {\"fill\": {\"color\": \"#C8D4E3\"}, \"line\": {\"color\": \"white\"}}, \"type\": \"table\"}]}, \"layout\": {\"annotationdefaults\": {\"arrowcolor\": \"#2a3f5f\", \"arrowhead\": 0, \"arrowwidth\": 1}, \"autotypenumbers\": \"strict\", \"coloraxis\": {\"colorbar\": {\"outlinewidth\": 0, \"ticks\": \"\"}}, \"colorscale\": {\"diverging\": [[0, \"#8e0152\"], [0.1, \"#c51b7d\"], [0.2, \"#de77ae\"], [0.3, \"#f1b6da\"], [0.4, \"#fde0ef\"], [0.5, \"#f7f7f7\"], [0.6, \"#e6f5d0\"], [0.7, \"#b8e186\"], [0.8, \"#7fbc41\"], [0.9, \"#4d9221\"], [1, \"#276419\"]], \"sequential\": [[0.0, \"#0d0887\"], [0.1111111111111111, \"#46039f\"], [0.2222222222222222, \"#7201a8\"], [0.3333333333333333, \"#9c179e\"], [0.4444444444444444, \"#bd3786\"], [0.5555555555555556, \"#d8576b\"], [0.6666666666666666, \"#ed7953\"], [0.7777777777777778, \"#fb9f3a\"], [0.8888888888888888, \"#fdca26\"], [1.0, \"#f0f921\"]], \"sequentialminus\": [[0.0, \"#0d0887\"], [0.1111111111111111, \"#46039f\"], [0.2222222222222222, \"#7201a8\"], [0.3333333333333333, \"#9c179e\"], [0.4444444444444444, \"#bd3786\"], [0.5555555555555556, \"#d8576b\"], [0.6666666666666666, \"#ed7953\"], [0.7777777777777778, \"#fb9f3a\"], [0.8888888888888888, \"#fdca26\"], [1.0, \"#f0f921\"]]}, \"colorway\": [\"#636efa\", \"#EF553B\", \"#00cc96\", \"#ab63fa\", \"#FFA15A\", \"#19d3f3\", \"#FF6692\", \"#B6E880\", \"#FF97FF\", \"#FECB52\"], \"font\": {\"color\": \"#2a3f5f\"}, \"geo\": {\"bgcolor\": \"white\", \"lakecolor\": \"white\", \"landcolor\": \"white\", \"showlakes\": true, \"showland\": true, \"subunitcolor\": \"#C8D4E3\"}, \"hoverlabel\": {\"align\": \"left\"}, \"hovermode\": \"closest\", \"mapbox\": {\"style\": \"light\"}, \"paper_bgcolor\": \"white\", \"plot_bgcolor\": \"white\", \"polar\": {\"angularaxis\": {\"gridcolor\": \"#EBF0F8\", \"linecolor\": \"#EBF0F8\", \"ticks\": \"\"}, \"bgcolor\": \"white\", \"radialaxis\": {\"gridcolor\": \"#EBF0F8\", \"linecolor\": \"#EBF0F8\", \"ticks\": \"\"}}, \"scene\": {\"xaxis\": {\"backgroundcolor\": \"white\", \"gridcolor\": \"#DFE8F3\", \"gridwidth\": 2, \"linecolor\": \"#EBF0F8\", \"showbackground\": true, \"ticks\": \"\", \"zerolinecolor\": \"#EBF0F8\"}, \"yaxis\": {\"backgroundcolor\": \"white\", \"gridcolor\": \"#DFE8F3\", \"gridwidth\": 2, \"linecolor\": \"#EBF0F8\", \"showbackground\": true, \"ticks\": \"\", \"zerolinecolor\": \"#EBF0F8\"}, \"zaxis\": {\"backgroundcolor\": \"white\", \"gridcolor\": \"#DFE8F3\", \"gridwidth\": 2, \"linecolor\": \"#EBF0F8\", \"showbackground\": true, \"ticks\": \"\", \"zerolinecolor\": \"#EBF0F8\"}}, \"shapedefaults\": {\"line\": {\"color\": \"#2a3f5f\"}}, \"ternary\": {\"aaxis\": {\"gridcolor\": \"#DFE8F3\", \"linecolor\": \"#A2B1C6\", \"ticks\": \"\"}, \"baxis\": {\"gridcolor\": \"#DFE8F3\", \"linecolor\": \"#A2B1C6\", \"ticks\": \"\"}, \"bgcolor\": \"white\", \"caxis\": {\"gridcolor\": \"#DFE8F3\", \"linecolor\": \"#A2B1C6\", \"ticks\": \"\"}}, \"title\": {\"x\": 0.05}, \"xaxis\": {\"automargin\": true, \"gridcolor\": \"#EBF0F8\", \"linecolor\": \"#EBF0F8\", \"ticks\": \"\", \"title\": {\"standoff\": 15}, \"zerolinecolor\": \"#EBF0F8\", \"zerolinewidth\": 2}, \"yaxis\": {\"automargin\": true, \"gridcolor\": \"#EBF0F8\", \"linecolor\": \"#EBF0F8\", \"ticks\": \"\", \"title\": {\"standoff\": 15}, \"zerolinecolor\": \"#EBF0F8\", \"zerolinewidth\": 2}}}, \"title\": {\"text\": \"<b>Bus SK20BDV : ETA Time Series</b> - Line: 25\"}, \"yaxis\": {\"nticks\": 10, \"title\": {\"text\": \"ETA in Seconds\"}, \"zerolinecolor\": \"darkgrey\"}},                        {\"responsive\": true}                    ).then(function(){\n",
       "                            \n",
       "var gd = document.getElementById('ac6c8ec2-10d8-4300-84f5-7d255629a834');\n",
       "var x = new MutationObserver(function (mutations, observer) {{\n",
       "        var display = window.getComputedStyle(gd).display;\n",
       "        if (!display || display === 'none') {{\n",
       "            console.log([gd, 'removed!']);\n",
       "            Plotly.purge(gd);\n",
       "            observer.disconnect();\n",
       "        }}\n",
       "}});\n",
       "\n",
       "// Listen for the removal of the full notebook cells\n",
       "var notebookContainer = gd.closest('#notebook-container');\n",
       "if (notebookContainer) {{\n",
       "    x.observe(notebookContainer, {childList: true});\n",
       "}}\n",
       "\n",
       "// Listen for the clearing of the current output cell\n",
       "var outputEl = gd.closest('.output');\n",
       "if (outputEl) {{\n",
       "    x.observe(outputEl, {childList: true});\n",
       "}}\n",
       "\n",
       "                        })                };                });            </script>        </div>"
      ]
     },
     "metadata": {},
     "output_type": "display_data"
    }
   ],
   "source": [
    "bus_id = 'SK20BDV'\n",
    "build_time_series_graph(th_df, TH, bus_id).show()"
   ]
  },
  {
   "cell_type": "code",
   "execution_count": 65,
   "metadata": {},
   "outputs": [
    {
     "data": {
      "application/vnd.plotly.v1+json": {
       "config": {
        "plotlyServerURL": "https://plot.ly"
       },
       "data": [
        {
         "hoverinfo": "text",
         "line": {
          "color": "#7f7f7f",
          "width": 3
         },
         "mode": "lines+markers",
         "name": "[6] 490014387E2",
         "text": [
          "<b>Bus : BF67GKP</b> <br>Stop[6]: 490014387E2<br>Time : 18:39:39<br>ETA : 2"
         ],
         "type": "scatter",
         "x": [
          "2021-02-06T18:39:39.314451"
         ],
         "y": [
          2
         ]
        },
        {
         "hoverinfo": "text",
         "line": {
          "color": "#e377c2",
          "width": 3
         },
         "mode": "lines+markers",
         "name": "[7] 490014315N1",
         "text": [
          "<b>Bus : BF67GKP</b> <br>Stop[7]: 490014315N1<br>Time : 18:40:40<br>ETA : 18"
         ],
         "type": "scatter",
         "x": [
          "2021-02-06T18:40:40.998173"
         ],
         "y": [
          18
         ]
        },
        {
         "hoverinfo": "text",
         "line": {
          "color": "#2ca02c",
          "width": 3
         },
         "mode": "lines+markers",
         "name": "[9] 490007867E",
         "text": [
          "<b>Bus : BF67GKP</b> <br>Stop[9]: 490007867E<br>Time : 18:39:40<br>ETA : 299",
          "<b>Bus : BF67GKP</b> <br>Stop[9]: 490007867E<br>Time : 18:41:09<br>ETA : 210",
          "<b>Bus : BF67GKP</b> <br>Stop[9]: 490007867E<br>Time : 18:41:39<br>ETA : 180",
          "<b>Bus : BF67GKP</b> <br>Stop[9]: 490007867E<br>Time : 18:43:10<br>ETA : 155",
          "<b>Bus : BF67GKP</b> <br>Stop[9]: 490007867E<br>Time : 18:45:10<br>ETA : 35"
         ],
         "type": "scatter",
         "x": [
          "2021-02-06T18:39:40.516096",
          "2021-02-06T18:41:09.855650",
          "2021-02-06T18:41:39.860482",
          "2021-02-06T18:43:10.291667",
          "2021-02-06T18:45:10.218371"
         ],
         "y": [
          299,
          210,
          180,
          155,
          35
         ]
        },
        {
         "hoverinfo": "text",
         "line": {
          "color": "#1f77b4",
          "width": 3
         },
         "mode": "lines+markers",
         "name": "[10] 490014975E",
         "text": [
          "<b>Bus : BF67GKP</b> <br>Stop[10]: 490014975E<br>Time : 18:39:40<br>ETA : 346",
          "<b>Bus : BF67GKP</b> <br>Stop[10]: 490014975E<br>Time : 18:41:09<br>ETA : 257",
          "<b>Bus : BF67GKP</b> <br>Stop[10]: 490014975E<br>Time : 18:41:39<br>ETA : 227",
          "<b>Bus : BF67GKP</b> <br>Stop[10]: 490014975E<br>Time : 18:42:09<br>ETA : 229",
          "<b>Bus : BF67GKP</b> <br>Stop[10]: 490014975E<br>Time : 18:42:40<br>ETA : 229",
          "<b>Bus : BF67GKP</b> <br>Stop[10]: 490014975E<br>Time : 18:43:10<br>ETA : 199",
          "<b>Bus : BF67GKP</b> <br>Stop[10]: 490014975E<br>Time : 18:43:39<br>ETA : 170",
          "<b>Bus : BF67GKP</b> <br>Stop[10]: 490014975E<br>Time : 18:44:10<br>ETA : 139",
          "<b>Bus : BF67GKP</b> <br>Stop[10]: 490014975E<br>Time : 18:44:41<br>ETA : 108",
          "<b>Bus : BF67GKP</b> <br>Stop[10]: 490014975E<br>Time : 18:45:09<br>ETA : 80",
          "<b>Bus : BF67GKP</b> <br>Stop[10]: 490014975E<br>Time : 18:46:10<br>ETA : 19"
         ],
         "type": "scatter",
         "x": [
          "2021-02-06T18:39:40.887994",
          "2021-02-06T18:41:09.667183",
          "2021-02-06T18:41:39.681609",
          "2021-02-06T18:42:09.912226",
          "2021-02-06T18:42:40.249712",
          "2021-02-06T18:43:10.108385",
          "2021-02-06T18:43:39.963182",
          "2021-02-06T18:44:10.703819",
          "2021-02-06T18:44:41.062761",
          "2021-02-06T18:45:09.999163",
          "2021-02-06T18:46:10.383207"
         ],
         "y": [
          346,
          257,
          227,
          229,
          229,
          199,
          170,
          139,
          108,
          80,
          19
         ]
        },
        {
         "hoverinfo": "text",
         "line": {
          "color": "#7f7f7f",
          "width": 3
         },
         "mode": "lines+markers",
         "name": "[11] 490010337D",
         "text": [
          "<b>Bus : BF67GKP</b> <br>Stop[11]: 490010337D<br>Time : 18:39:41<br>ETA : 415",
          "<b>Bus : BF67GKP</b> <br>Stop[11]: 490010337D<br>Time : 18:40:41<br>ETA : 355",
          "<b>Bus : BF67GKP</b> <br>Stop[11]: 490010337D<br>Time : 18:41:10<br>ETA : 326",
          "<b>Bus : BF67GKP</b> <br>Stop[11]: 490010337D<br>Time : 18:42:10<br>ETA : 266",
          "<b>Bus : BF67GKP</b> <br>Stop[11]: 490010337D<br>Time : 18:43:10<br>ETA : 257",
          "<b>Bus : BF67GKP</b> <br>Stop[11]: 490010337D<br>Time : 18:43:40<br>ETA : 227",
          "<b>Bus : BF67GKP</b> <br>Stop[11]: 490010337D<br>Time : 18:44:10<br>ETA : 197",
          "<b>Bus : BF67GKP</b> <br>Stop[11]: 490010337D<br>Time : 18:44:42<br>ETA : 165",
          "<b>Bus : BF67GKP</b> <br>Stop[11]: 490010337D<br>Time : 18:45:10<br>ETA : 137",
          "<b>Bus : BF67GKP</b> <br>Stop[11]: 490010337D<br>Time : 18:45:40<br>ETA : 107",
          "<b>Bus : BF67GKP</b> <br>Stop[11]: 490010337D<br>Time : 18:46:11<br>ETA : 76",
          "<b>Bus : BF67GKP</b> <br>Stop[11]: 490010337D<br>Time : 18:47:10<br>ETA : 4"
         ],
         "type": "scatter",
         "x": [
          "2021-02-06T18:39:41.544234",
          "2021-02-06T18:40:41.582700",
          "2021-02-06T18:41:10.910281",
          "2021-02-06T18:42:10.565510",
          "2021-02-06T18:43:10.224877",
          "2021-02-06T18:43:40.143195",
          "2021-02-06T18:44:10.749975",
          "2021-02-06T18:44:42.946780",
          "2021-02-06T18:45:10.342908",
          "2021-02-06T18:45:40.948577",
          "2021-02-06T18:46:11.079424",
          "2021-02-06T18:47:10.443993"
         ],
         "y": [
          415,
          355,
          326,
          266,
          257,
          227,
          197,
          165,
          137,
          107,
          76,
          4
         ]
        },
        {
         "hoverinfo": "text",
         "line": {
          "color": "#bcbd22",
          "width": 3
         },
         "mode": "lines+markers",
         "name": "[12] 490010332J",
         "text": [
          "<b>Bus : BF67GKP</b> <br>Stop[12]: 490010332J<br>Time : 18:39:40<br>ETA : 483",
          "<b>Bus : BF67GKP</b> <br>Stop[12]: 490010332J<br>Time : 18:41:09<br>ETA : 394",
          "<b>Bus : BF67GKP</b> <br>Stop[12]: 490010332J<br>Time : 18:41:40<br>ETA : 363",
          "<b>Bus : BF67GKP</b> <br>Stop[12]: 490010332J<br>Time : 18:42:40<br>ETA : 303",
          "<b>Bus : BF67GKP</b> <br>Stop[12]: 490010332J<br>Time : 18:43:10<br>ETA : 273",
          "<b>Bus : BF67GKP</b> <br>Stop[12]: 490010332J<br>Time : 18:44:10<br>ETA : 262",
          "<b>Bus : BF67GKP</b> <br>Stop[12]: 490010332J<br>Time : 18:45:40<br>ETA : 172",
          "<b>Bus : BF67GKP</b> <br>Stop[12]: 490010332J<br>Time : 18:46:09<br>ETA : 143",
          "<b>Bus : BF67GKP</b> <br>Stop[12]: 490010332J<br>Time : 18:47:39<br>ETA : 53",
          "<b>Bus : BF67GKP</b> <br>Stop[12]: 490010332J<br>Time : 18:48:39<br>ETA : 17"
         ],
         "type": "scatter",
         "x": [
          "2021-02-06T18:39:40.200495",
          "2021-02-06T18:41:09.555130",
          "2021-02-06T18:41:40.112867",
          "2021-02-06T18:42:40.056167",
          "2021-02-06T18:43:10.095567",
          "2021-02-06T18:44:10.250700",
          "2021-02-06T18:45:40.280278",
          "2021-02-06T18:46:09.932323",
          "2021-02-06T18:47:39.307862",
          "2021-02-06T18:48:39.227336"
         ],
         "y": [
          483,
          394,
          363,
          303,
          273,
          262,
          172,
          143,
          53,
          17
         ]
        },
        {
         "hoverinfo": "text",
         "line": {
          "color": "#e377c2",
          "width": 3
         },
         "mode": "lines+markers",
         "name": "[14] 490012847E",
         "text": [
          "<b>Bus : BF67GKP</b> <br>Stop[14]: 490012847E<br>Time : 18:39:38<br>ETA : 563",
          "<b>Bus : BF67GKP</b> <br>Stop[14]: 490012847E<br>Time : 18:40:37<br>ETA : 504",
          "<b>Bus : BF67GKP</b> <br>Stop[14]: 490012847E<br>Time : 18:43:08<br>ETA : 353"
         ],
         "type": "scatter",
         "x": [
          "2021-02-06T18:39:38.016188",
          "2021-02-06T18:40:37.402841",
          "2021-02-06T18:43:08.158111"
         ],
         "y": [
          563,
          504,
          353
         ]
        },
        {
         "hoverinfo": "text",
         "line": {
          "color": "#7f7f7f",
          "width": 3
         },
         "mode": "lines+markers",
         "name": "[15] 490012848E",
         "text": [
          "<b>Bus : BF67GKP</b> <br>Stop[15]: 490012848E<br>Time : 18:39:37<br>ETA : 627",
          "<b>Bus : BF67GKP</b> <br>Stop[15]: 490012848E<br>Time : 18:40:07<br>ETA : 597",
          "<b>Bus : BF67GKP</b> <br>Stop[15]: 490012848E<br>Time : 18:40:38<br>ETA : 566",
          "<b>Bus : BF67GKP</b> <br>Stop[15]: 490012848E<br>Time : 18:42:07<br>ETA : 477",
          "<b>Bus : BF67GKP</b> <br>Stop[15]: 490012848E<br>Time : 18:42:37<br>ETA : 447",
          "<b>Bus : BF67GKP</b> <br>Stop[15]: 490012848E<br>Time : 18:43:38<br>ETA : 386",
          "<b>Bus : BF67GKP</b> <br>Stop[15]: 490012848E<br>Time : 18:44:37<br>ETA : 387",
          "<b>Bus : BF67GKP</b> <br>Stop[15]: 490012848E<br>Time : 18:45:37<br>ETA : 327",
          "<b>Bus : BF67GKP</b> <br>Stop[15]: 490012848E<br>Time : 18:46:07<br>ETA : 297",
          "<b>Bus : BF67GKP</b> <br>Stop[15]: 490012848E<br>Time : 18:47:07<br>ETA : 237",
          "<b>Bus : BF67GKP</b> <br>Stop[15]: 490012848E<br>Time : 18:47:37<br>ETA : 207",
          "<b>Bus : BF67GKP</b> <br>Stop[15]: 490012848E<br>Time : 18:48:07<br>ETA : 177",
          "<b>Bus : BF67GKP</b> <br>Stop[15]: 490012848E<br>Time : 18:49:37<br>ETA : 24"
         ],
         "type": "scatter",
         "x": [
          "2021-02-06T18:39:37.903649",
          "2021-02-06T18:40:07.768876",
          "2021-02-06T18:40:38.051523",
          "2021-02-06T18:42:07.609828",
          "2021-02-06T18:42:37.904616",
          "2021-02-06T18:43:38.063798",
          "2021-02-06T18:44:37.853091",
          "2021-02-06T18:45:37.821106",
          "2021-02-06T18:46:07.907868",
          "2021-02-06T18:47:07.983509",
          "2021-02-06T18:47:37.710259",
          "2021-02-06T18:48:07.570561",
          "2021-02-06T18:49:37.567153"
         ],
         "y": [
          627,
          597,
          566,
          477,
          447,
          386,
          387,
          327,
          297,
          237,
          207,
          177,
          24
         ]
        },
        {
         "hoverinfo": "text",
         "line": {
          "color": "#ff7f0e",
          "width": 3
         },
         "mode": "lines+markers",
         "name": "[16] 490008865E",
         "text": [
          "<b>Bus : BF67GKP</b> <br>Stop[16]: 490008865E<br>Time : 18:39:38<br>ETA : 695",
          "<b>Bus : BF67GKP</b> <br>Stop[16]: 490008865E<br>Time : 18:40:38<br>ETA : 635",
          "<b>Bus : BF67GKP</b> <br>Stop[16]: 490008865E<br>Time : 18:42:08<br>ETA : 545",
          "<b>Bus : BF67GKP</b> <br>Stop[16]: 490008865E<br>Time : 18:43:08<br>ETA : 485",
          "<b>Bus : BF67GKP</b> <br>Stop[16]: 490008865E<br>Time : 18:43:38<br>ETA : 455",
          "<b>Bus : BF67GKP</b> <br>Stop[16]: 490008865E<br>Time : 18:44:38<br>ETA : 464",
          "<b>Bus : BF67GKP</b> <br>Stop[16]: 490008865E<br>Time : 18:45:08<br>ETA : 434",
          "<b>Bus : BF67GKP</b> <br>Stop[16]: 490008865E<br>Time : 18:46:08<br>ETA : 374",
          "<b>Bus : BF67GKP</b> <br>Stop[16]: 490008865E<br>Time : 18:46:38<br>ETA : 344",
          "<b>Bus : BF67GKP</b> <br>Stop[16]: 490008865E<br>Time : 18:47:08<br>ETA : 272",
          "<b>Bus : BF67GKP</b> <br>Stop[16]: 490008865E<br>Time : 18:48:09<br>ETA : 211",
          "<b>Bus : BF67GKP</b> <br>Stop[16]: 490008865E<br>Time : 18:48:38<br>ETA : 221",
          "<b>Bus : BF67GKP</b> <br>Stop[16]: 490008865E<br>Time : 18:49:39<br>ETA : 74",
          "<b>Bus : BF67GKP</b> <br>Stop[16]: 490008865E<br>Time : 18:50:08<br>ETA : 45"
         ],
         "type": "scatter",
         "x": [
          "2021-02-06T18:39:38.280238",
          "2021-02-06T18:40:38.824777",
          "2021-02-06T18:42:08.799984",
          "2021-02-06T18:43:08.572939",
          "2021-02-06T18:43:38.083136",
          "2021-02-06T18:44:38.268206",
          "2021-02-06T18:45:08.342988",
          "2021-02-06T18:46:08.325089",
          "2021-02-06T18:46:38.466232",
          "2021-02-06T18:47:08.811604",
          "2021-02-06T18:48:09.230634",
          "2021-02-06T18:48:38.522628",
          "2021-02-06T18:49:39.010218",
          "2021-02-06T18:50:08.976655"
         ],
         "y": [
          695,
          635,
          545,
          485,
          455,
          464,
          434,
          374,
          344,
          272,
          211,
          221,
          74,
          45
         ]
        },
        {
         "hoverinfo": "text",
         "line": {
          "color": "#bcbd22",
          "width": 3
         },
         "mode": "lines+markers",
         "name": "[18] 490012803E",
         "text": [
          "<b>Bus : BF67GKP</b> <br>Stop[18]: 490012803E<br>Time : 18:39:38<br>ETA : 834",
          "<b>Bus : BF67GKP</b> <br>Stop[18]: 490012803E<br>Time : 18:40:38<br>ETA : 774",
          "<b>Bus : BF67GKP</b> <br>Stop[18]: 490012803E<br>Time : 18:41:38<br>ETA : 714",
          "<b>Bus : BF67GKP</b> <br>Stop[18]: 490012803E<br>Time : 18:42:38<br>ETA : 654",
          "<b>Bus : BF67GKP</b> <br>Stop[18]: 490012803E<br>Time : 18:43:38<br>ETA : 594",
          "<b>Bus : BF67GKP</b> <br>Stop[18]: 490012803E<br>Time : 18:44:38<br>ETA : 534",
          "<b>Bus : BF67GKP</b> <br>Stop[18]: 490012803E<br>Time : 18:46:38<br>ETA : 414",
          "<b>Bus : BF67GKP</b> <br>Stop[18]: 490012803E<br>Time : 18:47:38<br>ETA : 354",
          "<b>Bus : BF67GKP</b> <br>Stop[18]: 490012803E<br>Time : 18:50:08<br>ETA : 214",
          "<b>Bus : BF67GKP</b> <br>Stop[18]: 490012803E<br>Time : 18:50:39<br>ETA : 143",
          "<b>Bus : BF67GKP</b> <br>Stop[18]: 490012803E<br>Time : 18:52:08<br>ETA : 54"
         ],
         "type": "scatter",
         "x": [
          "2021-02-06T18:39:38.464774",
          "2021-02-06T18:40:38.690025",
          "2021-02-06T18:41:38.542871",
          "2021-02-06T18:42:38.752399",
          "2021-02-06T18:43:38.782537",
          "2021-02-06T18:44:38.375371",
          "2021-02-06T18:46:38.355207",
          "2021-02-06T18:47:38.445898",
          "2021-02-06T18:50:08.130026",
          "2021-02-06T18:50:39.035038",
          "2021-02-06T18:52:08.798964"
         ],
         "y": [
          834,
          774,
          714,
          654,
          594,
          534,
          414,
          354,
          214,
          143,
          54
         ]
        },
        {
         "hoverinfo": "text",
         "line": {
          "color": "#2ca02c",
          "width": 3
         },
         "mode": "lines+markers",
         "name": "[19] 490009571A",
         "text": [
          "<b>Bus : BF67GKP</b> <br>Stop[19]: 490009571A<br>Time : 18:40:08<br>ETA : 895",
          "<b>Bus : BF67GKP</b> <br>Stop[19]: 490009571A<br>Time : 18:41:39<br>ETA : 804",
          "<b>Bus : BF67GKP</b> <br>Stop[19]: 490009571A<br>Time : 18:42:39<br>ETA : 744",
          "<b>Bus : BF67GKP</b> <br>Stop[19]: 490009571A<br>Time : 18:44:09<br>ETA : 654",
          "<b>Bus : BF67GKP</b> <br>Stop[19]: 490009571A<br>Time : 18:45:39<br>ETA : 564",
          "<b>Bus : BF67GKP</b> <br>Stop[19]: 490009571A<br>Time : 18:46:08<br>ETA : 535",
          "<b>Bus : BF67GKP</b> <br>Stop[19]: 490009571A<br>Time : 18:47:09<br>ETA : 474",
          "<b>Bus : BF67GKP</b> <br>Stop[19]: 490009571A<br>Time : 18:47:39<br>ETA : 444",
          "<b>Bus : BF67GKP</b> <br>Stop[19]: 490009571A<br>Time : 18:48:09<br>ETA : 489",
          "<b>Bus : BF67GKP</b> <br>Stop[19]: 490009571A<br>Time : 18:49:38<br>ETA : 332",
          "<b>Bus : BF67GKP</b> <br>Stop[19]: 490009571A<br>Time : 18:50:09<br>ETA : 301",
          "<b>Bus : BF67GKP</b> <br>Stop[19]: 490009571A<br>Time : 18:51:11<br>ETA : 239",
          "<b>Bus : BF67GKP</b> <br>Stop[19]: 490009571A<br>Time : 18:51:39<br>ETA : 211",
          "<b>Bus : BF67GKP</b> <br>Stop[19]: 490009571A<br>Time : 18:52:09<br>ETA : 181",
          "<b>Bus : BF67GKP</b> <br>Stop[19]: 490009571A<br>Time : 18:53:39<br>ETA : 91"
         ],
         "type": "scatter",
         "x": [
          "2021-02-06T18:40:08.935248",
          "2021-02-06T18:41:39.298004",
          "2021-02-06T18:42:39.526421",
          "2021-02-06T18:44:09.584019",
          "2021-02-06T18:45:39.479917",
          "2021-02-06T18:46:08.920844",
          "2021-02-06T18:47:09.197783",
          "2021-02-06T18:47:39.492748",
          "2021-02-06T18:48:09.941902",
          "2021-02-06T18:49:38.928061",
          "2021-02-06T18:50:09.129984",
          "2021-02-06T18:51:11.738875",
          "2021-02-06T18:51:39.285409",
          "2021-02-06T18:52:09.125156",
          "2021-02-06T18:53:39.043436"
         ],
         "y": [
          895,
          804,
          744,
          654,
          564,
          535,
          474,
          444,
          489,
          332,
          301,
          239,
          211,
          181,
          91
         ]
        },
        {
         "hoverinfo": "text",
         "line": {
          "color": "#d62728",
          "width": 3
         },
         "mode": "lines+markers",
         "name": "[21] 490005491E",
         "text": [
          "<b>Bus : BF67GKP</b> <br>Stop[21]: 490005491E<br>Time : 18:39:37<br>ETA : 1180",
          "<b>Bus : BF67GKP</b> <br>Stop[21]: 490005491E<br>Time : 18:40:08<br>ETA : 1149",
          "<b>Bus : BF67GKP</b> <br>Stop[21]: 490005491E<br>Time : 18:41:08<br>ETA : 1089",
          "<b>Bus : BF67GKP</b> <br>Stop[21]: 490005491E<br>Time : 18:41:37<br>ETA : 1060",
          "<b>Bus : BF67GKP</b> <br>Stop[21]: 490005491E<br>Time : 18:42:08<br>ETA : 1029",
          "<b>Bus : BF67GKP</b> <br>Stop[21]: 490005491E<br>Time : 18:43:07<br>ETA : 970",
          "<b>Bus : BF67GKP</b> <br>Stop[21]: 490005491E<br>Time : 18:43:37<br>ETA : 940",
          "<b>Bus : BF67GKP</b> <br>Stop[21]: 490005491E<br>Time : 18:44:37<br>ETA : 880",
          "<b>Bus : BF67GKP</b> <br>Stop[21]: 490005491E<br>Time : 18:45:08<br>ETA : 849",
          "<b>Bus : BF67GKP</b> <br>Stop[21]: 490005491E<br>Time : 18:45:38<br>ETA : 819",
          "<b>Bus : BF67GKP</b> <br>Stop[21]: 490005491E<br>Time : 18:46:07<br>ETA : 790",
          "<b>Bus : BF67GKP</b> <br>Stop[21]: 490005491E<br>Time : 18:47:07<br>ETA : 730",
          "<b>Bus : BF67GKP</b> <br>Stop[21]: 490005491E<br>Time : 18:47:37<br>ETA : 700",
          "<b>Bus : BF67GKP</b> <br>Stop[21]: 490005491E<br>Time : 18:48:08<br>ETA : 669",
          "<b>Bus : BF67GKP</b> <br>Stop[21]: 490005491E<br>Time : 18:48:38<br>ETA : 639",
          "<b>Bus : BF67GKP</b> <br>Stop[21]: 490005491E<br>Time : 18:49:08<br>ETA : 609",
          "<b>Bus : BF67GKP</b> <br>Stop[21]: 490005491E<br>Time : 18:49:37<br>ETA : 580",
          "<b>Bus : BF67GKP</b> <br>Stop[21]: 490005491E<br>Time : 18:50:37<br>ETA : 520",
          "<b>Bus : BF67GKP</b> <br>Stop[21]: 490005491E<br>Time : 18:51:09<br>ETA : 488",
          "<b>Bus : BF67GKP</b> <br>Stop[21]: 490005491E<br>Time : 18:51:38<br>ETA : 459",
          "<b>Bus : BF67GKP</b> <br>Stop[21]: 490005491E<br>Time : 18:52:07<br>ETA : 430",
          "<b>Bus : BF67GKP</b> <br>Stop[21]: 490005491E<br>Time : 18:52:37<br>ETA : 400",
          "<b>Bus : BF67GKP</b> <br>Stop[21]: 490005491E<br>Time : 18:53:41<br>ETA : 336",
          "<b>Bus : BF67GKP</b> <br>Stop[21]: 490005491E<br>Time : 18:54:07<br>ETA : 310"
         ],
         "type": "scatter",
         "x": [
          "2021-02-06T18:39:37.467745",
          "2021-02-06T18:40:08.142302",
          "2021-02-06T18:41:08.191586",
          "2021-02-06T18:41:37.855300",
          "2021-02-06T18:42:08.112346",
          "2021-02-06T18:43:07.769389",
          "2021-02-06T18:43:37.853826",
          "2021-02-06T18:44:37.978094",
          "2021-02-06T18:45:08.066178",
          "2021-02-06T18:45:38.311572",
          "2021-02-06T18:46:07.791740",
          "2021-02-06T18:47:07.697827",
          "2021-02-06T18:47:37.882124",
          "2021-02-06T18:48:08.465032",
          "2021-02-06T18:48:38.120719",
          "2021-02-06T18:49:08.151416",
          "2021-02-06T18:49:37.437308",
          "2021-02-06T18:50:37.942413",
          "2021-02-06T18:51:09.533795",
          "2021-02-06T18:51:38.211129",
          "2021-02-06T18:52:07.484603",
          "2021-02-06T18:52:37.732217",
          "2021-02-06T18:53:41.343610",
          "2021-02-06T18:54:07.861715"
         ],
         "y": [
          1180,
          1149,
          1089,
          1060,
          1029,
          970,
          940,
          880,
          849,
          819,
          790,
          730,
          700,
          669,
          639,
          609,
          580,
          520,
          488,
          459,
          430,
          400,
          336,
          310
         ]
        },
        {
         "hoverinfo": "text",
         "line": {
          "color": "#2ca02c",
          "width": 3
         },
         "mode": "lines+markers",
         "name": "[22] 490014076E",
         "text": [
          "<b>Bus : BF67GKP</b> <br>Stop[22]: 490014076E<br>Time : 18:39:41<br>ETA : 1278",
          "<b>Bus : BF67GKP</b> <br>Stop[22]: 490014076E<br>Time : 18:40:10<br>ETA : 1249",
          "<b>Bus : BF67GKP</b> <br>Stop[22]: 490014076E<br>Time : 18:41:10<br>ETA : 1189",
          "<b>Bus : BF67GKP</b> <br>Stop[22]: 490014076E<br>Time : 18:42:40<br>ETA : 1099",
          "<b>Bus : BF67GKP</b> <br>Stop[22]: 490014076E<br>Time : 18:44:11<br>ETA : 1008",
          "<b>Bus : BF67GKP</b> <br>Stop[22]: 490014076E<br>Time : 18:44:41<br>ETA : 978",
          "<b>Bus : BF67GKP</b> <br>Stop[22]: 490014076E<br>Time : 18:45:10<br>ETA : 949",
          "<b>Bus : BF67GKP</b> <br>Stop[22]: 490014076E<br>Time : 18:46:40<br>ETA : 859",
          "<b>Bus : BF67GKP</b> <br>Stop[22]: 490014076E<br>Time : 18:47:10<br>ETA : 829",
          "<b>Bus : BF67GKP</b> <br>Stop[22]: 490014076E<br>Time : 18:47:40<br>ETA : 799",
          "<b>Bus : BF67GKP</b> <br>Stop[22]: 490014076E<br>Time : 18:48:11<br>ETA : 768",
          "<b>Bus : BF67GKP</b> <br>Stop[22]: 490014076E<br>Time : 18:49:10<br>ETA : 709",
          "<b>Bus : BF67GKP</b> <br>Stop[22]: 490014076E<br>Time : 18:49:40<br>ETA : 679",
          "<b>Bus : BF67GKP</b> <br>Stop[22]: 490014076E<br>Time : 18:50:41<br>ETA : 618",
          "<b>Bus : BF67GKP</b> <br>Stop[22]: 490014076E<br>Time : 18:51:40<br>ETA : 559",
          "<b>Bus : BF67GKP</b> <br>Stop[22]: 490014076E<br>Time : 18:52:40<br>ETA : 499",
          "<b>Bus : BF67GKP</b> <br>Stop[22]: 490014076E<br>Time : 18:53:10<br>ETA : 469",
          "<b>Bus : BF67GKP</b> <br>Stop[22]: 490014076E<br>Time : 18:53:41<br>ETA : 438",
          "<b>Bus : BF67GKP</b> <br>Stop[22]: 490014076E<br>Time : 18:54:10<br>ETA : 409"
         ],
         "type": "scatter",
         "x": [
          "2021-02-06T18:39:41.766045",
          "2021-02-06T18:40:10.565676",
          "2021-02-06T18:41:10.351994",
          "2021-02-06T18:42:40.765315",
          "2021-02-06T18:44:11.078818",
          "2021-02-06T18:44:41.703353",
          "2021-02-06T18:45:10.852686",
          "2021-02-06T18:46:40.698847",
          "2021-02-06T18:47:10.842782",
          "2021-02-06T18:47:40.600847",
          "2021-02-06T18:48:11.570106",
          "2021-02-06T18:49:10.447261",
          "2021-02-06T18:49:40.927408",
          "2021-02-06T18:50:41.705357",
          "2021-02-06T18:51:40.267540",
          "2021-02-06T18:52:40.907595",
          "2021-02-06T18:53:10.154804",
          "2021-02-06T18:53:41.698548",
          "2021-02-06T18:54:10.998734"
         ],
         "y": [
          1278,
          1249,
          1189,
          1099,
          1008,
          978,
          949,
          859,
          829,
          799,
          768,
          709,
          679,
          618,
          559,
          499,
          469,
          438,
          409
         ]
        },
        {
         "hoverinfo": "text",
         "line": {
          "color": "#1f77b4",
          "width": 3
         },
         "mode": "lines+markers",
         "name": "[23] 490012788E",
         "text": [
          "<b>Bus : BF67GKP</b> <br>Stop[23]: 490012788E<br>Time : 18:40:37<br>ETA : 1259",
          "<b>Bus : BF67GKP</b> <br>Stop[23]: 490012788E<br>Time : 18:42:37<br>ETA : 1139",
          "<b>Bus : BF67GKP</b> <br>Stop[23]: 490012788E<br>Time : 18:47:37<br>ETA : 839",
          "<b>Bus : BF67GKP</b> <br>Stop[23]: 490012788E<br>Time : 18:49:37<br>ETA : 719",
          "<b>Bus : BF67GKP</b> <br>Stop[23]: 490012788E<br>Time : 18:51:09<br>ETA : 627",
          "<b>Bus : BF67GKP</b> <br>Stop[23]: 490012788E<br>Time : 18:53:07<br>ETA : 509"
         ],
         "type": "scatter",
         "x": [
          "2021-02-06T18:40:37.232347",
          "2021-02-06T18:42:37.671633",
          "2021-02-06T18:47:37.446698",
          "2021-02-06T18:49:37.966333",
          "2021-02-06T18:51:09.815963",
          "2021-02-06T18:53:07.625714"
         ],
         "y": [
          1259,
          1139,
          839,
          719,
          627,
          509
         ]
        },
        {
         "hoverinfo": "text",
         "line": {
          "color": "#17becf",
          "width": 3
         },
         "mode": "lines+markers",
         "name": "[24] 490000122E",
         "text": [
          "<b>Bus : BF67GKP</b> <br>Stop[24]: 490000122E<br>Time : 18:39:40<br>ETA : 1397",
          "<b>Bus : BF67GKP</b> <br>Stop[24]: 490000122E<br>Time : 18:41:09<br>ETA : 1308",
          "<b>Bus : BF67GKP</b> <br>Stop[24]: 490000122E<br>Time : 18:43:09<br>ETA : 1188",
          "<b>Bus : BF67GKP</b> <br>Stop[24]: 490000122E<br>Time : 18:44:09<br>ETA : 1128",
          "<b>Bus : BF67GKP</b> <br>Stop[24]: 490000122E<br>Time : 18:45:39<br>ETA : 1038",
          "<b>Bus : BF67GKP</b> <br>Stop[24]: 490000122E<br>Time : 18:46:40<br>ETA : 977",
          "<b>Bus : BF67GKP</b> <br>Stop[24]: 490000122E<br>Time : 18:48:10<br>ETA : 887",
          "<b>Bus : BF67GKP</b> <br>Stop[24]: 490000122E<br>Time : 18:50:40<br>ETA : 737",
          "<b>Bus : BF67GKP</b> <br>Stop[24]: 490000122E<br>Time : 18:51:39<br>ETA : 678",
          "<b>Bus : BF67GKP</b> <br>Stop[24]: 490000122E<br>Time : 18:52:40<br>ETA : 617"
         ],
         "type": "scatter",
         "x": [
          "2021-02-06T18:39:40.328599",
          "2021-02-06T18:41:09.699395",
          "2021-02-06T18:43:09.488085",
          "2021-02-06T18:44:09.285016",
          "2021-02-06T18:45:39.808022",
          "2021-02-06T18:46:40.786859",
          "2021-02-06T18:48:10.007978",
          "2021-02-06T18:50:40.752272",
          "2021-02-06T18:51:39.406291",
          "2021-02-06T18:52:40.381853"
         ],
         "y": [
          1397,
          1308,
          1188,
          1128,
          1038,
          977,
          887,
          737,
          678,
          617
         ]
        },
        {
         "hoverinfo": "text",
         "line": {
          "color": "#e377c2",
          "width": 3
         },
         "mode": "lines+markers",
         "name": "[25] 490014700E",
         "text": [
          "<b>Bus : BF67GKP</b> <br>Stop[25]: 490014700E<br>Time : 18:39:38<br>ETA : 1442",
          "<b>Bus : BF67GKP</b> <br>Stop[25]: 490014700E<br>Time : 18:40:38<br>ETA : 1382",
          "<b>Bus : BF67GKP</b> <br>Stop[25]: 490014700E<br>Time : 18:42:38<br>ETA : 1262",
          "<b>Bus : BF67GKP</b> <br>Stop[25]: 490014700E<br>Time : 18:44:07<br>ETA : 1173",
          "<b>Bus : BF67GKP</b> <br>Stop[25]: 490014700E<br>Time : 18:44:38<br>ETA : 1142",
          "<b>Bus : BF67GKP</b> <br>Stop[25]: 490014700E<br>Time : 18:46:08<br>ETA : 1052",
          "<b>Bus : BF67GKP</b> <br>Stop[25]: 490014700E<br>Time : 18:46:38<br>ETA : 1022",
          "<b>Bus : BF67GKP</b> <br>Stop[25]: 490014700E<br>Time : 18:48:08<br>ETA : 932",
          "<b>Bus : BF67GKP</b> <br>Stop[25]: 490014700E<br>Time : 18:49:38<br>ETA : 842",
          "<b>Bus : BF67GKP</b> <br>Stop[25]: 490014700E<br>Time : 18:51:11<br>ETA : 749",
          "<b>Bus : BF67GKP</b> <br>Stop[25]: 490014700E<br>Time : 18:52:38<br>ETA : 662",
          "<b>Bus : BF67GKP</b> <br>Stop[25]: 490014700E<br>Time : 18:54:07<br>ETA : 573"
         ],
         "type": "scatter",
         "x": [
          "2021-02-06T18:39:38.750522",
          "2021-02-06T18:40:38.580652",
          "2021-02-06T18:42:38.643027",
          "2021-02-06T18:44:07.800687",
          "2021-02-06T18:44:38.265998",
          "2021-02-06T18:46:08.367606",
          "2021-02-06T18:46:38.416046",
          "2021-02-06T18:48:08.965582",
          "2021-02-06T18:49:38.807103",
          "2021-02-06T18:51:11.073265",
          "2021-02-06T18:52:38.376413",
          "2021-02-06T18:54:07.792300"
         ],
         "y": [
          1442,
          1382,
          1262,
          1173,
          1142,
          1052,
          1022,
          932,
          842,
          749,
          662,
          573
         ]
        },
        {
         "hoverinfo": "text",
         "line": {
          "color": "#1f77b4",
          "width": 3
         },
         "mode": "lines+markers",
         "name": "[26] 490008711X",
         "text": [
          "<b>Bus : BF67GKP</b> <br>Stop[26]: 490008711X<br>Time : 18:41:08<br>ETA : 1438",
          "<b>Bus : BF67GKP</b> <br>Stop[26]: 490008711X<br>Time : 18:42:38<br>ETA : 1348",
          "<b>Bus : BF67GKP</b> <br>Stop[26]: 490008711X<br>Time : 18:43:37<br>ETA : 1289",
          "<b>Bus : BF67GKP</b> <br>Stop[26]: 490008711X<br>Time : 18:45:07<br>ETA : 1199",
          "<b>Bus : BF67GKP</b> <br>Stop[26]: 490008711X<br>Time : 18:47:37<br>ETA : 1049",
          "<b>Bus : BF67GKP</b> <br>Stop[26]: 490008711X<br>Time : 18:49:08<br>ETA : 958",
          "<b>Bus : BF67GKP</b> <br>Stop[26]: 490008711X<br>Time : 18:51:10<br>ETA : 836"
         ],
         "type": "scatter",
         "x": [
          "2021-02-06T18:41:08.012775",
          "2021-02-06T18:42:38.049291",
          "2021-02-06T18:43:37.765065",
          "2021-02-06T18:45:07.282694",
          "2021-02-06T18:47:37.742773",
          "2021-02-06T18:49:08.072927",
          "2021-02-06T18:51:10.021278"
         ],
         "y": [
          1438,
          1348,
          1289,
          1199,
          1049,
          958,
          836
         ]
        },
        {
         "hoverinfo": "text",
         "line": {
          "color": "#d62728",
          "width": 3
         },
         "mode": "lines+markers",
         "name": "[27] 490006832E",
         "text": [
          "<b>Bus : BF67GKP</b> <br>Stop[27]: 490006832E<br>Time : 18:40:10<br>ETA : 1560",
          "<b>Bus : BF67GKP</b> <br>Stop[27]: 490006832E<br>Time : 18:41:40<br>ETA : 1470",
          "<b>Bus : BF67GKP</b> <br>Stop[27]: 490006832E<br>Time : 18:42:10<br>ETA : 1440",
          "<b>Bus : BF67GKP</b> <br>Stop[27]: 490006832E<br>Time : 18:45:10<br>ETA : 1260",
          "<b>Bus : BF67GKP</b> <br>Stop[27]: 490006832E<br>Time : 18:46:10<br>ETA : 1200",
          "<b>Bus : BF67GKP</b> <br>Stop[27]: 490006832E<br>Time : 18:46:39<br>ETA : 1171",
          "<b>Bus : BF67GKP</b> <br>Stop[27]: 490006832E<br>Time : 18:47:39<br>ETA : 1111",
          "<b>Bus : BF67GKP</b> <br>Stop[27]: 490006832E<br>Time : 18:48:10<br>ETA : 1080",
          "<b>Bus : BF67GKP</b> <br>Stop[27]: 490006832E<br>Time : 18:49:10<br>ETA : 1020",
          "<b>Bus : BF67GKP</b> <br>Stop[27]: 490006832E<br>Time : 18:50:11<br>ETA : 959",
          "<b>Bus : BF67GKP</b> <br>Stop[27]: 490006832E<br>Time : 18:51:40<br>ETA : 870",
          "<b>Bus : BF67GKP</b> <br>Stop[27]: 490006832E<br>Time : 18:52:40<br>ETA : 810",
          "<b>Bus : BF67GKP</b> <br>Stop[27]: 490006832E<br>Time : 18:53:40<br>ETA : 750"
         ],
         "type": "scatter",
         "x": [
          "2021-02-06T18:40:10.436835",
          "2021-02-06T18:41:40.040981",
          "2021-02-06T18:42:10.206055",
          "2021-02-06T18:45:10.212066",
          "2021-02-06T18:46:10.106267",
          "2021-02-06T18:46:39.872725",
          "2021-02-06T18:47:39.977863",
          "2021-02-06T18:48:10.996227",
          "2021-02-06T18:49:10.448417",
          "2021-02-06T18:50:11.165902",
          "2021-02-06T18:51:40.301320",
          "2021-02-06T18:52:40.705284",
          "2021-02-06T18:53:40.826034"
         ],
         "y": [
          1560,
          1470,
          1440,
          1260,
          1200,
          1171,
          1111,
          1080,
          1020,
          959,
          870,
          810,
          750
         ]
        },
        {
         "hoverinfo": "text",
         "line": {
          "color": "#bcbd22",
          "width": 3
         },
         "mode": "lines+markers",
         "name": "[28] 490013613E",
         "text": [
          "<b>Bus : BF67GKP</b> <br>Stop[28]: 490013613E<br>Time : 18:39:37<br>ETA : 1638",
          "<b>Bus : BF67GKP</b> <br>Stop[28]: 490013613E<br>Time : 18:40:07<br>ETA : 1608",
          "<b>Bus : BF67GKP</b> <br>Stop[28]: 490013613E<br>Time : 18:40:37<br>ETA : 1578",
          "<b>Bus : BF67GKP</b> <br>Stop[28]: 490013613E<br>Time : 18:41:37<br>ETA : 1518",
          "<b>Bus : BF67GKP</b> <br>Stop[28]: 490013613E<br>Time : 18:42:07<br>ETA : 1488",
          "<b>Bus : BF67GKP</b> <br>Stop[28]: 490013613E<br>Time : 18:42:37<br>ETA : 1458",
          "<b>Bus : BF67GKP</b> <br>Stop[28]: 490013613E<br>Time : 18:43:37<br>ETA : 1398",
          "<b>Bus : BF67GKP</b> <br>Stop[28]: 490013613E<br>Time : 18:44:07<br>ETA : 1368",
          "<b>Bus : BF67GKP</b> <br>Stop[28]: 490013613E<br>Time : 18:45:07<br>ETA : 1308",
          "<b>Bus : BF67GKP</b> <br>Stop[28]: 490013613E<br>Time : 18:46:06<br>ETA : 1249",
          "<b>Bus : BF67GKP</b> <br>Stop[28]: 490013613E<br>Time : 18:46:37<br>ETA : 1218",
          "<b>Bus : BF67GKP</b> <br>Stop[28]: 490013613E<br>Time : 18:47:07<br>ETA : 1188",
          "<b>Bus : BF67GKP</b> <br>Stop[28]: 490013613E<br>Time : 18:48:07<br>ETA : 1128",
          "<b>Bus : BF67GKP</b> <br>Stop[28]: 490013613E<br>Time : 18:49:37<br>ETA : 1038",
          "<b>Bus : BF67GKP</b> <br>Stop[28]: 490013613E<br>Time : 18:50:07<br>ETA : 1008",
          "<b>Bus : BF67GKP</b> <br>Stop[28]: 490013613E<br>Time : 18:50:37<br>ETA : 978",
          "<b>Bus : BF67GKP</b> <br>Stop[28]: 490013613E<br>Time : 18:51:09<br>ETA : 946",
          "<b>Bus : BF67GKP</b> <br>Stop[28]: 490013613E<br>Time : 18:52:07<br>ETA : 888",
          "<b>Bus : BF67GKP</b> <br>Stop[28]: 490013613E<br>Time : 18:52:37<br>ETA : 858",
          "<b>Bus : BF67GKP</b> <br>Stop[28]: 490013613E<br>Time : 18:53:37<br>ETA : 798",
          "<b>Bus : BF67GKP</b> <br>Stop[28]: 490013613E<br>Time : 18:54:07<br>ETA : 768"
         ],
         "type": "scatter",
         "x": [
          "2021-02-06T18:39:37.441473",
          "2021-02-06T18:40:07.323124",
          "2021-02-06T18:40:37.275118",
          "2021-02-06T18:41:37.288473",
          "2021-02-06T18:42:07.698016",
          "2021-02-06T18:42:37.495191",
          "2021-02-06T18:43:37.860679",
          "2021-02-06T18:44:07.494085",
          "2021-02-06T18:45:07.706821",
          "2021-02-06T18:46:06.967800",
          "2021-02-06T18:46:37.919835",
          "2021-02-06T18:47:07.671003",
          "2021-02-06T18:48:07.933788",
          "2021-02-06T18:49:37.538598",
          "2021-02-06T18:50:07.505287",
          "2021-02-06T18:50:37.019488",
          "2021-02-06T18:51:09.534738",
          "2021-02-06T18:52:07.078387",
          "2021-02-06T18:52:37.819397",
          "2021-02-06T18:53:37.518331",
          "2021-02-06T18:54:07.486718"
         ],
         "y": [
          1638,
          1608,
          1578,
          1518,
          1488,
          1458,
          1398,
          1368,
          1308,
          1249,
          1218,
          1188,
          1128,
          1038,
          1008,
          978,
          946,
          888,
          858,
          798,
          768
         ]
        },
        {
         "hoverinfo": "text",
         "line": {
          "color": "#8c564b",
          "width": 3
         },
         "mode": "lines+markers",
         "name": "[29] 490011135E",
         "text": [
          "<b>Bus : BF67GKP</b> <br>Stop[29]: 490011135E<br>Time : 18:40:08<br>ETA : 1682",
          "<b>Bus : BF67GKP</b> <br>Stop[29]: 490011135E<br>Time : 18:41:38<br>ETA : 1592",
          "<b>Bus : BF67GKP</b> <br>Stop[29]: 490011135E<br>Time : 18:42:37<br>ETA : 1533",
          "<b>Bus : BF67GKP</b> <br>Stop[29]: 490011135E<br>Time : 18:43:38<br>ETA : 1472",
          "<b>Bus : BF67GKP</b> <br>Stop[29]: 490011135E<br>Time : 18:44:07<br>ETA : 1443",
          "<b>Bus : BF67GKP</b> <br>Stop[29]: 490011135E<br>Time : 18:44:38<br>ETA : 1412",
          "<b>Bus : BF67GKP</b> <br>Stop[29]: 490011135E<br>Time : 18:46:08<br>ETA : 1322",
          "<b>Bus : BF67GKP</b> <br>Stop[29]: 490011135E<br>Time : 18:46:38<br>ETA : 1292",
          "<b>Bus : BF67GKP</b> <br>Stop[29]: 490011135E<br>Time : 18:48:08<br>ETA : 1202",
          "<b>Bus : BF67GKP</b> <br>Stop[29]: 490011135E<br>Time : 18:49:08<br>ETA : 1142",
          "<b>Bus : BF67GKP</b> <br>Stop[29]: 490011135E<br>Time : 18:49:38<br>ETA : 1112",
          "<b>Bus : BF67GKP</b> <br>Stop[29]: 490011135E<br>Time : 18:50:39<br>ETA : 1051",
          "<b>Bus : BF67GKP</b> <br>Stop[29]: 490011135E<br>Time : 18:52:08<br>ETA : 962",
          "<b>Bus : BF67GKP</b> <br>Stop[29]: 490011135E<br>Time : 18:53:38<br>ETA : 872"
         ],
         "type": "scatter",
         "x": [
          "2021-02-06T18:40:08.770810",
          "2021-02-06T18:41:38.242627",
          "2021-02-06T18:42:37.991785",
          "2021-02-06T18:43:38.463198",
          "2021-02-06T18:44:07.956933",
          "2021-02-06T18:44:38.712459",
          "2021-02-06T18:46:08.826620",
          "2021-02-06T18:46:38.919816",
          "2021-02-06T18:48:08.369201",
          "2021-02-06T18:49:08.193286",
          "2021-02-06T18:49:38.963345",
          "2021-02-06T18:50:39.408562",
          "2021-02-06T18:52:08.420823",
          "2021-02-06T18:53:38.484392"
         ],
         "y": [
          1682,
          1592,
          1533,
          1472,
          1443,
          1412,
          1322,
          1292,
          1202,
          1142,
          1112,
          1051,
          962,
          872
         ]
        },
        {
         "hoverinfo": "text",
         "line": {
          "color": "#17becf",
          "width": 3
         },
         "mode": "lines+markers",
         "name": "[30] 490003444E",
         "text": [
          "<b>Bus : BF67GKP</b> <br>Stop[30]: 490003444E<br>Time : 18:41:38<br>ETA : 1746",
          "<b>Bus : BF67GKP</b> <br>Stop[30]: 490003444E<br>Time : 18:42:07<br>ETA : 1717",
          "<b>Bus : BF67GKP</b> <br>Stop[30]: 490003444E<br>Time : 18:42:38<br>ETA : 1686",
          "<b>Bus : BF67GKP</b> <br>Stop[30]: 490003444E<br>Time : 18:43:08<br>ETA : 1656",
          "<b>Bus : BF67GKP</b> <br>Stop[30]: 490003444E<br>Time : 18:44:08<br>ETA : 1596",
          "<b>Bus : BF67GKP</b> <br>Stop[30]: 490003444E<br>Time : 18:45:08<br>ETA : 1536",
          "<b>Bus : BF67GKP</b> <br>Stop[30]: 490003444E<br>Time : 18:45:38<br>ETA : 1506",
          "<b>Bus : BF67GKP</b> <br>Stop[30]: 490003444E<br>Time : 18:47:08<br>ETA : 1416",
          "<b>Bus : BF67GKP</b> <br>Stop[30]: 490003444E<br>Time : 18:48:38<br>ETA : 1326",
          "<b>Bus : BF67GKP</b> <br>Stop[30]: 490003444E<br>Time : 18:49:08<br>ETA : 1296",
          "<b>Bus : BF67GKP</b> <br>Stop[30]: 490003444E<br>Time : 18:49:38<br>ETA : 1266",
          "<b>Bus : BF67GKP</b> <br>Stop[30]: 490003444E<br>Time : 18:50:08<br>ETA : 1236",
          "<b>Bus : BF67GKP</b> <br>Stop[30]: 490003444E<br>Time : 18:50:39<br>ETA : 1205",
          "<b>Bus : BF67GKP</b> <br>Stop[30]: 490003444E<br>Time : 18:52:09<br>ETA : 1115",
          "<b>Bus : BF67GKP</b> <br>Stop[30]: 490003444E<br>Time : 18:52:38<br>ETA : 1086",
          "<b>Bus : BF67GKP</b> <br>Stop[30]: 490003444E<br>Time : 18:54:08<br>ETA : 996"
         ],
         "type": "scatter",
         "x": [
          "2021-02-06T18:41:38.847416",
          "2021-02-06T18:42:07.961735",
          "2021-02-06T18:42:38.899958",
          "2021-02-06T18:43:08.115583",
          "2021-02-06T18:44:08.267132",
          "2021-02-06T18:45:08.816149",
          "2021-02-06T18:45:38.234580",
          "2021-02-06T18:47:08.838371",
          "2021-02-06T18:48:38.600131",
          "2021-02-06T18:49:08.023002",
          "2021-02-06T18:49:38.646205",
          "2021-02-06T18:50:08.708007",
          "2021-02-06T18:50:39.582287",
          "2021-02-06T18:52:09.050235",
          "2021-02-06T18:52:38.690934",
          "2021-02-06T18:54:08.011045"
         ],
         "y": [
          1746,
          1717,
          1686,
          1656,
          1596,
          1536,
          1506,
          1416,
          1326,
          1296,
          1266,
          1236,
          1205,
          1115,
          1086,
          996
         ]
        },
        {
         "hoverinfo": "text",
         "line": {
          "color": "#1f77b4",
          "width": 3
         },
         "mode": "lines+markers",
         "name": "[31] 490007865E",
         "text": [
          "<b>Bus : BF67GKP</b> <br>Stop[31]: 490007865E<br>Time : 18:45:08<br>ETA : 1667",
          "<b>Bus : BF67GKP</b> <br>Stop[31]: 490007865E<br>Time : 18:45:38<br>ETA : 1637",
          "<b>Bus : BF67GKP</b> <br>Stop[31]: 490007865E<br>Time : 18:46:08<br>ETA : 1607",
          "<b>Bus : BF67GKP</b> <br>Stop[31]: 490007865E<br>Time : 18:48:08<br>ETA : 1487",
          "<b>Bus : BF67GKP</b> <br>Stop[31]: 490007865E<br>Time : 18:49:38<br>ETA : 1397",
          "<b>Bus : BF67GKP</b> <br>Stop[31]: 490007865E<br>Time : 18:50:08<br>ETA : 1367",
          "<b>Bus : BF67GKP</b> <br>Stop[31]: 490007865E<br>Time : 18:51:38<br>ETA : 1277",
          "<b>Bus : BF67GKP</b> <br>Stop[31]: 490007865E<br>Time : 18:52:38<br>ETA : 1217"
         ],
         "type": "scatter",
         "x": [
          "2021-02-06T18:45:08.018368",
          "2021-02-06T18:45:38.908759",
          "2021-02-06T18:46:08.293840",
          "2021-02-06T18:48:08.664273",
          "2021-02-06T18:49:38.915296",
          "2021-02-06T18:50:08.301905",
          "2021-02-06T18:51:38.976742",
          "2021-02-06T18:52:38.450934"
         ],
         "y": [
          1667,
          1637,
          1607,
          1487,
          1397,
          1367,
          1277,
          1217
         ]
        },
        {
         "hoverinfo": "text",
         "line": {
          "color": "#7f7f7f",
          "width": 3
         },
         "mode": "lines+markers",
         "name": "[32] 490013054E",
         "text": [
          "<b>Bus : BF67GKP</b> <br>Stop[32]: 490013054E<br>Time : 18:44:10<br>ETA : 1765",
          "<b>Bus : BF67GKP</b> <br>Stop[32]: 490013054E<br>Time : 18:45:40<br>ETA : 1675",
          "<b>Bus : BF67GKP</b> <br>Stop[32]: 490013054E<br>Time : 18:46:10<br>ETA : 1645",
          "<b>Bus : BF67GKP</b> <br>Stop[32]: 490013054E<br>Time : 18:47:39<br>ETA : 1556",
          "<b>Bus : BF67GKP</b> <br>Stop[32]: 490013054E<br>Time : 18:48:40<br>ETA : 1495",
          "<b>Bus : BF67GKP</b> <br>Stop[32]: 490013054E<br>Time : 18:49:10<br>ETA : 1465",
          "<b>Bus : BF67GKP</b> <br>Stop[32]: 490013054E<br>Time : 18:49:40<br>ETA : 1435",
          "<b>Bus : BF67GKP</b> <br>Stop[32]: 490013054E<br>Time : 18:52:10<br>ETA : 1285",
          "<b>Bus : BF67GKP</b> <br>Stop[32]: 490013054E<br>Time : 18:52:40<br>ETA : 1255",
          "<b>Bus : BF67GKP</b> <br>Stop[32]: 490013054E<br>Time : 18:53:40<br>ETA : 1195"
         ],
         "type": "scatter",
         "x": [
          "2021-02-06T18:44:10.625724",
          "2021-02-06T18:45:40.370519",
          "2021-02-06T18:46:10.213235",
          "2021-02-06T18:47:39.946613",
          "2021-02-06T18:48:40.323768",
          "2021-02-06T18:49:10.292487",
          "2021-02-06T18:49:40.618353",
          "2021-02-06T18:52:10.717613",
          "2021-02-06T18:52:40.756842",
          "2021-02-06T18:53:40.682961"
         ],
         "y": [
          1765,
          1675,
          1645,
          1556,
          1495,
          1465,
          1435,
          1285,
          1255,
          1195
         ]
        },
        {
         "hoverinfo": "text",
         "line": {
          "color": "#9467bd",
          "width": 3
         },
         "mode": "lines+markers",
         "name": "[33] 490005320E",
         "text": [
          "<b>Bus : BF67GKP</b> <br>Stop[33]: 490005320E<br>Time : 18:45:37<br>ETA : 1765",
          "<b>Bus : BF67GKP</b> <br>Stop[33]: 490005320E<br>Time : 18:46:37<br>ETA : 1705",
          "<b>Bus : BF67GKP</b> <br>Stop[33]: 490005320E<br>Time : 18:48:07<br>ETA : 1615",
          "<b>Bus : BF67GKP</b> <br>Stop[33]: 490005320E<br>Time : 18:49:06<br>ETA : 1556",
          "<b>Bus : BF67GKP</b> <br>Stop[33]: 490005320E<br>Time : 18:50:36<br>ETA : 1466",
          "<b>Bus : BF67GKP</b> <br>Stop[33]: 490005320E<br>Time : 18:52:37<br>ETA : 1345",
          "<b>Bus : BF67GKP</b> <br>Stop[33]: 490005320E<br>Time : 18:54:07<br>ETA : 1255"
         ],
         "type": "scatter",
         "x": [
          "2021-02-06T18:45:37.670952",
          "2021-02-06T18:46:37.367245",
          "2021-02-06T18:48:07.086214",
          "2021-02-06T18:49:06.851216",
          "2021-02-06T18:50:36.894446",
          "2021-02-06T18:52:37.611648",
          "2021-02-06T18:54:07.311845"
         ],
         "y": [
          1765,
          1705,
          1615,
          1556,
          1466,
          1345,
          1255
         ]
        },
        {
         "hoverinfo": "text",
         "line": {
          "color": "#bcbd22",
          "width": 3
         },
         "mode": "lines+markers",
         "name": "[34] 490000196C",
         "text": [
          "<b>Bus : BF67GKP</b> <br>Stop[34]: 490000196C<br>Time : 18:47:09<br>ETA : 1713",
          "<b>Bus : BF67GKP</b> <br>Stop[34]: 490000196C<br>Time : 18:47:39<br>ETA : 1683",
          "<b>Bus : BF67GKP</b> <br>Stop[34]: 490000196C<br>Time : 18:48:38<br>ETA : 1624",
          "<b>Bus : BF67GKP</b> <br>Stop[34]: 490000196C<br>Time : 18:50:09<br>ETA : 1533",
          "<b>Bus : BF67GKP</b> <br>Stop[34]: 490000196C<br>Time : 18:51:11<br>ETA : 1471",
          "<b>Bus : BF67GKP</b> <br>Stop[34]: 490000196C<br>Time : 18:53:38<br>ETA : 1324"
         ],
         "type": "scatter",
         "x": [
          "2021-02-06T18:47:09.305948",
          "2021-02-06T18:47:39.022737",
          "2021-02-06T18:48:38.524215",
          "2021-02-06T18:50:09.192382",
          "2021-02-06T18:51:11.224532",
          "2021-02-06T18:53:38.964280"
         ],
         "y": [
          1713,
          1683,
          1624,
          1533,
          1471,
          1324
         ]
        },
        {
         "hoverinfo": "text",
         "line": {
          "color": "#9467bd",
          "width": 3
         },
         "mode": "lines+markers",
         "name": "[35] 490015473E",
         "text": [
          "<b>Bus : BF67GKP</b> <br>Stop[35]: 490015473E<br>Time : 18:47:10<br>ETA : 1743",
          "<b>Bus : BF67GKP</b> <br>Stop[35]: 490015473E<br>Time : 18:48:40<br>ETA : 1653",
          "<b>Bus : BF67GKP</b> <br>Stop[35]: 490015473E<br>Time : 18:49:10<br>ETA : 1623",
          "<b>Bus : BF67GKP</b> <br>Stop[35]: 490015473E<br>Time : 18:50:11<br>ETA : 1562",
          "<b>Bus : BF67GKP</b> <br>Stop[35]: 490015473E<br>Time : 18:51:12<br>ETA : 1501",
          "<b>Bus : BF67GKP</b> <br>Stop[35]: 490015473E<br>Time : 18:52:11<br>ETA : 1442",
          "<b>Bus : BF67GKP</b> <br>Stop[35]: 490015473E<br>Time : 18:53:41<br>ETA : 1352",
          "<b>Bus : BF67GKP</b> <br>Stop[35]: 490015473E<br>Time : 18:54:10<br>ETA : 1323"
         ],
         "type": "scatter",
         "x": [
          "2021-02-06T18:47:10.731727",
          "2021-02-06T18:48:40.210967",
          "2021-02-06T18:49:10.526375",
          "2021-02-06T18:50:11.070329",
          "2021-02-06T18:51:12.563565",
          "2021-02-06T18:52:11.175619",
          "2021-02-06T18:53:41.407109",
          "2021-02-06T18:54:10.677048"
         ],
         "y": [
          1743,
          1653,
          1623,
          1562,
          1501,
          1442,
          1352,
          1323
         ]
        },
        {
         "hoverinfo": "text",
         "line": {
          "color": "#e377c2",
          "width": 3
         },
         "mode": "lines+markers",
         "name": "[36] 490014250E",
         "text": [
          "<b>Bus : BF67GKP</b> <br>Stop[36]: 490014250E<br>Time : 18:49:38<br>ETA : 1622",
          "<b>Bus : BF67GKP</b> <br>Stop[36]: 490014250E<br>Time : 18:50:08<br>ETA : 1592",
          "<b>Bus : BF67GKP</b> <br>Stop[36]: 490014250E<br>Time : 18:50:39<br>ETA : 1561",
          "<b>Bus : BF67GKP</b> <br>Stop[36]: 490014250E<br>Time : 18:51:39<br>ETA : 1501",
          "<b>Bus : BF67GKP</b> <br>Stop[36]: 490014250E<br>Time : 18:53:08<br>ETA : 1412",
          "<b>Bus : BF67GKP</b> <br>Stop[36]: 490014250E<br>Time : 18:54:08<br>ETA : 1352"
         ],
         "type": "scatter",
         "x": [
          "2021-02-06T18:49:38.771205",
          "2021-02-06T18:50:08.786522",
          "2021-02-06T18:50:39.241927",
          "2021-02-06T18:51:39.039407",
          "2021-02-06T18:53:08.719850",
          "2021-02-06T18:54:08.502330"
         ],
         "y": [
          1622,
          1592,
          1561,
          1501,
          1412,
          1352
         ]
        },
        {
         "hoverinfo": "text",
         "line": {
          "color": "#e377c2",
          "width": 3
         },
         "mode": "lines+markers",
         "name": "[37] 490010713E",
         "text": [
          "<b>Bus : BF67GKP</b> <br>Stop[37]: 490010713E<br>Time : 18:50:10<br>ETA : 1678",
          "<b>Bus : BF67GKP</b> <br>Stop[37]: 490010713E<br>Time : 18:51:11<br>ETA : 1617",
          "<b>Bus : BF67GKP</b> <br>Stop[37]: 490010713E<br>Time : 18:52:40<br>ETA : 1528",
          "<b>Bus : BF67GKP</b> <br>Stop[37]: 490010713E<br>Time : 18:53:39<br>ETA : 1469"
         ],
         "type": "scatter",
         "x": [
          "2021-02-06T18:50:10.176703",
          "2021-02-06T18:51:11.778596",
          "2021-02-06T18:52:40.299046",
          "2021-02-06T18:53:39.795580"
         ],
         "y": [
          1678,
          1617,
          1528,
          1469
         ]
        },
        {
         "hoverinfo": "text",
         "line": {
          "color": "#2ca02c",
          "width": 3
         },
         "mode": "lines+markers",
         "name": "[38] 490000071E",
         "text": [
          "<b>Bus : BF67GKP</b> <br>Stop[38]: 490000071E<br>Time : 18:49:38<br>ETA : 1740",
          "<b>Bus : BF67GKP</b> <br>Stop[38]: 490000071E<br>Time : 18:50:08<br>ETA : 1710",
          "<b>Bus : BF67GKP</b> <br>Stop[38]: 490000071E<br>Time : 18:51:10<br>ETA : 1648",
          "<b>Bus : BF67GKP</b> <br>Stop[38]: 490000071E<br>Time : 18:51:38<br>ETA : 1620",
          "<b>Bus : BF67GKP</b> <br>Stop[38]: 490000071E<br>Time : 18:52:37<br>ETA : 1561",
          "<b>Bus : BF67GKP</b> <br>Stop[38]: 490000071E<br>Time : 18:54:08<br>ETA : 1470"
         ],
         "type": "scatter",
         "x": [
          "2021-02-06T18:49:38.255652",
          "2021-02-06T18:50:08.648547",
          "2021-02-06T18:51:10.315962",
          "2021-02-06T18:51:38.508000",
          "2021-02-06T18:52:37.733402",
          "2021-02-06T18:54:08.248842"
         ],
         "y": [
          1740,
          1710,
          1648,
          1620,
          1561,
          1470
         ]
        },
        {
         "hoverinfo": "text",
         "line": {
          "color": "#e377c2",
          "width": 3
         },
         "mode": "lines+markers",
         "name": "[39] 490015502N",
         "text": [
          "<b>Bus : BF67GKP</b> <br>Stop[39]: 490015502N<br>Time : 18:50:09<br>ETA : 1791",
          "<b>Bus : BF67GKP</b> <br>Stop[39]: 490015502N<br>Time : 18:51:11<br>ETA : 1729",
          "<b>Bus : BF67GKP</b> <br>Stop[39]: 490015502N<br>Time : 18:51:39<br>ETA : 1701",
          "<b>Bus : BF67GKP</b> <br>Stop[39]: 490015502N<br>Time : 18:52:38<br>ETA : 1642",
          "<b>Bus : BF67GKP</b> <br>Stop[39]: 490015502N<br>Time : 18:53:38<br>ETA : 1582"
         ],
         "type": "scatter",
         "x": [
          "2021-02-06T18:50:09.239640",
          "2021-02-06T18:51:11.646153",
          "2021-02-06T18:51:39.002787",
          "2021-02-06T18:52:38.966554",
          "2021-02-06T18:53:38.840332"
         ],
         "y": [
          1791,
          1729,
          1701,
          1642,
          1582
         ]
        },
        {
         "hoverinfo": "text",
         "line": {
          "color": "#2ca02c",
          "width": 3
         },
         "mode": "lines+markers",
         "name": "[40] 490015040W",
         "text": [
          "<b>Bus : BF67GKP</b> <br>Stop[40]: 490015040W<br>Time : 18:53:38<br>ETA : 1630"
         ],
         "type": "scatter",
         "x": [
          "2021-02-06T18:53:38.796868"
         ],
         "y": [
          1630
         ]
        },
        {
         "hoverinfo": "text",
         "line": {
          "color": "#8c564b",
          "width": 3
         },
         "mode": "lines+markers",
         "name": "[41] 490000011D",
         "text": [
          "<b>Bus : BF67GKP</b> <br>Stop[41]: 490000011D<br>Time : 18:52:11<br>ETA : 1769",
          "<b>Bus : BF67GKP</b> <br>Stop[41]: 490000011D<br>Time : 18:53:41<br>ETA : 1679",
          "<b>Bus : BF67GKP</b> <br>Stop[41]: 490000011D<br>Time : 18:54:11<br>ETA : 1649"
         ],
         "type": "scatter",
         "x": [
          "2021-02-06T18:52:11.282443",
          "2021-02-06T18:53:41.168379",
          "2021-02-06T18:54:11.080425"
         ],
         "y": [
          1769,
          1679,
          1649
         ]
        },
        {
         "hoverinfo": "text",
         "line": {
          "color": "#e377c2",
          "width": 3
         },
         "mode": "lines+markers",
         "name": "[42] 490007807E",
         "text": [
          "<b>Bus : BF67GKP</b> <br>Stop[42]: 490007807E<br>Time : 18:53:39<br>ETA : 1782"
         ],
         "type": "scatter",
         "x": [
          "2021-02-06T18:53:39.724500"
         ],
         "y": [
          1782
         ]
        }
       ],
       "layout": {
        "hovermode": "closest",
        "legend": {
         "title": {
          "text": "<b>Destination Stop</b>"
         }
        },
        "margin": {
         "b": 0,
         "l": 0,
         "r": 0,
         "t": 40
        },
        "template": {
         "data": {
          "bar": [
           {
            "error_x": {
             "color": "#2a3f5f"
            },
            "error_y": {
             "color": "#2a3f5f"
            },
            "marker": {
             "line": {
              "color": "white",
              "width": 0.5
             }
            },
            "type": "bar"
           }
          ],
          "barpolar": [
           {
            "marker": {
             "line": {
              "color": "white",
              "width": 0.5
             }
            },
            "type": "barpolar"
           }
          ],
          "carpet": [
           {
            "aaxis": {
             "endlinecolor": "#2a3f5f",
             "gridcolor": "#C8D4E3",
             "linecolor": "#C8D4E3",
             "minorgridcolor": "#C8D4E3",
             "startlinecolor": "#2a3f5f"
            },
            "baxis": {
             "endlinecolor": "#2a3f5f",
             "gridcolor": "#C8D4E3",
             "linecolor": "#C8D4E3",
             "minorgridcolor": "#C8D4E3",
             "startlinecolor": "#2a3f5f"
            },
            "type": "carpet"
           }
          ],
          "choropleth": [
           {
            "colorbar": {
             "outlinewidth": 0,
             "ticks": ""
            },
            "type": "choropleth"
           }
          ],
          "contour": [
           {
            "colorbar": {
             "outlinewidth": 0,
             "ticks": ""
            },
            "colorscale": [
             [
              0,
              "#0d0887"
             ],
             [
              0.1111111111111111,
              "#46039f"
             ],
             [
              0.2222222222222222,
              "#7201a8"
             ],
             [
              0.3333333333333333,
              "#9c179e"
             ],
             [
              0.4444444444444444,
              "#bd3786"
             ],
             [
              0.5555555555555556,
              "#d8576b"
             ],
             [
              0.6666666666666666,
              "#ed7953"
             ],
             [
              0.7777777777777778,
              "#fb9f3a"
             ],
             [
              0.8888888888888888,
              "#fdca26"
             ],
             [
              1,
              "#f0f921"
             ]
            ],
            "type": "contour"
           }
          ],
          "contourcarpet": [
           {
            "colorbar": {
             "outlinewidth": 0,
             "ticks": ""
            },
            "type": "contourcarpet"
           }
          ],
          "heatmap": [
           {
            "colorbar": {
             "outlinewidth": 0,
             "ticks": ""
            },
            "colorscale": [
             [
              0,
              "#0d0887"
             ],
             [
              0.1111111111111111,
              "#46039f"
             ],
             [
              0.2222222222222222,
              "#7201a8"
             ],
             [
              0.3333333333333333,
              "#9c179e"
             ],
             [
              0.4444444444444444,
              "#bd3786"
             ],
             [
              0.5555555555555556,
              "#d8576b"
             ],
             [
              0.6666666666666666,
              "#ed7953"
             ],
             [
              0.7777777777777778,
              "#fb9f3a"
             ],
             [
              0.8888888888888888,
              "#fdca26"
             ],
             [
              1,
              "#f0f921"
             ]
            ],
            "type": "heatmap"
           }
          ],
          "heatmapgl": [
           {
            "colorbar": {
             "outlinewidth": 0,
             "ticks": ""
            },
            "colorscale": [
             [
              0,
              "#0d0887"
             ],
             [
              0.1111111111111111,
              "#46039f"
             ],
             [
              0.2222222222222222,
              "#7201a8"
             ],
             [
              0.3333333333333333,
              "#9c179e"
             ],
             [
              0.4444444444444444,
              "#bd3786"
             ],
             [
              0.5555555555555556,
              "#d8576b"
             ],
             [
              0.6666666666666666,
              "#ed7953"
             ],
             [
              0.7777777777777778,
              "#fb9f3a"
             ],
             [
              0.8888888888888888,
              "#fdca26"
             ],
             [
              1,
              "#f0f921"
             ]
            ],
            "type": "heatmapgl"
           }
          ],
          "histogram": [
           {
            "marker": {
             "colorbar": {
              "outlinewidth": 0,
              "ticks": ""
             }
            },
            "type": "histogram"
           }
          ],
          "histogram2d": [
           {
            "colorbar": {
             "outlinewidth": 0,
             "ticks": ""
            },
            "colorscale": [
             [
              0,
              "#0d0887"
             ],
             [
              0.1111111111111111,
              "#46039f"
             ],
             [
              0.2222222222222222,
              "#7201a8"
             ],
             [
              0.3333333333333333,
              "#9c179e"
             ],
             [
              0.4444444444444444,
              "#bd3786"
             ],
             [
              0.5555555555555556,
              "#d8576b"
             ],
             [
              0.6666666666666666,
              "#ed7953"
             ],
             [
              0.7777777777777778,
              "#fb9f3a"
             ],
             [
              0.8888888888888888,
              "#fdca26"
             ],
             [
              1,
              "#f0f921"
             ]
            ],
            "type": "histogram2d"
           }
          ],
          "histogram2dcontour": [
           {
            "colorbar": {
             "outlinewidth": 0,
             "ticks": ""
            },
            "colorscale": [
             [
              0,
              "#0d0887"
             ],
             [
              0.1111111111111111,
              "#46039f"
             ],
             [
              0.2222222222222222,
              "#7201a8"
             ],
             [
              0.3333333333333333,
              "#9c179e"
             ],
             [
              0.4444444444444444,
              "#bd3786"
             ],
             [
              0.5555555555555556,
              "#d8576b"
             ],
             [
              0.6666666666666666,
              "#ed7953"
             ],
             [
              0.7777777777777778,
              "#fb9f3a"
             ],
             [
              0.8888888888888888,
              "#fdca26"
             ],
             [
              1,
              "#f0f921"
             ]
            ],
            "type": "histogram2dcontour"
           }
          ],
          "mesh3d": [
           {
            "colorbar": {
             "outlinewidth": 0,
             "ticks": ""
            },
            "type": "mesh3d"
           }
          ],
          "parcoords": [
           {
            "line": {
             "colorbar": {
              "outlinewidth": 0,
              "ticks": ""
             }
            },
            "type": "parcoords"
           }
          ],
          "pie": [
           {
            "automargin": true,
            "type": "pie"
           }
          ],
          "scatter": [
           {
            "marker": {
             "colorbar": {
              "outlinewidth": 0,
              "ticks": ""
             }
            },
            "type": "scatter"
           }
          ],
          "scatter3d": [
           {
            "line": {
             "colorbar": {
              "outlinewidth": 0,
              "ticks": ""
             }
            },
            "marker": {
             "colorbar": {
              "outlinewidth": 0,
              "ticks": ""
             }
            },
            "type": "scatter3d"
           }
          ],
          "scattercarpet": [
           {
            "marker": {
             "colorbar": {
              "outlinewidth": 0,
              "ticks": ""
             }
            },
            "type": "scattercarpet"
           }
          ],
          "scattergeo": [
           {
            "marker": {
             "colorbar": {
              "outlinewidth": 0,
              "ticks": ""
             }
            },
            "type": "scattergeo"
           }
          ],
          "scattergl": [
           {
            "marker": {
             "colorbar": {
              "outlinewidth": 0,
              "ticks": ""
             }
            },
            "type": "scattergl"
           }
          ],
          "scattermapbox": [
           {
            "marker": {
             "colorbar": {
              "outlinewidth": 0,
              "ticks": ""
             }
            },
            "type": "scattermapbox"
           }
          ],
          "scatterpolar": [
           {
            "marker": {
             "colorbar": {
              "outlinewidth": 0,
              "ticks": ""
             }
            },
            "type": "scatterpolar"
           }
          ],
          "scatterpolargl": [
           {
            "marker": {
             "colorbar": {
              "outlinewidth": 0,
              "ticks": ""
             }
            },
            "type": "scatterpolargl"
           }
          ],
          "scatterternary": [
           {
            "marker": {
             "colorbar": {
              "outlinewidth": 0,
              "ticks": ""
             }
            },
            "type": "scatterternary"
           }
          ],
          "surface": [
           {
            "colorbar": {
             "outlinewidth": 0,
             "ticks": ""
            },
            "colorscale": [
             [
              0,
              "#0d0887"
             ],
             [
              0.1111111111111111,
              "#46039f"
             ],
             [
              0.2222222222222222,
              "#7201a8"
             ],
             [
              0.3333333333333333,
              "#9c179e"
             ],
             [
              0.4444444444444444,
              "#bd3786"
             ],
             [
              0.5555555555555556,
              "#d8576b"
             ],
             [
              0.6666666666666666,
              "#ed7953"
             ],
             [
              0.7777777777777778,
              "#fb9f3a"
             ],
             [
              0.8888888888888888,
              "#fdca26"
             ],
             [
              1,
              "#f0f921"
             ]
            ],
            "type": "surface"
           }
          ],
          "table": [
           {
            "cells": {
             "fill": {
              "color": "#EBF0F8"
             },
             "line": {
              "color": "white"
             }
            },
            "header": {
             "fill": {
              "color": "#C8D4E3"
             },
             "line": {
              "color": "white"
             }
            },
            "type": "table"
           }
          ]
         },
         "layout": {
          "annotationdefaults": {
           "arrowcolor": "#2a3f5f",
           "arrowhead": 0,
           "arrowwidth": 1
          },
          "autotypenumbers": "strict",
          "coloraxis": {
           "colorbar": {
            "outlinewidth": 0,
            "ticks": ""
           }
          },
          "colorscale": {
           "diverging": [
            [
             0,
             "#8e0152"
            ],
            [
             0.1,
             "#c51b7d"
            ],
            [
             0.2,
             "#de77ae"
            ],
            [
             0.3,
             "#f1b6da"
            ],
            [
             0.4,
             "#fde0ef"
            ],
            [
             0.5,
             "#f7f7f7"
            ],
            [
             0.6,
             "#e6f5d0"
            ],
            [
             0.7,
             "#b8e186"
            ],
            [
             0.8,
             "#7fbc41"
            ],
            [
             0.9,
             "#4d9221"
            ],
            [
             1,
             "#276419"
            ]
           ],
           "sequential": [
            [
             0,
             "#0d0887"
            ],
            [
             0.1111111111111111,
             "#46039f"
            ],
            [
             0.2222222222222222,
             "#7201a8"
            ],
            [
             0.3333333333333333,
             "#9c179e"
            ],
            [
             0.4444444444444444,
             "#bd3786"
            ],
            [
             0.5555555555555556,
             "#d8576b"
            ],
            [
             0.6666666666666666,
             "#ed7953"
            ],
            [
             0.7777777777777778,
             "#fb9f3a"
            ],
            [
             0.8888888888888888,
             "#fdca26"
            ],
            [
             1,
             "#f0f921"
            ]
           ],
           "sequentialminus": [
            [
             0,
             "#0d0887"
            ],
            [
             0.1111111111111111,
             "#46039f"
            ],
            [
             0.2222222222222222,
             "#7201a8"
            ],
            [
             0.3333333333333333,
             "#9c179e"
            ],
            [
             0.4444444444444444,
             "#bd3786"
            ],
            [
             0.5555555555555556,
             "#d8576b"
            ],
            [
             0.6666666666666666,
             "#ed7953"
            ],
            [
             0.7777777777777778,
             "#fb9f3a"
            ],
            [
             0.8888888888888888,
             "#fdca26"
            ],
            [
             1,
             "#f0f921"
            ]
           ]
          },
          "colorway": [
           "#636efa",
           "#EF553B",
           "#00cc96",
           "#ab63fa",
           "#FFA15A",
           "#19d3f3",
           "#FF6692",
           "#B6E880",
           "#FF97FF",
           "#FECB52"
          ],
          "font": {
           "color": "#2a3f5f"
          },
          "geo": {
           "bgcolor": "white",
           "lakecolor": "white",
           "landcolor": "white",
           "showlakes": true,
           "showland": true,
           "subunitcolor": "#C8D4E3"
          },
          "hoverlabel": {
           "align": "left"
          },
          "hovermode": "closest",
          "mapbox": {
           "style": "light"
          },
          "paper_bgcolor": "white",
          "plot_bgcolor": "white",
          "polar": {
           "angularaxis": {
            "gridcolor": "#EBF0F8",
            "linecolor": "#EBF0F8",
            "ticks": ""
           },
           "bgcolor": "white",
           "radialaxis": {
            "gridcolor": "#EBF0F8",
            "linecolor": "#EBF0F8",
            "ticks": ""
           }
          },
          "scene": {
           "xaxis": {
            "backgroundcolor": "white",
            "gridcolor": "#DFE8F3",
            "gridwidth": 2,
            "linecolor": "#EBF0F8",
            "showbackground": true,
            "ticks": "",
            "zerolinecolor": "#EBF0F8"
           },
           "yaxis": {
            "backgroundcolor": "white",
            "gridcolor": "#DFE8F3",
            "gridwidth": 2,
            "linecolor": "#EBF0F8",
            "showbackground": true,
            "ticks": "",
            "zerolinecolor": "#EBF0F8"
           },
           "zaxis": {
            "backgroundcolor": "white",
            "gridcolor": "#DFE8F3",
            "gridwidth": 2,
            "linecolor": "#EBF0F8",
            "showbackground": true,
            "ticks": "",
            "zerolinecolor": "#EBF0F8"
           }
          },
          "shapedefaults": {
           "line": {
            "color": "#2a3f5f"
           }
          },
          "ternary": {
           "aaxis": {
            "gridcolor": "#DFE8F3",
            "linecolor": "#A2B1C6",
            "ticks": ""
           },
           "baxis": {
            "gridcolor": "#DFE8F3",
            "linecolor": "#A2B1C6",
            "ticks": ""
           },
           "bgcolor": "white",
           "caxis": {
            "gridcolor": "#DFE8F3",
            "linecolor": "#A2B1C6",
            "ticks": ""
           }
          },
          "title": {
           "x": 0.05
          },
          "xaxis": {
           "automargin": true,
           "gridcolor": "#EBF0F8",
           "linecolor": "#EBF0F8",
           "ticks": "",
           "title": {
            "standoff": 15
           },
           "zerolinecolor": "#EBF0F8",
           "zerolinewidth": 2
          },
          "yaxis": {
           "automargin": true,
           "gridcolor": "#EBF0F8",
           "linecolor": "#EBF0F8",
           "ticks": "",
           "title": {
            "standoff": 15
           },
           "zerolinecolor": "#EBF0F8",
           "zerolinewidth": 2
          }
         }
        },
        "title": {
         "text": "<b>Bus BF67GKP : ETA Time Series</b> - Line: 18"
        },
        "yaxis": {
         "nticks": 10,
         "title": {
          "text": "ETA in Seconds"
         },
         "zerolinecolor": "darkgrey"
        }
       }
      },
      "text/html": [
       "<div>                            <div id=\"b83112bd-0932-4d69-95b2-4c79f897fb67\" class=\"plotly-graph-div\" style=\"height:525px; width:100%;\"></div>            <script type=\"text/javascript\">                require([\"plotly\"], function(Plotly) {                    window.PLOTLYENV=window.PLOTLYENV || {};                                    if (document.getElementById(\"b83112bd-0932-4d69-95b2-4c79f897fb67\")) {                    Plotly.newPlot(                        \"b83112bd-0932-4d69-95b2-4c79f897fb67\",                        [{\"hoverinfo\": \"text\", \"line\": {\"color\": \"#7f7f7f\", \"width\": 3}, \"mode\": \"lines+markers\", \"name\": \"[6] 490014387E2\", \"text\": [\"<b>Bus : BF67GKP</b> <br>Stop[6]: 490014387E2<br>Time : 18:39:39<br>ETA : 2\"], \"type\": \"scatter\", \"x\": [\"2021-02-06T18:39:39.314451\"], \"y\": [2]}, {\"hoverinfo\": \"text\", \"line\": {\"color\": \"#e377c2\", \"width\": 3}, \"mode\": \"lines+markers\", \"name\": \"[7] 490014315N1\", \"text\": [\"<b>Bus : BF67GKP</b> <br>Stop[7]: 490014315N1<br>Time : 18:40:40<br>ETA : 18\"], \"type\": \"scatter\", \"x\": [\"2021-02-06T18:40:40.998173\"], \"y\": [18]}, {\"hoverinfo\": \"text\", \"line\": {\"color\": \"#2ca02c\", \"width\": 3}, \"mode\": \"lines+markers\", \"name\": \"[9] 490007867E\", \"text\": [\"<b>Bus : BF67GKP</b> <br>Stop[9]: 490007867E<br>Time : 18:39:40<br>ETA : 299\", \"<b>Bus : BF67GKP</b> <br>Stop[9]: 490007867E<br>Time : 18:41:09<br>ETA : 210\", \"<b>Bus : BF67GKP</b> <br>Stop[9]: 490007867E<br>Time : 18:41:39<br>ETA : 180\", \"<b>Bus : BF67GKP</b> <br>Stop[9]: 490007867E<br>Time : 18:43:10<br>ETA : 155\", \"<b>Bus : BF67GKP</b> <br>Stop[9]: 490007867E<br>Time : 18:45:10<br>ETA : 35\"], \"type\": \"scatter\", \"x\": [\"2021-02-06T18:39:40.516096\", \"2021-02-06T18:41:09.855650\", \"2021-02-06T18:41:39.860482\", \"2021-02-06T18:43:10.291667\", \"2021-02-06T18:45:10.218371\"], \"y\": [299, 210, 180, 155, 35]}, {\"hoverinfo\": \"text\", \"line\": {\"color\": \"#1f77b4\", \"width\": 3}, \"mode\": \"lines+markers\", \"name\": \"[10] 490014975E\", \"text\": [\"<b>Bus : BF67GKP</b> <br>Stop[10]: 490014975E<br>Time : 18:39:40<br>ETA : 346\", \"<b>Bus : BF67GKP</b> <br>Stop[10]: 490014975E<br>Time : 18:41:09<br>ETA : 257\", \"<b>Bus : BF67GKP</b> <br>Stop[10]: 490014975E<br>Time : 18:41:39<br>ETA : 227\", \"<b>Bus : BF67GKP</b> <br>Stop[10]: 490014975E<br>Time : 18:42:09<br>ETA : 229\", \"<b>Bus : BF67GKP</b> <br>Stop[10]: 490014975E<br>Time : 18:42:40<br>ETA : 229\", \"<b>Bus : BF67GKP</b> <br>Stop[10]: 490014975E<br>Time : 18:43:10<br>ETA : 199\", \"<b>Bus : BF67GKP</b> <br>Stop[10]: 490014975E<br>Time : 18:43:39<br>ETA : 170\", \"<b>Bus : BF67GKP</b> <br>Stop[10]: 490014975E<br>Time : 18:44:10<br>ETA : 139\", \"<b>Bus : BF67GKP</b> <br>Stop[10]: 490014975E<br>Time : 18:44:41<br>ETA : 108\", \"<b>Bus : BF67GKP</b> <br>Stop[10]: 490014975E<br>Time : 18:45:09<br>ETA : 80\", \"<b>Bus : BF67GKP</b> <br>Stop[10]: 490014975E<br>Time : 18:46:10<br>ETA : 19\"], \"type\": \"scatter\", \"x\": [\"2021-02-06T18:39:40.887994\", \"2021-02-06T18:41:09.667183\", \"2021-02-06T18:41:39.681609\", \"2021-02-06T18:42:09.912226\", \"2021-02-06T18:42:40.249712\", \"2021-02-06T18:43:10.108385\", \"2021-02-06T18:43:39.963182\", \"2021-02-06T18:44:10.703819\", \"2021-02-06T18:44:41.062761\", \"2021-02-06T18:45:09.999163\", \"2021-02-06T18:46:10.383207\"], \"y\": [346, 257, 227, 229, 229, 199, 170, 139, 108, 80, 19]}, {\"hoverinfo\": \"text\", \"line\": {\"color\": \"#7f7f7f\", \"width\": 3}, \"mode\": \"lines+markers\", \"name\": \"[11] 490010337D\", \"text\": [\"<b>Bus : BF67GKP</b> <br>Stop[11]: 490010337D<br>Time : 18:39:41<br>ETA : 415\", \"<b>Bus : BF67GKP</b> <br>Stop[11]: 490010337D<br>Time : 18:40:41<br>ETA : 355\", \"<b>Bus : BF67GKP</b> <br>Stop[11]: 490010337D<br>Time : 18:41:10<br>ETA : 326\", \"<b>Bus : BF67GKP</b> <br>Stop[11]: 490010337D<br>Time : 18:42:10<br>ETA : 266\", \"<b>Bus : BF67GKP</b> <br>Stop[11]: 490010337D<br>Time : 18:43:10<br>ETA : 257\", \"<b>Bus : BF67GKP</b> <br>Stop[11]: 490010337D<br>Time : 18:43:40<br>ETA : 227\", \"<b>Bus : BF67GKP</b> <br>Stop[11]: 490010337D<br>Time : 18:44:10<br>ETA : 197\", \"<b>Bus : BF67GKP</b> <br>Stop[11]: 490010337D<br>Time : 18:44:42<br>ETA : 165\", \"<b>Bus : BF67GKP</b> <br>Stop[11]: 490010337D<br>Time : 18:45:10<br>ETA : 137\", \"<b>Bus : BF67GKP</b> <br>Stop[11]: 490010337D<br>Time : 18:45:40<br>ETA : 107\", \"<b>Bus : BF67GKP</b> <br>Stop[11]: 490010337D<br>Time : 18:46:11<br>ETA : 76\", \"<b>Bus : BF67GKP</b> <br>Stop[11]: 490010337D<br>Time : 18:47:10<br>ETA : 4\"], \"type\": \"scatter\", \"x\": [\"2021-02-06T18:39:41.544234\", \"2021-02-06T18:40:41.582700\", \"2021-02-06T18:41:10.910281\", \"2021-02-06T18:42:10.565510\", \"2021-02-06T18:43:10.224877\", \"2021-02-06T18:43:40.143195\", \"2021-02-06T18:44:10.749975\", \"2021-02-06T18:44:42.946780\", \"2021-02-06T18:45:10.342908\", \"2021-02-06T18:45:40.948577\", \"2021-02-06T18:46:11.079424\", \"2021-02-06T18:47:10.443993\"], \"y\": [415, 355, 326, 266, 257, 227, 197, 165, 137, 107, 76, 4]}, {\"hoverinfo\": \"text\", \"line\": {\"color\": \"#bcbd22\", \"width\": 3}, \"mode\": \"lines+markers\", \"name\": \"[12] 490010332J\", \"text\": [\"<b>Bus : BF67GKP</b> <br>Stop[12]: 490010332J<br>Time : 18:39:40<br>ETA : 483\", \"<b>Bus : BF67GKP</b> <br>Stop[12]: 490010332J<br>Time : 18:41:09<br>ETA : 394\", \"<b>Bus : BF67GKP</b> <br>Stop[12]: 490010332J<br>Time : 18:41:40<br>ETA : 363\", \"<b>Bus : BF67GKP</b> <br>Stop[12]: 490010332J<br>Time : 18:42:40<br>ETA : 303\", \"<b>Bus : BF67GKP</b> <br>Stop[12]: 490010332J<br>Time : 18:43:10<br>ETA : 273\", \"<b>Bus : BF67GKP</b> <br>Stop[12]: 490010332J<br>Time : 18:44:10<br>ETA : 262\", \"<b>Bus : BF67GKP</b> <br>Stop[12]: 490010332J<br>Time : 18:45:40<br>ETA : 172\", \"<b>Bus : BF67GKP</b> <br>Stop[12]: 490010332J<br>Time : 18:46:09<br>ETA : 143\", \"<b>Bus : BF67GKP</b> <br>Stop[12]: 490010332J<br>Time : 18:47:39<br>ETA : 53\", \"<b>Bus : BF67GKP</b> <br>Stop[12]: 490010332J<br>Time : 18:48:39<br>ETA : 17\"], \"type\": \"scatter\", \"x\": [\"2021-02-06T18:39:40.200495\", \"2021-02-06T18:41:09.555130\", \"2021-02-06T18:41:40.112867\", \"2021-02-06T18:42:40.056167\", \"2021-02-06T18:43:10.095567\", \"2021-02-06T18:44:10.250700\", \"2021-02-06T18:45:40.280278\", \"2021-02-06T18:46:09.932323\", \"2021-02-06T18:47:39.307862\", \"2021-02-06T18:48:39.227336\"], \"y\": [483, 394, 363, 303, 273, 262, 172, 143, 53, 17]}, {\"hoverinfo\": \"text\", \"line\": {\"color\": \"#e377c2\", \"width\": 3}, \"mode\": \"lines+markers\", \"name\": \"[14] 490012847E\", \"text\": [\"<b>Bus : BF67GKP</b> <br>Stop[14]: 490012847E<br>Time : 18:39:38<br>ETA : 563\", \"<b>Bus : BF67GKP</b> <br>Stop[14]: 490012847E<br>Time : 18:40:37<br>ETA : 504\", \"<b>Bus : BF67GKP</b> <br>Stop[14]: 490012847E<br>Time : 18:43:08<br>ETA : 353\"], \"type\": \"scatter\", \"x\": [\"2021-02-06T18:39:38.016188\", \"2021-02-06T18:40:37.402841\", \"2021-02-06T18:43:08.158111\"], \"y\": [563, 504, 353]}, {\"hoverinfo\": \"text\", \"line\": {\"color\": \"#7f7f7f\", \"width\": 3}, \"mode\": \"lines+markers\", \"name\": \"[15] 490012848E\", \"text\": [\"<b>Bus : BF67GKP</b> <br>Stop[15]: 490012848E<br>Time : 18:39:37<br>ETA : 627\", \"<b>Bus : BF67GKP</b> <br>Stop[15]: 490012848E<br>Time : 18:40:07<br>ETA : 597\", \"<b>Bus : BF67GKP</b> <br>Stop[15]: 490012848E<br>Time : 18:40:38<br>ETA : 566\", \"<b>Bus : BF67GKP</b> <br>Stop[15]: 490012848E<br>Time : 18:42:07<br>ETA : 477\", \"<b>Bus : BF67GKP</b> <br>Stop[15]: 490012848E<br>Time : 18:42:37<br>ETA : 447\", \"<b>Bus : BF67GKP</b> <br>Stop[15]: 490012848E<br>Time : 18:43:38<br>ETA : 386\", \"<b>Bus : BF67GKP</b> <br>Stop[15]: 490012848E<br>Time : 18:44:37<br>ETA : 387\", \"<b>Bus : BF67GKP</b> <br>Stop[15]: 490012848E<br>Time : 18:45:37<br>ETA : 327\", \"<b>Bus : BF67GKP</b> <br>Stop[15]: 490012848E<br>Time : 18:46:07<br>ETA : 297\", \"<b>Bus : BF67GKP</b> <br>Stop[15]: 490012848E<br>Time : 18:47:07<br>ETA : 237\", \"<b>Bus : BF67GKP</b> <br>Stop[15]: 490012848E<br>Time : 18:47:37<br>ETA : 207\", \"<b>Bus : BF67GKP</b> <br>Stop[15]: 490012848E<br>Time : 18:48:07<br>ETA : 177\", \"<b>Bus : BF67GKP</b> <br>Stop[15]: 490012848E<br>Time : 18:49:37<br>ETA : 24\"], \"type\": \"scatter\", \"x\": [\"2021-02-06T18:39:37.903649\", \"2021-02-06T18:40:07.768876\", \"2021-02-06T18:40:38.051523\", \"2021-02-06T18:42:07.609828\", \"2021-02-06T18:42:37.904616\", \"2021-02-06T18:43:38.063798\", \"2021-02-06T18:44:37.853091\", \"2021-02-06T18:45:37.821106\", \"2021-02-06T18:46:07.907868\", \"2021-02-06T18:47:07.983509\", \"2021-02-06T18:47:37.710259\", \"2021-02-06T18:48:07.570561\", \"2021-02-06T18:49:37.567153\"], \"y\": [627, 597, 566, 477, 447, 386, 387, 327, 297, 237, 207, 177, 24]}, {\"hoverinfo\": \"text\", \"line\": {\"color\": \"#ff7f0e\", \"width\": 3}, \"mode\": \"lines+markers\", \"name\": \"[16] 490008865E\", \"text\": [\"<b>Bus : BF67GKP</b> <br>Stop[16]: 490008865E<br>Time : 18:39:38<br>ETA : 695\", \"<b>Bus : BF67GKP</b> <br>Stop[16]: 490008865E<br>Time : 18:40:38<br>ETA : 635\", \"<b>Bus : BF67GKP</b> <br>Stop[16]: 490008865E<br>Time : 18:42:08<br>ETA : 545\", \"<b>Bus : BF67GKP</b> <br>Stop[16]: 490008865E<br>Time : 18:43:08<br>ETA : 485\", \"<b>Bus : BF67GKP</b> <br>Stop[16]: 490008865E<br>Time : 18:43:38<br>ETA : 455\", \"<b>Bus : BF67GKP</b> <br>Stop[16]: 490008865E<br>Time : 18:44:38<br>ETA : 464\", \"<b>Bus : BF67GKP</b> <br>Stop[16]: 490008865E<br>Time : 18:45:08<br>ETA : 434\", \"<b>Bus : BF67GKP</b> <br>Stop[16]: 490008865E<br>Time : 18:46:08<br>ETA : 374\", \"<b>Bus : BF67GKP</b> <br>Stop[16]: 490008865E<br>Time : 18:46:38<br>ETA : 344\", \"<b>Bus : BF67GKP</b> <br>Stop[16]: 490008865E<br>Time : 18:47:08<br>ETA : 272\", \"<b>Bus : BF67GKP</b> <br>Stop[16]: 490008865E<br>Time : 18:48:09<br>ETA : 211\", \"<b>Bus : BF67GKP</b> <br>Stop[16]: 490008865E<br>Time : 18:48:38<br>ETA : 221\", \"<b>Bus : BF67GKP</b> <br>Stop[16]: 490008865E<br>Time : 18:49:39<br>ETA : 74\", \"<b>Bus : BF67GKP</b> <br>Stop[16]: 490008865E<br>Time : 18:50:08<br>ETA : 45\"], \"type\": \"scatter\", \"x\": [\"2021-02-06T18:39:38.280238\", \"2021-02-06T18:40:38.824777\", \"2021-02-06T18:42:08.799984\", \"2021-02-06T18:43:08.572939\", \"2021-02-06T18:43:38.083136\", \"2021-02-06T18:44:38.268206\", \"2021-02-06T18:45:08.342988\", \"2021-02-06T18:46:08.325089\", \"2021-02-06T18:46:38.466232\", \"2021-02-06T18:47:08.811604\", \"2021-02-06T18:48:09.230634\", \"2021-02-06T18:48:38.522628\", \"2021-02-06T18:49:39.010218\", \"2021-02-06T18:50:08.976655\"], \"y\": [695, 635, 545, 485, 455, 464, 434, 374, 344, 272, 211, 221, 74, 45]}, {\"hoverinfo\": \"text\", \"line\": {\"color\": \"#bcbd22\", \"width\": 3}, \"mode\": \"lines+markers\", \"name\": \"[18] 490012803E\", \"text\": [\"<b>Bus : BF67GKP</b> <br>Stop[18]: 490012803E<br>Time : 18:39:38<br>ETA : 834\", \"<b>Bus : BF67GKP</b> <br>Stop[18]: 490012803E<br>Time : 18:40:38<br>ETA : 774\", \"<b>Bus : BF67GKP</b> <br>Stop[18]: 490012803E<br>Time : 18:41:38<br>ETA : 714\", \"<b>Bus : BF67GKP</b> <br>Stop[18]: 490012803E<br>Time : 18:42:38<br>ETA : 654\", \"<b>Bus : BF67GKP</b> <br>Stop[18]: 490012803E<br>Time : 18:43:38<br>ETA : 594\", \"<b>Bus : BF67GKP</b> <br>Stop[18]: 490012803E<br>Time : 18:44:38<br>ETA : 534\", \"<b>Bus : BF67GKP</b> <br>Stop[18]: 490012803E<br>Time : 18:46:38<br>ETA : 414\", \"<b>Bus : BF67GKP</b> <br>Stop[18]: 490012803E<br>Time : 18:47:38<br>ETA : 354\", \"<b>Bus : BF67GKP</b> <br>Stop[18]: 490012803E<br>Time : 18:50:08<br>ETA : 214\", \"<b>Bus : BF67GKP</b> <br>Stop[18]: 490012803E<br>Time : 18:50:39<br>ETA : 143\", \"<b>Bus : BF67GKP</b> <br>Stop[18]: 490012803E<br>Time : 18:52:08<br>ETA : 54\"], \"type\": \"scatter\", \"x\": [\"2021-02-06T18:39:38.464774\", \"2021-02-06T18:40:38.690025\", \"2021-02-06T18:41:38.542871\", \"2021-02-06T18:42:38.752399\", \"2021-02-06T18:43:38.782537\", \"2021-02-06T18:44:38.375371\", \"2021-02-06T18:46:38.355207\", \"2021-02-06T18:47:38.445898\", \"2021-02-06T18:50:08.130026\", \"2021-02-06T18:50:39.035038\", \"2021-02-06T18:52:08.798964\"], \"y\": [834, 774, 714, 654, 594, 534, 414, 354, 214, 143, 54]}, {\"hoverinfo\": \"text\", \"line\": {\"color\": \"#2ca02c\", \"width\": 3}, \"mode\": \"lines+markers\", \"name\": \"[19] 490009571A\", \"text\": [\"<b>Bus : BF67GKP</b> <br>Stop[19]: 490009571A<br>Time : 18:40:08<br>ETA : 895\", \"<b>Bus : BF67GKP</b> <br>Stop[19]: 490009571A<br>Time : 18:41:39<br>ETA : 804\", \"<b>Bus : BF67GKP</b> <br>Stop[19]: 490009571A<br>Time : 18:42:39<br>ETA : 744\", \"<b>Bus : BF67GKP</b> <br>Stop[19]: 490009571A<br>Time : 18:44:09<br>ETA : 654\", \"<b>Bus : BF67GKP</b> <br>Stop[19]: 490009571A<br>Time : 18:45:39<br>ETA : 564\", \"<b>Bus : BF67GKP</b> <br>Stop[19]: 490009571A<br>Time : 18:46:08<br>ETA : 535\", \"<b>Bus : BF67GKP</b> <br>Stop[19]: 490009571A<br>Time : 18:47:09<br>ETA : 474\", \"<b>Bus : BF67GKP</b> <br>Stop[19]: 490009571A<br>Time : 18:47:39<br>ETA : 444\", \"<b>Bus : BF67GKP</b> <br>Stop[19]: 490009571A<br>Time : 18:48:09<br>ETA : 489\", \"<b>Bus : BF67GKP</b> <br>Stop[19]: 490009571A<br>Time : 18:49:38<br>ETA : 332\", \"<b>Bus : BF67GKP</b> <br>Stop[19]: 490009571A<br>Time : 18:50:09<br>ETA : 301\", \"<b>Bus : BF67GKP</b> <br>Stop[19]: 490009571A<br>Time : 18:51:11<br>ETA : 239\", \"<b>Bus : BF67GKP</b> <br>Stop[19]: 490009571A<br>Time : 18:51:39<br>ETA : 211\", \"<b>Bus : BF67GKP</b> <br>Stop[19]: 490009571A<br>Time : 18:52:09<br>ETA : 181\", \"<b>Bus : BF67GKP</b> <br>Stop[19]: 490009571A<br>Time : 18:53:39<br>ETA : 91\"], \"type\": \"scatter\", \"x\": [\"2021-02-06T18:40:08.935248\", \"2021-02-06T18:41:39.298004\", \"2021-02-06T18:42:39.526421\", \"2021-02-06T18:44:09.584019\", \"2021-02-06T18:45:39.479917\", \"2021-02-06T18:46:08.920844\", \"2021-02-06T18:47:09.197783\", \"2021-02-06T18:47:39.492748\", \"2021-02-06T18:48:09.941902\", \"2021-02-06T18:49:38.928061\", \"2021-02-06T18:50:09.129984\", \"2021-02-06T18:51:11.738875\", \"2021-02-06T18:51:39.285409\", \"2021-02-06T18:52:09.125156\", \"2021-02-06T18:53:39.043436\"], \"y\": [895, 804, 744, 654, 564, 535, 474, 444, 489, 332, 301, 239, 211, 181, 91]}, {\"hoverinfo\": \"text\", \"line\": {\"color\": \"#d62728\", \"width\": 3}, \"mode\": \"lines+markers\", \"name\": \"[21] 490005491E\", \"text\": [\"<b>Bus : BF67GKP</b> <br>Stop[21]: 490005491E<br>Time : 18:39:37<br>ETA : 1180\", \"<b>Bus : BF67GKP</b> <br>Stop[21]: 490005491E<br>Time : 18:40:08<br>ETA : 1149\", \"<b>Bus : BF67GKP</b> <br>Stop[21]: 490005491E<br>Time : 18:41:08<br>ETA : 1089\", \"<b>Bus : BF67GKP</b> <br>Stop[21]: 490005491E<br>Time : 18:41:37<br>ETA : 1060\", \"<b>Bus : BF67GKP</b> <br>Stop[21]: 490005491E<br>Time : 18:42:08<br>ETA : 1029\", \"<b>Bus : BF67GKP</b> <br>Stop[21]: 490005491E<br>Time : 18:43:07<br>ETA : 970\", \"<b>Bus : BF67GKP</b> <br>Stop[21]: 490005491E<br>Time : 18:43:37<br>ETA : 940\", \"<b>Bus : BF67GKP</b> <br>Stop[21]: 490005491E<br>Time : 18:44:37<br>ETA : 880\", \"<b>Bus : BF67GKP</b> <br>Stop[21]: 490005491E<br>Time : 18:45:08<br>ETA : 849\", \"<b>Bus : BF67GKP</b> <br>Stop[21]: 490005491E<br>Time : 18:45:38<br>ETA : 819\", \"<b>Bus : BF67GKP</b> <br>Stop[21]: 490005491E<br>Time : 18:46:07<br>ETA : 790\", \"<b>Bus : BF67GKP</b> <br>Stop[21]: 490005491E<br>Time : 18:47:07<br>ETA : 730\", \"<b>Bus : BF67GKP</b> <br>Stop[21]: 490005491E<br>Time : 18:47:37<br>ETA : 700\", \"<b>Bus : BF67GKP</b> <br>Stop[21]: 490005491E<br>Time : 18:48:08<br>ETA : 669\", \"<b>Bus : BF67GKP</b> <br>Stop[21]: 490005491E<br>Time : 18:48:38<br>ETA : 639\", \"<b>Bus : BF67GKP</b> <br>Stop[21]: 490005491E<br>Time : 18:49:08<br>ETA : 609\", \"<b>Bus : BF67GKP</b> <br>Stop[21]: 490005491E<br>Time : 18:49:37<br>ETA : 580\", \"<b>Bus : BF67GKP</b> <br>Stop[21]: 490005491E<br>Time : 18:50:37<br>ETA : 520\", \"<b>Bus : BF67GKP</b> <br>Stop[21]: 490005491E<br>Time : 18:51:09<br>ETA : 488\", \"<b>Bus : BF67GKP</b> <br>Stop[21]: 490005491E<br>Time : 18:51:38<br>ETA : 459\", \"<b>Bus : BF67GKP</b> <br>Stop[21]: 490005491E<br>Time : 18:52:07<br>ETA : 430\", \"<b>Bus : BF67GKP</b> <br>Stop[21]: 490005491E<br>Time : 18:52:37<br>ETA : 400\", \"<b>Bus : BF67GKP</b> <br>Stop[21]: 490005491E<br>Time : 18:53:41<br>ETA : 336\", \"<b>Bus : BF67GKP</b> <br>Stop[21]: 490005491E<br>Time : 18:54:07<br>ETA : 310\"], \"type\": \"scatter\", \"x\": [\"2021-02-06T18:39:37.467745\", \"2021-02-06T18:40:08.142302\", \"2021-02-06T18:41:08.191586\", \"2021-02-06T18:41:37.855300\", \"2021-02-06T18:42:08.112346\", \"2021-02-06T18:43:07.769389\", \"2021-02-06T18:43:37.853826\", \"2021-02-06T18:44:37.978094\", \"2021-02-06T18:45:08.066178\", \"2021-02-06T18:45:38.311572\", \"2021-02-06T18:46:07.791740\", \"2021-02-06T18:47:07.697827\", \"2021-02-06T18:47:37.882124\", \"2021-02-06T18:48:08.465032\", \"2021-02-06T18:48:38.120719\", \"2021-02-06T18:49:08.151416\", \"2021-02-06T18:49:37.437308\", \"2021-02-06T18:50:37.942413\", \"2021-02-06T18:51:09.533795\", \"2021-02-06T18:51:38.211129\", \"2021-02-06T18:52:07.484603\", \"2021-02-06T18:52:37.732217\", \"2021-02-06T18:53:41.343610\", \"2021-02-06T18:54:07.861715\"], \"y\": [1180, 1149, 1089, 1060, 1029, 970, 940, 880, 849, 819, 790, 730, 700, 669, 639, 609, 580, 520, 488, 459, 430, 400, 336, 310]}, {\"hoverinfo\": \"text\", \"line\": {\"color\": \"#2ca02c\", \"width\": 3}, \"mode\": \"lines+markers\", \"name\": \"[22] 490014076E\", \"text\": [\"<b>Bus : BF67GKP</b> <br>Stop[22]: 490014076E<br>Time : 18:39:41<br>ETA : 1278\", \"<b>Bus : BF67GKP</b> <br>Stop[22]: 490014076E<br>Time : 18:40:10<br>ETA : 1249\", \"<b>Bus : BF67GKP</b> <br>Stop[22]: 490014076E<br>Time : 18:41:10<br>ETA : 1189\", \"<b>Bus : BF67GKP</b> <br>Stop[22]: 490014076E<br>Time : 18:42:40<br>ETA : 1099\", \"<b>Bus : BF67GKP</b> <br>Stop[22]: 490014076E<br>Time : 18:44:11<br>ETA : 1008\", \"<b>Bus : BF67GKP</b> <br>Stop[22]: 490014076E<br>Time : 18:44:41<br>ETA : 978\", \"<b>Bus : BF67GKP</b> <br>Stop[22]: 490014076E<br>Time : 18:45:10<br>ETA : 949\", \"<b>Bus : BF67GKP</b> <br>Stop[22]: 490014076E<br>Time : 18:46:40<br>ETA : 859\", \"<b>Bus : BF67GKP</b> <br>Stop[22]: 490014076E<br>Time : 18:47:10<br>ETA : 829\", \"<b>Bus : BF67GKP</b> <br>Stop[22]: 490014076E<br>Time : 18:47:40<br>ETA : 799\", \"<b>Bus : BF67GKP</b> <br>Stop[22]: 490014076E<br>Time : 18:48:11<br>ETA : 768\", \"<b>Bus : BF67GKP</b> <br>Stop[22]: 490014076E<br>Time : 18:49:10<br>ETA : 709\", \"<b>Bus : BF67GKP</b> <br>Stop[22]: 490014076E<br>Time : 18:49:40<br>ETA : 679\", \"<b>Bus : BF67GKP</b> <br>Stop[22]: 490014076E<br>Time : 18:50:41<br>ETA : 618\", \"<b>Bus : BF67GKP</b> <br>Stop[22]: 490014076E<br>Time : 18:51:40<br>ETA : 559\", \"<b>Bus : BF67GKP</b> <br>Stop[22]: 490014076E<br>Time : 18:52:40<br>ETA : 499\", \"<b>Bus : BF67GKP</b> <br>Stop[22]: 490014076E<br>Time : 18:53:10<br>ETA : 469\", \"<b>Bus : BF67GKP</b> <br>Stop[22]: 490014076E<br>Time : 18:53:41<br>ETA : 438\", \"<b>Bus : BF67GKP</b> <br>Stop[22]: 490014076E<br>Time : 18:54:10<br>ETA : 409\"], \"type\": \"scatter\", \"x\": [\"2021-02-06T18:39:41.766045\", \"2021-02-06T18:40:10.565676\", \"2021-02-06T18:41:10.351994\", \"2021-02-06T18:42:40.765315\", \"2021-02-06T18:44:11.078818\", \"2021-02-06T18:44:41.703353\", \"2021-02-06T18:45:10.852686\", \"2021-02-06T18:46:40.698847\", \"2021-02-06T18:47:10.842782\", \"2021-02-06T18:47:40.600847\", \"2021-02-06T18:48:11.570106\", \"2021-02-06T18:49:10.447261\", \"2021-02-06T18:49:40.927408\", \"2021-02-06T18:50:41.705357\", \"2021-02-06T18:51:40.267540\", \"2021-02-06T18:52:40.907595\", \"2021-02-06T18:53:10.154804\", \"2021-02-06T18:53:41.698548\", \"2021-02-06T18:54:10.998734\"], \"y\": [1278, 1249, 1189, 1099, 1008, 978, 949, 859, 829, 799, 768, 709, 679, 618, 559, 499, 469, 438, 409]}, {\"hoverinfo\": \"text\", \"line\": {\"color\": \"#1f77b4\", \"width\": 3}, \"mode\": \"lines+markers\", \"name\": \"[23] 490012788E\", \"text\": [\"<b>Bus : BF67GKP</b> <br>Stop[23]: 490012788E<br>Time : 18:40:37<br>ETA : 1259\", \"<b>Bus : BF67GKP</b> <br>Stop[23]: 490012788E<br>Time : 18:42:37<br>ETA : 1139\", \"<b>Bus : BF67GKP</b> <br>Stop[23]: 490012788E<br>Time : 18:47:37<br>ETA : 839\", \"<b>Bus : BF67GKP</b> <br>Stop[23]: 490012788E<br>Time : 18:49:37<br>ETA : 719\", \"<b>Bus : BF67GKP</b> <br>Stop[23]: 490012788E<br>Time : 18:51:09<br>ETA : 627\", \"<b>Bus : BF67GKP</b> <br>Stop[23]: 490012788E<br>Time : 18:53:07<br>ETA : 509\"], \"type\": \"scatter\", \"x\": [\"2021-02-06T18:40:37.232347\", \"2021-02-06T18:42:37.671633\", \"2021-02-06T18:47:37.446698\", \"2021-02-06T18:49:37.966333\", \"2021-02-06T18:51:09.815963\", \"2021-02-06T18:53:07.625714\"], \"y\": [1259, 1139, 839, 719, 627, 509]}, {\"hoverinfo\": \"text\", \"line\": {\"color\": \"#17becf\", \"width\": 3}, \"mode\": \"lines+markers\", \"name\": \"[24] 490000122E\", \"text\": [\"<b>Bus : BF67GKP</b> <br>Stop[24]: 490000122E<br>Time : 18:39:40<br>ETA : 1397\", \"<b>Bus : BF67GKP</b> <br>Stop[24]: 490000122E<br>Time : 18:41:09<br>ETA : 1308\", \"<b>Bus : BF67GKP</b> <br>Stop[24]: 490000122E<br>Time : 18:43:09<br>ETA : 1188\", \"<b>Bus : BF67GKP</b> <br>Stop[24]: 490000122E<br>Time : 18:44:09<br>ETA : 1128\", \"<b>Bus : BF67GKP</b> <br>Stop[24]: 490000122E<br>Time : 18:45:39<br>ETA : 1038\", \"<b>Bus : BF67GKP</b> <br>Stop[24]: 490000122E<br>Time : 18:46:40<br>ETA : 977\", \"<b>Bus : BF67GKP</b> <br>Stop[24]: 490000122E<br>Time : 18:48:10<br>ETA : 887\", \"<b>Bus : BF67GKP</b> <br>Stop[24]: 490000122E<br>Time : 18:50:40<br>ETA : 737\", \"<b>Bus : BF67GKP</b> <br>Stop[24]: 490000122E<br>Time : 18:51:39<br>ETA : 678\", \"<b>Bus : BF67GKP</b> <br>Stop[24]: 490000122E<br>Time : 18:52:40<br>ETA : 617\"], \"type\": \"scatter\", \"x\": [\"2021-02-06T18:39:40.328599\", \"2021-02-06T18:41:09.699395\", \"2021-02-06T18:43:09.488085\", \"2021-02-06T18:44:09.285016\", \"2021-02-06T18:45:39.808022\", \"2021-02-06T18:46:40.786859\", \"2021-02-06T18:48:10.007978\", \"2021-02-06T18:50:40.752272\", \"2021-02-06T18:51:39.406291\", \"2021-02-06T18:52:40.381853\"], \"y\": [1397, 1308, 1188, 1128, 1038, 977, 887, 737, 678, 617]}, {\"hoverinfo\": \"text\", \"line\": {\"color\": \"#e377c2\", \"width\": 3}, \"mode\": \"lines+markers\", \"name\": \"[25] 490014700E\", \"text\": [\"<b>Bus : BF67GKP</b> <br>Stop[25]: 490014700E<br>Time : 18:39:38<br>ETA : 1442\", \"<b>Bus : BF67GKP</b> <br>Stop[25]: 490014700E<br>Time : 18:40:38<br>ETA : 1382\", \"<b>Bus : BF67GKP</b> <br>Stop[25]: 490014700E<br>Time : 18:42:38<br>ETA : 1262\", \"<b>Bus : BF67GKP</b> <br>Stop[25]: 490014700E<br>Time : 18:44:07<br>ETA : 1173\", \"<b>Bus : BF67GKP</b> <br>Stop[25]: 490014700E<br>Time : 18:44:38<br>ETA : 1142\", \"<b>Bus : BF67GKP</b> <br>Stop[25]: 490014700E<br>Time : 18:46:08<br>ETA : 1052\", \"<b>Bus : BF67GKP</b> <br>Stop[25]: 490014700E<br>Time : 18:46:38<br>ETA : 1022\", \"<b>Bus : BF67GKP</b> <br>Stop[25]: 490014700E<br>Time : 18:48:08<br>ETA : 932\", \"<b>Bus : BF67GKP</b> <br>Stop[25]: 490014700E<br>Time : 18:49:38<br>ETA : 842\", \"<b>Bus : BF67GKP</b> <br>Stop[25]: 490014700E<br>Time : 18:51:11<br>ETA : 749\", \"<b>Bus : BF67GKP</b> <br>Stop[25]: 490014700E<br>Time : 18:52:38<br>ETA : 662\", \"<b>Bus : BF67GKP</b> <br>Stop[25]: 490014700E<br>Time : 18:54:07<br>ETA : 573\"], \"type\": \"scatter\", \"x\": [\"2021-02-06T18:39:38.750522\", \"2021-02-06T18:40:38.580652\", \"2021-02-06T18:42:38.643027\", \"2021-02-06T18:44:07.800687\", \"2021-02-06T18:44:38.265998\", \"2021-02-06T18:46:08.367606\", \"2021-02-06T18:46:38.416046\", \"2021-02-06T18:48:08.965582\", \"2021-02-06T18:49:38.807103\", \"2021-02-06T18:51:11.073265\", \"2021-02-06T18:52:38.376413\", \"2021-02-06T18:54:07.792300\"], \"y\": [1442, 1382, 1262, 1173, 1142, 1052, 1022, 932, 842, 749, 662, 573]}, {\"hoverinfo\": \"text\", \"line\": {\"color\": \"#1f77b4\", \"width\": 3}, \"mode\": \"lines+markers\", \"name\": \"[26] 490008711X\", \"text\": [\"<b>Bus : BF67GKP</b> <br>Stop[26]: 490008711X<br>Time : 18:41:08<br>ETA : 1438\", \"<b>Bus : BF67GKP</b> <br>Stop[26]: 490008711X<br>Time : 18:42:38<br>ETA : 1348\", \"<b>Bus : BF67GKP</b> <br>Stop[26]: 490008711X<br>Time : 18:43:37<br>ETA : 1289\", \"<b>Bus : BF67GKP</b> <br>Stop[26]: 490008711X<br>Time : 18:45:07<br>ETA : 1199\", \"<b>Bus : BF67GKP</b> <br>Stop[26]: 490008711X<br>Time : 18:47:37<br>ETA : 1049\", \"<b>Bus : BF67GKP</b> <br>Stop[26]: 490008711X<br>Time : 18:49:08<br>ETA : 958\", \"<b>Bus : BF67GKP</b> <br>Stop[26]: 490008711X<br>Time : 18:51:10<br>ETA : 836\"], \"type\": \"scatter\", \"x\": [\"2021-02-06T18:41:08.012775\", \"2021-02-06T18:42:38.049291\", \"2021-02-06T18:43:37.765065\", \"2021-02-06T18:45:07.282694\", \"2021-02-06T18:47:37.742773\", \"2021-02-06T18:49:08.072927\", \"2021-02-06T18:51:10.021278\"], \"y\": [1438, 1348, 1289, 1199, 1049, 958, 836]}, {\"hoverinfo\": \"text\", \"line\": {\"color\": \"#d62728\", \"width\": 3}, \"mode\": \"lines+markers\", \"name\": \"[27] 490006832E\", \"text\": [\"<b>Bus : BF67GKP</b> <br>Stop[27]: 490006832E<br>Time : 18:40:10<br>ETA : 1560\", \"<b>Bus : BF67GKP</b> <br>Stop[27]: 490006832E<br>Time : 18:41:40<br>ETA : 1470\", \"<b>Bus : BF67GKP</b> <br>Stop[27]: 490006832E<br>Time : 18:42:10<br>ETA : 1440\", \"<b>Bus : BF67GKP</b> <br>Stop[27]: 490006832E<br>Time : 18:45:10<br>ETA : 1260\", \"<b>Bus : BF67GKP</b> <br>Stop[27]: 490006832E<br>Time : 18:46:10<br>ETA : 1200\", \"<b>Bus : BF67GKP</b> <br>Stop[27]: 490006832E<br>Time : 18:46:39<br>ETA : 1171\", \"<b>Bus : BF67GKP</b> <br>Stop[27]: 490006832E<br>Time : 18:47:39<br>ETA : 1111\", \"<b>Bus : BF67GKP</b> <br>Stop[27]: 490006832E<br>Time : 18:48:10<br>ETA : 1080\", \"<b>Bus : BF67GKP</b> <br>Stop[27]: 490006832E<br>Time : 18:49:10<br>ETA : 1020\", \"<b>Bus : BF67GKP</b> <br>Stop[27]: 490006832E<br>Time : 18:50:11<br>ETA : 959\", \"<b>Bus : BF67GKP</b> <br>Stop[27]: 490006832E<br>Time : 18:51:40<br>ETA : 870\", \"<b>Bus : BF67GKP</b> <br>Stop[27]: 490006832E<br>Time : 18:52:40<br>ETA : 810\", \"<b>Bus : BF67GKP</b> <br>Stop[27]: 490006832E<br>Time : 18:53:40<br>ETA : 750\"], \"type\": \"scatter\", \"x\": [\"2021-02-06T18:40:10.436835\", \"2021-02-06T18:41:40.040981\", \"2021-02-06T18:42:10.206055\", \"2021-02-06T18:45:10.212066\", \"2021-02-06T18:46:10.106267\", \"2021-02-06T18:46:39.872725\", \"2021-02-06T18:47:39.977863\", \"2021-02-06T18:48:10.996227\", \"2021-02-06T18:49:10.448417\", \"2021-02-06T18:50:11.165902\", \"2021-02-06T18:51:40.301320\", \"2021-02-06T18:52:40.705284\", \"2021-02-06T18:53:40.826034\"], \"y\": [1560, 1470, 1440, 1260, 1200, 1171, 1111, 1080, 1020, 959, 870, 810, 750]}, {\"hoverinfo\": \"text\", \"line\": {\"color\": \"#bcbd22\", \"width\": 3}, \"mode\": \"lines+markers\", \"name\": \"[28] 490013613E\", \"text\": [\"<b>Bus : BF67GKP</b> <br>Stop[28]: 490013613E<br>Time : 18:39:37<br>ETA : 1638\", \"<b>Bus : BF67GKP</b> <br>Stop[28]: 490013613E<br>Time : 18:40:07<br>ETA : 1608\", \"<b>Bus : BF67GKP</b> <br>Stop[28]: 490013613E<br>Time : 18:40:37<br>ETA : 1578\", \"<b>Bus : BF67GKP</b> <br>Stop[28]: 490013613E<br>Time : 18:41:37<br>ETA : 1518\", \"<b>Bus : BF67GKP</b> <br>Stop[28]: 490013613E<br>Time : 18:42:07<br>ETA : 1488\", \"<b>Bus : BF67GKP</b> <br>Stop[28]: 490013613E<br>Time : 18:42:37<br>ETA : 1458\", \"<b>Bus : BF67GKP</b> <br>Stop[28]: 490013613E<br>Time : 18:43:37<br>ETA : 1398\", \"<b>Bus : BF67GKP</b> <br>Stop[28]: 490013613E<br>Time : 18:44:07<br>ETA : 1368\", \"<b>Bus : BF67GKP</b> <br>Stop[28]: 490013613E<br>Time : 18:45:07<br>ETA : 1308\", \"<b>Bus : BF67GKP</b> <br>Stop[28]: 490013613E<br>Time : 18:46:06<br>ETA : 1249\", \"<b>Bus : BF67GKP</b> <br>Stop[28]: 490013613E<br>Time : 18:46:37<br>ETA : 1218\", \"<b>Bus : BF67GKP</b> <br>Stop[28]: 490013613E<br>Time : 18:47:07<br>ETA : 1188\", \"<b>Bus : BF67GKP</b> <br>Stop[28]: 490013613E<br>Time : 18:48:07<br>ETA : 1128\", \"<b>Bus : BF67GKP</b> <br>Stop[28]: 490013613E<br>Time : 18:49:37<br>ETA : 1038\", \"<b>Bus : BF67GKP</b> <br>Stop[28]: 490013613E<br>Time : 18:50:07<br>ETA : 1008\", \"<b>Bus : BF67GKP</b> <br>Stop[28]: 490013613E<br>Time : 18:50:37<br>ETA : 978\", \"<b>Bus : BF67GKP</b> <br>Stop[28]: 490013613E<br>Time : 18:51:09<br>ETA : 946\", \"<b>Bus : BF67GKP</b> <br>Stop[28]: 490013613E<br>Time : 18:52:07<br>ETA : 888\", \"<b>Bus : BF67GKP</b> <br>Stop[28]: 490013613E<br>Time : 18:52:37<br>ETA : 858\", \"<b>Bus : BF67GKP</b> <br>Stop[28]: 490013613E<br>Time : 18:53:37<br>ETA : 798\", \"<b>Bus : BF67GKP</b> <br>Stop[28]: 490013613E<br>Time : 18:54:07<br>ETA : 768\"], \"type\": \"scatter\", \"x\": [\"2021-02-06T18:39:37.441473\", \"2021-02-06T18:40:07.323124\", \"2021-02-06T18:40:37.275118\", \"2021-02-06T18:41:37.288473\", \"2021-02-06T18:42:07.698016\", \"2021-02-06T18:42:37.495191\", \"2021-02-06T18:43:37.860679\", \"2021-02-06T18:44:07.494085\", \"2021-02-06T18:45:07.706821\", \"2021-02-06T18:46:06.967800\", \"2021-02-06T18:46:37.919835\", \"2021-02-06T18:47:07.671003\", \"2021-02-06T18:48:07.933788\", \"2021-02-06T18:49:37.538598\", \"2021-02-06T18:50:07.505287\", \"2021-02-06T18:50:37.019488\", \"2021-02-06T18:51:09.534738\", \"2021-02-06T18:52:07.078387\", \"2021-02-06T18:52:37.819397\", \"2021-02-06T18:53:37.518331\", \"2021-02-06T18:54:07.486718\"], \"y\": [1638, 1608, 1578, 1518, 1488, 1458, 1398, 1368, 1308, 1249, 1218, 1188, 1128, 1038, 1008, 978, 946, 888, 858, 798, 768]}, {\"hoverinfo\": \"text\", \"line\": {\"color\": \"#8c564b\", \"width\": 3}, \"mode\": \"lines+markers\", \"name\": \"[29] 490011135E\", \"text\": [\"<b>Bus : BF67GKP</b> <br>Stop[29]: 490011135E<br>Time : 18:40:08<br>ETA : 1682\", \"<b>Bus : BF67GKP</b> <br>Stop[29]: 490011135E<br>Time : 18:41:38<br>ETA : 1592\", \"<b>Bus : BF67GKP</b> <br>Stop[29]: 490011135E<br>Time : 18:42:37<br>ETA : 1533\", \"<b>Bus : BF67GKP</b> <br>Stop[29]: 490011135E<br>Time : 18:43:38<br>ETA : 1472\", \"<b>Bus : BF67GKP</b> <br>Stop[29]: 490011135E<br>Time : 18:44:07<br>ETA : 1443\", \"<b>Bus : BF67GKP</b> <br>Stop[29]: 490011135E<br>Time : 18:44:38<br>ETA : 1412\", \"<b>Bus : BF67GKP</b> <br>Stop[29]: 490011135E<br>Time : 18:46:08<br>ETA : 1322\", \"<b>Bus : BF67GKP</b> <br>Stop[29]: 490011135E<br>Time : 18:46:38<br>ETA : 1292\", \"<b>Bus : BF67GKP</b> <br>Stop[29]: 490011135E<br>Time : 18:48:08<br>ETA : 1202\", \"<b>Bus : BF67GKP</b> <br>Stop[29]: 490011135E<br>Time : 18:49:08<br>ETA : 1142\", \"<b>Bus : BF67GKP</b> <br>Stop[29]: 490011135E<br>Time : 18:49:38<br>ETA : 1112\", \"<b>Bus : BF67GKP</b> <br>Stop[29]: 490011135E<br>Time : 18:50:39<br>ETA : 1051\", \"<b>Bus : BF67GKP</b> <br>Stop[29]: 490011135E<br>Time : 18:52:08<br>ETA : 962\", \"<b>Bus : BF67GKP</b> <br>Stop[29]: 490011135E<br>Time : 18:53:38<br>ETA : 872\"], \"type\": \"scatter\", \"x\": [\"2021-02-06T18:40:08.770810\", \"2021-02-06T18:41:38.242627\", \"2021-02-06T18:42:37.991785\", \"2021-02-06T18:43:38.463198\", \"2021-02-06T18:44:07.956933\", \"2021-02-06T18:44:38.712459\", \"2021-02-06T18:46:08.826620\", \"2021-02-06T18:46:38.919816\", \"2021-02-06T18:48:08.369201\", \"2021-02-06T18:49:08.193286\", \"2021-02-06T18:49:38.963345\", \"2021-02-06T18:50:39.408562\", \"2021-02-06T18:52:08.420823\", \"2021-02-06T18:53:38.484392\"], \"y\": [1682, 1592, 1533, 1472, 1443, 1412, 1322, 1292, 1202, 1142, 1112, 1051, 962, 872]}, {\"hoverinfo\": \"text\", \"line\": {\"color\": \"#17becf\", \"width\": 3}, \"mode\": \"lines+markers\", \"name\": \"[30] 490003444E\", \"text\": [\"<b>Bus : BF67GKP</b> <br>Stop[30]: 490003444E<br>Time : 18:41:38<br>ETA : 1746\", \"<b>Bus : BF67GKP</b> <br>Stop[30]: 490003444E<br>Time : 18:42:07<br>ETA : 1717\", \"<b>Bus : BF67GKP</b> <br>Stop[30]: 490003444E<br>Time : 18:42:38<br>ETA : 1686\", \"<b>Bus : BF67GKP</b> <br>Stop[30]: 490003444E<br>Time : 18:43:08<br>ETA : 1656\", \"<b>Bus : BF67GKP</b> <br>Stop[30]: 490003444E<br>Time : 18:44:08<br>ETA : 1596\", \"<b>Bus : BF67GKP</b> <br>Stop[30]: 490003444E<br>Time : 18:45:08<br>ETA : 1536\", \"<b>Bus : BF67GKP</b> <br>Stop[30]: 490003444E<br>Time : 18:45:38<br>ETA : 1506\", \"<b>Bus : BF67GKP</b> <br>Stop[30]: 490003444E<br>Time : 18:47:08<br>ETA : 1416\", \"<b>Bus : BF67GKP</b> <br>Stop[30]: 490003444E<br>Time : 18:48:38<br>ETA : 1326\", \"<b>Bus : BF67GKP</b> <br>Stop[30]: 490003444E<br>Time : 18:49:08<br>ETA : 1296\", \"<b>Bus : BF67GKP</b> <br>Stop[30]: 490003444E<br>Time : 18:49:38<br>ETA : 1266\", \"<b>Bus : BF67GKP</b> <br>Stop[30]: 490003444E<br>Time : 18:50:08<br>ETA : 1236\", \"<b>Bus : BF67GKP</b> <br>Stop[30]: 490003444E<br>Time : 18:50:39<br>ETA : 1205\", \"<b>Bus : BF67GKP</b> <br>Stop[30]: 490003444E<br>Time : 18:52:09<br>ETA : 1115\", \"<b>Bus : BF67GKP</b> <br>Stop[30]: 490003444E<br>Time : 18:52:38<br>ETA : 1086\", \"<b>Bus : BF67GKP</b> <br>Stop[30]: 490003444E<br>Time : 18:54:08<br>ETA : 996\"], \"type\": \"scatter\", \"x\": [\"2021-02-06T18:41:38.847416\", \"2021-02-06T18:42:07.961735\", \"2021-02-06T18:42:38.899958\", \"2021-02-06T18:43:08.115583\", \"2021-02-06T18:44:08.267132\", \"2021-02-06T18:45:08.816149\", \"2021-02-06T18:45:38.234580\", \"2021-02-06T18:47:08.838371\", \"2021-02-06T18:48:38.600131\", \"2021-02-06T18:49:08.023002\", \"2021-02-06T18:49:38.646205\", \"2021-02-06T18:50:08.708007\", \"2021-02-06T18:50:39.582287\", \"2021-02-06T18:52:09.050235\", \"2021-02-06T18:52:38.690934\", \"2021-02-06T18:54:08.011045\"], \"y\": [1746, 1717, 1686, 1656, 1596, 1536, 1506, 1416, 1326, 1296, 1266, 1236, 1205, 1115, 1086, 996]}, {\"hoverinfo\": \"text\", \"line\": {\"color\": \"#1f77b4\", \"width\": 3}, \"mode\": \"lines+markers\", \"name\": \"[31] 490007865E\", \"text\": [\"<b>Bus : BF67GKP</b> <br>Stop[31]: 490007865E<br>Time : 18:45:08<br>ETA : 1667\", \"<b>Bus : BF67GKP</b> <br>Stop[31]: 490007865E<br>Time : 18:45:38<br>ETA : 1637\", \"<b>Bus : BF67GKP</b> <br>Stop[31]: 490007865E<br>Time : 18:46:08<br>ETA : 1607\", \"<b>Bus : BF67GKP</b> <br>Stop[31]: 490007865E<br>Time : 18:48:08<br>ETA : 1487\", \"<b>Bus : BF67GKP</b> <br>Stop[31]: 490007865E<br>Time : 18:49:38<br>ETA : 1397\", \"<b>Bus : BF67GKP</b> <br>Stop[31]: 490007865E<br>Time : 18:50:08<br>ETA : 1367\", \"<b>Bus : BF67GKP</b> <br>Stop[31]: 490007865E<br>Time : 18:51:38<br>ETA : 1277\", \"<b>Bus : BF67GKP</b> <br>Stop[31]: 490007865E<br>Time : 18:52:38<br>ETA : 1217\"], \"type\": \"scatter\", \"x\": [\"2021-02-06T18:45:08.018368\", \"2021-02-06T18:45:38.908759\", \"2021-02-06T18:46:08.293840\", \"2021-02-06T18:48:08.664273\", \"2021-02-06T18:49:38.915296\", \"2021-02-06T18:50:08.301905\", \"2021-02-06T18:51:38.976742\", \"2021-02-06T18:52:38.450934\"], \"y\": [1667, 1637, 1607, 1487, 1397, 1367, 1277, 1217]}, {\"hoverinfo\": \"text\", \"line\": {\"color\": \"#7f7f7f\", \"width\": 3}, \"mode\": \"lines+markers\", \"name\": \"[32] 490013054E\", \"text\": [\"<b>Bus : BF67GKP</b> <br>Stop[32]: 490013054E<br>Time : 18:44:10<br>ETA : 1765\", \"<b>Bus : BF67GKP</b> <br>Stop[32]: 490013054E<br>Time : 18:45:40<br>ETA : 1675\", \"<b>Bus : BF67GKP</b> <br>Stop[32]: 490013054E<br>Time : 18:46:10<br>ETA : 1645\", \"<b>Bus : BF67GKP</b> <br>Stop[32]: 490013054E<br>Time : 18:47:39<br>ETA : 1556\", \"<b>Bus : BF67GKP</b> <br>Stop[32]: 490013054E<br>Time : 18:48:40<br>ETA : 1495\", \"<b>Bus : BF67GKP</b> <br>Stop[32]: 490013054E<br>Time : 18:49:10<br>ETA : 1465\", \"<b>Bus : BF67GKP</b> <br>Stop[32]: 490013054E<br>Time : 18:49:40<br>ETA : 1435\", \"<b>Bus : BF67GKP</b> <br>Stop[32]: 490013054E<br>Time : 18:52:10<br>ETA : 1285\", \"<b>Bus : BF67GKP</b> <br>Stop[32]: 490013054E<br>Time : 18:52:40<br>ETA : 1255\", \"<b>Bus : BF67GKP</b> <br>Stop[32]: 490013054E<br>Time : 18:53:40<br>ETA : 1195\"], \"type\": \"scatter\", \"x\": [\"2021-02-06T18:44:10.625724\", \"2021-02-06T18:45:40.370519\", \"2021-02-06T18:46:10.213235\", \"2021-02-06T18:47:39.946613\", \"2021-02-06T18:48:40.323768\", \"2021-02-06T18:49:10.292487\", \"2021-02-06T18:49:40.618353\", \"2021-02-06T18:52:10.717613\", \"2021-02-06T18:52:40.756842\", \"2021-02-06T18:53:40.682961\"], \"y\": [1765, 1675, 1645, 1556, 1495, 1465, 1435, 1285, 1255, 1195]}, {\"hoverinfo\": \"text\", \"line\": {\"color\": \"#9467bd\", \"width\": 3}, \"mode\": \"lines+markers\", \"name\": \"[33] 490005320E\", \"text\": [\"<b>Bus : BF67GKP</b> <br>Stop[33]: 490005320E<br>Time : 18:45:37<br>ETA : 1765\", \"<b>Bus : BF67GKP</b> <br>Stop[33]: 490005320E<br>Time : 18:46:37<br>ETA : 1705\", \"<b>Bus : BF67GKP</b> <br>Stop[33]: 490005320E<br>Time : 18:48:07<br>ETA : 1615\", \"<b>Bus : BF67GKP</b> <br>Stop[33]: 490005320E<br>Time : 18:49:06<br>ETA : 1556\", \"<b>Bus : BF67GKP</b> <br>Stop[33]: 490005320E<br>Time : 18:50:36<br>ETA : 1466\", \"<b>Bus : BF67GKP</b> <br>Stop[33]: 490005320E<br>Time : 18:52:37<br>ETA : 1345\", \"<b>Bus : BF67GKP</b> <br>Stop[33]: 490005320E<br>Time : 18:54:07<br>ETA : 1255\"], \"type\": \"scatter\", \"x\": [\"2021-02-06T18:45:37.670952\", \"2021-02-06T18:46:37.367245\", \"2021-02-06T18:48:07.086214\", \"2021-02-06T18:49:06.851216\", \"2021-02-06T18:50:36.894446\", \"2021-02-06T18:52:37.611648\", \"2021-02-06T18:54:07.311845\"], \"y\": [1765, 1705, 1615, 1556, 1466, 1345, 1255]}, {\"hoverinfo\": \"text\", \"line\": {\"color\": \"#bcbd22\", \"width\": 3}, \"mode\": \"lines+markers\", \"name\": \"[34] 490000196C\", \"text\": [\"<b>Bus : BF67GKP</b> <br>Stop[34]: 490000196C<br>Time : 18:47:09<br>ETA : 1713\", \"<b>Bus : BF67GKP</b> <br>Stop[34]: 490000196C<br>Time : 18:47:39<br>ETA : 1683\", \"<b>Bus : BF67GKP</b> <br>Stop[34]: 490000196C<br>Time : 18:48:38<br>ETA : 1624\", \"<b>Bus : BF67GKP</b> <br>Stop[34]: 490000196C<br>Time : 18:50:09<br>ETA : 1533\", \"<b>Bus : BF67GKP</b> <br>Stop[34]: 490000196C<br>Time : 18:51:11<br>ETA : 1471\", \"<b>Bus : BF67GKP</b> <br>Stop[34]: 490000196C<br>Time : 18:53:38<br>ETA : 1324\"], \"type\": \"scatter\", \"x\": [\"2021-02-06T18:47:09.305948\", \"2021-02-06T18:47:39.022737\", \"2021-02-06T18:48:38.524215\", \"2021-02-06T18:50:09.192382\", \"2021-02-06T18:51:11.224532\", \"2021-02-06T18:53:38.964280\"], \"y\": [1713, 1683, 1624, 1533, 1471, 1324]}, {\"hoverinfo\": \"text\", \"line\": {\"color\": \"#9467bd\", \"width\": 3}, \"mode\": \"lines+markers\", \"name\": \"[35] 490015473E\", \"text\": [\"<b>Bus : BF67GKP</b> <br>Stop[35]: 490015473E<br>Time : 18:47:10<br>ETA : 1743\", \"<b>Bus : BF67GKP</b> <br>Stop[35]: 490015473E<br>Time : 18:48:40<br>ETA : 1653\", \"<b>Bus : BF67GKP</b> <br>Stop[35]: 490015473E<br>Time : 18:49:10<br>ETA : 1623\", \"<b>Bus : BF67GKP</b> <br>Stop[35]: 490015473E<br>Time : 18:50:11<br>ETA : 1562\", \"<b>Bus : BF67GKP</b> <br>Stop[35]: 490015473E<br>Time : 18:51:12<br>ETA : 1501\", \"<b>Bus : BF67GKP</b> <br>Stop[35]: 490015473E<br>Time : 18:52:11<br>ETA : 1442\", \"<b>Bus : BF67GKP</b> <br>Stop[35]: 490015473E<br>Time : 18:53:41<br>ETA : 1352\", \"<b>Bus : BF67GKP</b> <br>Stop[35]: 490015473E<br>Time : 18:54:10<br>ETA : 1323\"], \"type\": \"scatter\", \"x\": [\"2021-02-06T18:47:10.731727\", \"2021-02-06T18:48:40.210967\", \"2021-02-06T18:49:10.526375\", \"2021-02-06T18:50:11.070329\", \"2021-02-06T18:51:12.563565\", \"2021-02-06T18:52:11.175619\", \"2021-02-06T18:53:41.407109\", \"2021-02-06T18:54:10.677048\"], \"y\": [1743, 1653, 1623, 1562, 1501, 1442, 1352, 1323]}, {\"hoverinfo\": \"text\", \"line\": {\"color\": \"#e377c2\", \"width\": 3}, \"mode\": \"lines+markers\", \"name\": \"[36] 490014250E\", \"text\": [\"<b>Bus : BF67GKP</b> <br>Stop[36]: 490014250E<br>Time : 18:49:38<br>ETA : 1622\", \"<b>Bus : BF67GKP</b> <br>Stop[36]: 490014250E<br>Time : 18:50:08<br>ETA : 1592\", \"<b>Bus : BF67GKP</b> <br>Stop[36]: 490014250E<br>Time : 18:50:39<br>ETA : 1561\", \"<b>Bus : BF67GKP</b> <br>Stop[36]: 490014250E<br>Time : 18:51:39<br>ETA : 1501\", \"<b>Bus : BF67GKP</b> <br>Stop[36]: 490014250E<br>Time : 18:53:08<br>ETA : 1412\", \"<b>Bus : BF67GKP</b> <br>Stop[36]: 490014250E<br>Time : 18:54:08<br>ETA : 1352\"], \"type\": \"scatter\", \"x\": [\"2021-02-06T18:49:38.771205\", \"2021-02-06T18:50:08.786522\", \"2021-02-06T18:50:39.241927\", \"2021-02-06T18:51:39.039407\", \"2021-02-06T18:53:08.719850\", \"2021-02-06T18:54:08.502330\"], \"y\": [1622, 1592, 1561, 1501, 1412, 1352]}, {\"hoverinfo\": \"text\", \"line\": {\"color\": \"#e377c2\", \"width\": 3}, \"mode\": \"lines+markers\", \"name\": \"[37] 490010713E\", \"text\": [\"<b>Bus : BF67GKP</b> <br>Stop[37]: 490010713E<br>Time : 18:50:10<br>ETA : 1678\", \"<b>Bus : BF67GKP</b> <br>Stop[37]: 490010713E<br>Time : 18:51:11<br>ETA : 1617\", \"<b>Bus : BF67GKP</b> <br>Stop[37]: 490010713E<br>Time : 18:52:40<br>ETA : 1528\", \"<b>Bus : BF67GKP</b> <br>Stop[37]: 490010713E<br>Time : 18:53:39<br>ETA : 1469\"], \"type\": \"scatter\", \"x\": [\"2021-02-06T18:50:10.176703\", \"2021-02-06T18:51:11.778596\", \"2021-02-06T18:52:40.299046\", \"2021-02-06T18:53:39.795580\"], \"y\": [1678, 1617, 1528, 1469]}, {\"hoverinfo\": \"text\", \"line\": {\"color\": \"#2ca02c\", \"width\": 3}, \"mode\": \"lines+markers\", \"name\": \"[38] 490000071E\", \"text\": [\"<b>Bus : BF67GKP</b> <br>Stop[38]: 490000071E<br>Time : 18:49:38<br>ETA : 1740\", \"<b>Bus : BF67GKP</b> <br>Stop[38]: 490000071E<br>Time : 18:50:08<br>ETA : 1710\", \"<b>Bus : BF67GKP</b> <br>Stop[38]: 490000071E<br>Time : 18:51:10<br>ETA : 1648\", \"<b>Bus : BF67GKP</b> <br>Stop[38]: 490000071E<br>Time : 18:51:38<br>ETA : 1620\", \"<b>Bus : BF67GKP</b> <br>Stop[38]: 490000071E<br>Time : 18:52:37<br>ETA : 1561\", \"<b>Bus : BF67GKP</b> <br>Stop[38]: 490000071E<br>Time : 18:54:08<br>ETA : 1470\"], \"type\": \"scatter\", \"x\": [\"2021-02-06T18:49:38.255652\", \"2021-02-06T18:50:08.648547\", \"2021-02-06T18:51:10.315962\", \"2021-02-06T18:51:38.508000\", \"2021-02-06T18:52:37.733402\", \"2021-02-06T18:54:08.248842\"], \"y\": [1740, 1710, 1648, 1620, 1561, 1470]}, {\"hoverinfo\": \"text\", \"line\": {\"color\": \"#e377c2\", \"width\": 3}, \"mode\": \"lines+markers\", \"name\": \"[39] 490015502N\", \"text\": [\"<b>Bus : BF67GKP</b> <br>Stop[39]: 490015502N<br>Time : 18:50:09<br>ETA : 1791\", \"<b>Bus : BF67GKP</b> <br>Stop[39]: 490015502N<br>Time : 18:51:11<br>ETA : 1729\", \"<b>Bus : BF67GKP</b> <br>Stop[39]: 490015502N<br>Time : 18:51:39<br>ETA : 1701\", \"<b>Bus : BF67GKP</b> <br>Stop[39]: 490015502N<br>Time : 18:52:38<br>ETA : 1642\", \"<b>Bus : BF67GKP</b> <br>Stop[39]: 490015502N<br>Time : 18:53:38<br>ETA : 1582\"], \"type\": \"scatter\", \"x\": [\"2021-02-06T18:50:09.239640\", \"2021-02-06T18:51:11.646153\", \"2021-02-06T18:51:39.002787\", \"2021-02-06T18:52:38.966554\", \"2021-02-06T18:53:38.840332\"], \"y\": [1791, 1729, 1701, 1642, 1582]}, {\"hoverinfo\": \"text\", \"line\": {\"color\": \"#2ca02c\", \"width\": 3}, \"mode\": \"lines+markers\", \"name\": \"[40] 490015040W\", \"text\": [\"<b>Bus : BF67GKP</b> <br>Stop[40]: 490015040W<br>Time : 18:53:38<br>ETA : 1630\"], \"type\": \"scatter\", \"x\": [\"2021-02-06T18:53:38.796868\"], \"y\": [1630]}, {\"hoverinfo\": \"text\", \"line\": {\"color\": \"#8c564b\", \"width\": 3}, \"mode\": \"lines+markers\", \"name\": \"[41] 490000011D\", \"text\": [\"<b>Bus : BF67GKP</b> <br>Stop[41]: 490000011D<br>Time : 18:52:11<br>ETA : 1769\", \"<b>Bus : BF67GKP</b> <br>Stop[41]: 490000011D<br>Time : 18:53:41<br>ETA : 1679\", \"<b>Bus : BF67GKP</b> <br>Stop[41]: 490000011D<br>Time : 18:54:11<br>ETA : 1649\"], \"type\": \"scatter\", \"x\": [\"2021-02-06T18:52:11.282443\", \"2021-02-06T18:53:41.168379\", \"2021-02-06T18:54:11.080425\"], \"y\": [1769, 1679, 1649]}, {\"hoverinfo\": \"text\", \"line\": {\"color\": \"#e377c2\", \"width\": 3}, \"mode\": \"lines+markers\", \"name\": \"[42] 490007807E\", \"text\": [\"<b>Bus : BF67GKP</b> <br>Stop[42]: 490007807E<br>Time : 18:53:39<br>ETA : 1782\"], \"type\": \"scatter\", \"x\": [\"2021-02-06T18:53:39.724500\"], \"y\": [1782]}],                        {\"hovermode\": \"closest\", \"legend\": {\"title\": {\"text\": \"<b>Destination Stop</b>\"}}, \"margin\": {\"b\": 0, \"l\": 0, \"r\": 0, \"t\": 40}, \"template\": {\"data\": {\"bar\": [{\"error_x\": {\"color\": \"#2a3f5f\"}, \"error_y\": {\"color\": \"#2a3f5f\"}, \"marker\": {\"line\": {\"color\": \"white\", \"width\": 0.5}}, \"type\": \"bar\"}], \"barpolar\": [{\"marker\": {\"line\": {\"color\": \"white\", \"width\": 0.5}}, \"type\": \"barpolar\"}], \"carpet\": [{\"aaxis\": {\"endlinecolor\": \"#2a3f5f\", \"gridcolor\": \"#C8D4E3\", \"linecolor\": \"#C8D4E3\", \"minorgridcolor\": \"#C8D4E3\", \"startlinecolor\": \"#2a3f5f\"}, \"baxis\": {\"endlinecolor\": \"#2a3f5f\", \"gridcolor\": \"#C8D4E3\", \"linecolor\": \"#C8D4E3\", \"minorgridcolor\": \"#C8D4E3\", \"startlinecolor\": \"#2a3f5f\"}, \"type\": \"carpet\"}], \"choropleth\": [{\"colorbar\": {\"outlinewidth\": 0, \"ticks\": \"\"}, \"type\": \"choropleth\"}], \"contour\": [{\"colorbar\": {\"outlinewidth\": 0, \"ticks\": \"\"}, \"colorscale\": [[0.0, \"#0d0887\"], [0.1111111111111111, \"#46039f\"], [0.2222222222222222, \"#7201a8\"], [0.3333333333333333, \"#9c179e\"], [0.4444444444444444, \"#bd3786\"], [0.5555555555555556, \"#d8576b\"], [0.6666666666666666, \"#ed7953\"], [0.7777777777777778, \"#fb9f3a\"], [0.8888888888888888, \"#fdca26\"], [1.0, \"#f0f921\"]], \"type\": \"contour\"}], \"contourcarpet\": [{\"colorbar\": {\"outlinewidth\": 0, \"ticks\": \"\"}, \"type\": \"contourcarpet\"}], \"heatmap\": [{\"colorbar\": {\"outlinewidth\": 0, \"ticks\": \"\"}, \"colorscale\": [[0.0, \"#0d0887\"], [0.1111111111111111, \"#46039f\"], [0.2222222222222222, \"#7201a8\"], [0.3333333333333333, \"#9c179e\"], [0.4444444444444444, \"#bd3786\"], [0.5555555555555556, \"#d8576b\"], [0.6666666666666666, \"#ed7953\"], [0.7777777777777778, \"#fb9f3a\"], [0.8888888888888888, \"#fdca26\"], [1.0, \"#f0f921\"]], \"type\": \"heatmap\"}], \"heatmapgl\": [{\"colorbar\": {\"outlinewidth\": 0, \"ticks\": \"\"}, \"colorscale\": [[0.0, \"#0d0887\"], [0.1111111111111111, \"#46039f\"], [0.2222222222222222, \"#7201a8\"], [0.3333333333333333, \"#9c179e\"], [0.4444444444444444, \"#bd3786\"], [0.5555555555555556, \"#d8576b\"], [0.6666666666666666, \"#ed7953\"], [0.7777777777777778, \"#fb9f3a\"], [0.8888888888888888, \"#fdca26\"], [1.0, \"#f0f921\"]], \"type\": \"heatmapgl\"}], \"histogram\": [{\"marker\": {\"colorbar\": {\"outlinewidth\": 0, \"ticks\": \"\"}}, \"type\": \"histogram\"}], \"histogram2d\": [{\"colorbar\": {\"outlinewidth\": 0, \"ticks\": \"\"}, \"colorscale\": [[0.0, \"#0d0887\"], [0.1111111111111111, \"#46039f\"], [0.2222222222222222, \"#7201a8\"], [0.3333333333333333, \"#9c179e\"], [0.4444444444444444, \"#bd3786\"], [0.5555555555555556, \"#d8576b\"], [0.6666666666666666, \"#ed7953\"], [0.7777777777777778, \"#fb9f3a\"], [0.8888888888888888, \"#fdca26\"], [1.0, \"#f0f921\"]], \"type\": \"histogram2d\"}], \"histogram2dcontour\": [{\"colorbar\": {\"outlinewidth\": 0, \"ticks\": \"\"}, \"colorscale\": [[0.0, \"#0d0887\"], [0.1111111111111111, \"#46039f\"], [0.2222222222222222, \"#7201a8\"], [0.3333333333333333, \"#9c179e\"], [0.4444444444444444, \"#bd3786\"], [0.5555555555555556, \"#d8576b\"], [0.6666666666666666, \"#ed7953\"], [0.7777777777777778, \"#fb9f3a\"], [0.8888888888888888, \"#fdca26\"], [1.0, \"#f0f921\"]], \"type\": \"histogram2dcontour\"}], \"mesh3d\": [{\"colorbar\": {\"outlinewidth\": 0, \"ticks\": \"\"}, \"type\": \"mesh3d\"}], \"parcoords\": [{\"line\": {\"colorbar\": {\"outlinewidth\": 0, \"ticks\": \"\"}}, \"type\": \"parcoords\"}], \"pie\": [{\"automargin\": true, \"type\": \"pie\"}], \"scatter\": [{\"marker\": {\"colorbar\": {\"outlinewidth\": 0, \"ticks\": \"\"}}, \"type\": \"scatter\"}], \"scatter3d\": [{\"line\": {\"colorbar\": {\"outlinewidth\": 0, \"ticks\": \"\"}}, \"marker\": {\"colorbar\": {\"outlinewidth\": 0, \"ticks\": \"\"}}, \"type\": \"scatter3d\"}], \"scattercarpet\": [{\"marker\": {\"colorbar\": {\"outlinewidth\": 0, \"ticks\": \"\"}}, \"type\": \"scattercarpet\"}], \"scattergeo\": [{\"marker\": {\"colorbar\": {\"outlinewidth\": 0, \"ticks\": \"\"}}, \"type\": \"scattergeo\"}], \"scattergl\": [{\"marker\": {\"colorbar\": {\"outlinewidth\": 0, \"ticks\": \"\"}}, \"type\": \"scattergl\"}], \"scattermapbox\": [{\"marker\": {\"colorbar\": {\"outlinewidth\": 0, \"ticks\": \"\"}}, \"type\": \"scattermapbox\"}], \"scatterpolar\": [{\"marker\": {\"colorbar\": {\"outlinewidth\": 0, \"ticks\": \"\"}}, \"type\": \"scatterpolar\"}], \"scatterpolargl\": [{\"marker\": {\"colorbar\": {\"outlinewidth\": 0, \"ticks\": \"\"}}, \"type\": \"scatterpolargl\"}], \"scatterternary\": [{\"marker\": {\"colorbar\": {\"outlinewidth\": 0, \"ticks\": \"\"}}, \"type\": \"scatterternary\"}], \"surface\": [{\"colorbar\": {\"outlinewidth\": 0, \"ticks\": \"\"}, \"colorscale\": [[0.0, \"#0d0887\"], [0.1111111111111111, \"#46039f\"], [0.2222222222222222, \"#7201a8\"], [0.3333333333333333, \"#9c179e\"], [0.4444444444444444, \"#bd3786\"], [0.5555555555555556, \"#d8576b\"], [0.6666666666666666, \"#ed7953\"], [0.7777777777777778, \"#fb9f3a\"], [0.8888888888888888, \"#fdca26\"], [1.0, \"#f0f921\"]], \"type\": \"surface\"}], \"table\": [{\"cells\": {\"fill\": {\"color\": \"#EBF0F8\"}, \"line\": {\"color\": \"white\"}}, \"header\": {\"fill\": {\"color\": \"#C8D4E3\"}, \"line\": {\"color\": \"white\"}}, \"type\": \"table\"}]}, \"layout\": {\"annotationdefaults\": {\"arrowcolor\": \"#2a3f5f\", \"arrowhead\": 0, \"arrowwidth\": 1}, \"autotypenumbers\": \"strict\", \"coloraxis\": {\"colorbar\": {\"outlinewidth\": 0, \"ticks\": \"\"}}, \"colorscale\": {\"diverging\": [[0, \"#8e0152\"], [0.1, \"#c51b7d\"], [0.2, \"#de77ae\"], [0.3, \"#f1b6da\"], [0.4, \"#fde0ef\"], [0.5, \"#f7f7f7\"], [0.6, \"#e6f5d0\"], [0.7, \"#b8e186\"], [0.8, \"#7fbc41\"], [0.9, \"#4d9221\"], [1, \"#276419\"]], \"sequential\": [[0.0, \"#0d0887\"], [0.1111111111111111, \"#46039f\"], [0.2222222222222222, \"#7201a8\"], [0.3333333333333333, \"#9c179e\"], [0.4444444444444444, \"#bd3786\"], [0.5555555555555556, \"#d8576b\"], [0.6666666666666666, \"#ed7953\"], [0.7777777777777778, \"#fb9f3a\"], [0.8888888888888888, \"#fdca26\"], [1.0, \"#f0f921\"]], \"sequentialminus\": [[0.0, \"#0d0887\"], [0.1111111111111111, \"#46039f\"], [0.2222222222222222, \"#7201a8\"], [0.3333333333333333, \"#9c179e\"], [0.4444444444444444, \"#bd3786\"], [0.5555555555555556, \"#d8576b\"], [0.6666666666666666, \"#ed7953\"], [0.7777777777777778, \"#fb9f3a\"], [0.8888888888888888, \"#fdca26\"], [1.0, \"#f0f921\"]]}, \"colorway\": [\"#636efa\", \"#EF553B\", \"#00cc96\", \"#ab63fa\", \"#FFA15A\", \"#19d3f3\", \"#FF6692\", \"#B6E880\", \"#FF97FF\", \"#FECB52\"], \"font\": {\"color\": \"#2a3f5f\"}, \"geo\": {\"bgcolor\": \"white\", \"lakecolor\": \"white\", \"landcolor\": \"white\", \"showlakes\": true, \"showland\": true, \"subunitcolor\": \"#C8D4E3\"}, \"hoverlabel\": {\"align\": \"left\"}, \"hovermode\": \"closest\", \"mapbox\": {\"style\": \"light\"}, \"paper_bgcolor\": \"white\", \"plot_bgcolor\": \"white\", \"polar\": {\"angularaxis\": {\"gridcolor\": \"#EBF0F8\", \"linecolor\": \"#EBF0F8\", \"ticks\": \"\"}, \"bgcolor\": \"white\", \"radialaxis\": {\"gridcolor\": \"#EBF0F8\", \"linecolor\": \"#EBF0F8\", \"ticks\": \"\"}}, \"scene\": {\"xaxis\": {\"backgroundcolor\": \"white\", \"gridcolor\": \"#DFE8F3\", \"gridwidth\": 2, \"linecolor\": \"#EBF0F8\", \"showbackground\": true, \"ticks\": \"\", \"zerolinecolor\": \"#EBF0F8\"}, \"yaxis\": {\"backgroundcolor\": \"white\", \"gridcolor\": \"#DFE8F3\", \"gridwidth\": 2, \"linecolor\": \"#EBF0F8\", \"showbackground\": true, \"ticks\": \"\", \"zerolinecolor\": \"#EBF0F8\"}, \"zaxis\": {\"backgroundcolor\": \"white\", \"gridcolor\": \"#DFE8F3\", \"gridwidth\": 2, \"linecolor\": \"#EBF0F8\", \"showbackground\": true, \"ticks\": \"\", \"zerolinecolor\": \"#EBF0F8\"}}, \"shapedefaults\": {\"line\": {\"color\": \"#2a3f5f\"}}, \"ternary\": {\"aaxis\": {\"gridcolor\": \"#DFE8F3\", \"linecolor\": \"#A2B1C6\", \"ticks\": \"\"}, \"baxis\": {\"gridcolor\": \"#DFE8F3\", \"linecolor\": \"#A2B1C6\", \"ticks\": \"\"}, \"bgcolor\": \"white\", \"caxis\": {\"gridcolor\": \"#DFE8F3\", \"linecolor\": \"#A2B1C6\", \"ticks\": \"\"}}, \"title\": {\"x\": 0.05}, \"xaxis\": {\"automargin\": true, \"gridcolor\": \"#EBF0F8\", \"linecolor\": \"#EBF0F8\", \"ticks\": \"\", \"title\": {\"standoff\": 15}, \"zerolinecolor\": \"#EBF0F8\", \"zerolinewidth\": 2}, \"yaxis\": {\"automargin\": true, \"gridcolor\": \"#EBF0F8\", \"linecolor\": \"#EBF0F8\", \"ticks\": \"\", \"title\": {\"standoff\": 15}, \"zerolinecolor\": \"#EBF0F8\", \"zerolinewidth\": 2}}}, \"title\": {\"text\": \"<b>Bus BF67GKP : ETA Time Series</b> - Line: 18\"}, \"yaxis\": {\"nticks\": 10, \"title\": {\"text\": \"ETA in Seconds\"}, \"zerolinecolor\": \"darkgrey\"}},                        {\"responsive\": true}                    ).then(function(){\n",
       "                            \n",
       "var gd = document.getElementById('b83112bd-0932-4d69-95b2-4c79f897fb67');\n",
       "var x = new MutationObserver(function (mutations, observer) {{\n",
       "        var display = window.getComputedStyle(gd).display;\n",
       "        if (!display || display === 'none') {{\n",
       "            console.log([gd, 'removed!']);\n",
       "            Plotly.purge(gd);\n",
       "            observer.disconnect();\n",
       "        }}\n",
       "}});\n",
       "\n",
       "// Listen for the removal of the full notebook cells\n",
       "var notebookContainer = gd.closest('#notebook-container');\n",
       "if (notebookContainer) {{\n",
       "    x.observe(notebookContainer, {childList: true});\n",
       "}}\n",
       "\n",
       "// Listen for the clearing of the current output cell\n",
       "var outputEl = gd.closest('.output');\n",
       "if (outputEl) {{\n",
       "    x.observe(outputEl, {childList: true});\n",
       "}}\n",
       "\n",
       "                        })                };                });            </script>        </div>"
      ]
     },
     "metadata": {},
     "output_type": "display_data"
    }
   ],
   "source": [
    "bus_id = 'BF67GKP'\n",
    "build_time_series_graph(th_df, TH, bus_id).show()"
   ]
  },
  {
   "cell_type": "markdown",
   "metadata": {},
   "source": [
    "## Datetime attribute\n",
    "Should be around actual datetime, and greater than last datetime value"
   ]
  },
  {
   "cell_type": "code",
   "execution_count": null,
   "metadata": {},
   "outputs": [],
   "source": []
  },
  {
   "cell_type": "markdown",
   "metadata": {},
   "source": [
    "## Estimate Arrive Value Time Series Analysis\n",
    "- Check the estimations dont follow a linearly descendant curve, it should present some irrugularities, as a straight line indicates the data has just been ponderated making use of the last \"trustable\" estimation.\n",
    "- Check the estimations do not present high jumps in their values, this are both changes where the new estimation is much higher or much lower than the previous one.\n",
    "- Check for continuity, the should be a new approximation every 30 seconds in average, if the time between estimations is higher it means that the API has not provided data for that bus."
   ]
  },
  {
   "cell_type": "code",
   "execution_count": 27,
   "metadata": {},
   "outputs": [],
   "source": [
    "#Linearity test\n",
    "def check_series_linearity(th_df, TH, bus_id) : \n",
    "    #TH_DF\n",
    "    series_df = th_df[th_df.datetime > th_df.datetime.max() - timedelta(seconds=TH*30)]\n",
    "    \n",
    "    #Loc Bus Appearances\n",
    "    series_df = series_df[series_df.bus == bus_id]\n",
    "    \n",
    "    if series_df.shape[0] < 1 :\n",
    "        return graph\n",
    "    line = series_df.line.iloc[0]\n",
    "    direction = series_df.direction.iloc[0]\n",
    "    stops_list = lines_dict[str(line)][str(direction)]['stops']\n",
    "    \n",
    "    #Slope dict\n",
    "    slope_dict = {}\n",
    "    \n",
    "    #Locate unique stops\n",
    "    unique_stops = series_df.stop.unique().tolist()\n",
    "    for stop in stops_list :\n",
    "        if stop not in unique_stops :\n",
    "            continue\n",
    "        else : \n",
    "            stop_index = stops_list.index(stop)\n",
    "            \n",
    "        stop_df = series_df[series_df.stop == stop]\n",
    "        \n",
    "        slope_dict[stop] = {}\n",
    "        slope_dict[stop]['slopes'] = []\n",
    "        slope_dict[stop]['quality'] = []\n",
    "        slope_dict[stop]['time'] = []\n",
    "        \n",
    "        i = 0\n",
    "        for row in stop_df.itertuples() :\n",
    "            eta = row.estimateArrive\n",
    "            time = row.datetime\n",
    "            \n",
    "            if i > 0 :\n",
    "                ellapsed_time = int((time-last_time).total_seconds())\n",
    "                slope = (last_eta - eta)/ellapsed_time\n",
    "                \n",
    "                #Slopes between 0.95 and 1.05 are not good, as they provide no new information, they just ponderate\n",
    "                #the new estimateArrive value using the last estimation and subtracting the ellapsed sections.\n",
    "                #On the other hand, slopes of values too high or too low imply changes in the speed of the bus above\n",
    "                #or below the maximum or minimum speed for a bus, respectively, also implying a bad quality of the \n",
    "                #estimation received by the API. Therefore, we should penalize both situations.\n",
    "                \n",
    "                #Penalize proximity to 1, and the maximum and lowest possible speeds.\n",
    "                min_slope = 0\n",
    "                max_slope = 2\n",
    "                \n",
    "                if (slope < 1) and (slope > 0) :\n",
    "                    slope_quality = (1-slope)*slope\n",
    "                elif (slope > 1) and (slope < 2) : \n",
    "                    slope_quality = (2-slope)*(slope-1)\n",
    "                else : \n",
    "                    slope_quality = 0\n",
    "                \n",
    "                slope_dict[stop]['slopes'].append(slope)\n",
    "                slope_dict[stop]['quality'].append(slope_quality)\n",
    "                slope_dict[stop]['time'].append(time)\n",
    "            \n",
    "            last_time = row.datetime\n",
    "            last_eta = row.estimateArrive\n",
    "            i += 1\n",
    "            \n",
    "    return slope_dict"
   ]
  },
  {
   "cell_type": "code",
   "execution_count": 28,
   "metadata": {},
   "outputs": [
    {
     "ename": "NameError",
     "evalue": "name 'graph' is not defined",
     "output_type": "error",
     "traceback": [
      "\u001b[0;31m---------------------------------------------------------------------------\u001b[0m",
      "\u001b[0;31mNameError\u001b[0m                                 Traceback (most recent call last)",
      "\u001b[0;32m<ipython-input-28-5c6d350efd33>\u001b[0m in \u001b[0;36m<module>\u001b[0;34m\u001b[0m\n\u001b[0;32m----> 1\u001b[0;31m \u001b[0mslope_dict\u001b[0m \u001b[0;34m=\u001b[0m \u001b[0mcheck_series_linearity\u001b[0m\u001b[0;34m(\u001b[0m\u001b[0mth_df\u001b[0m\u001b[0;34m,\u001b[0m\u001b[0mTH\u001b[0m\u001b[0;34m,\u001b[0m\u001b[0mbus_id\u001b[0m\u001b[0;34m)\u001b[0m\u001b[0;34m\u001b[0m\u001b[0;34m\u001b[0m\u001b[0m\n\u001b[0m",
      "\u001b[0;32m<ipython-input-27-576491b3db57>\u001b[0m in \u001b[0;36mcheck_series_linearity\u001b[0;34m(th_df, TH, bus_id)\u001b[0m\n\u001b[1;32m      8\u001b[0m \u001b[0;34m\u001b[0m\u001b[0m\n\u001b[1;32m      9\u001b[0m     \u001b[0;32mif\u001b[0m \u001b[0mseries_df\u001b[0m\u001b[0;34m.\u001b[0m\u001b[0mshape\u001b[0m\u001b[0;34m[\u001b[0m\u001b[0;36m0\u001b[0m\u001b[0;34m]\u001b[0m \u001b[0;34m<\u001b[0m \u001b[0;36m1\u001b[0m \u001b[0;34m:\u001b[0m\u001b[0;34m\u001b[0m\u001b[0;34m\u001b[0m\u001b[0m\n\u001b[0;32m---> 10\u001b[0;31m         \u001b[0;32mreturn\u001b[0m \u001b[0mgraph\u001b[0m\u001b[0;34m\u001b[0m\u001b[0;34m\u001b[0m\u001b[0m\n\u001b[0m\u001b[1;32m     11\u001b[0m     \u001b[0mline\u001b[0m \u001b[0;34m=\u001b[0m \u001b[0mseries_df\u001b[0m\u001b[0;34m.\u001b[0m\u001b[0mline\u001b[0m\u001b[0;34m.\u001b[0m\u001b[0miloc\u001b[0m\u001b[0;34m[\u001b[0m\u001b[0;36m0\u001b[0m\u001b[0;34m]\u001b[0m\u001b[0;34m\u001b[0m\u001b[0;34m\u001b[0m\u001b[0m\n\u001b[1;32m     12\u001b[0m     \u001b[0mdirection\u001b[0m \u001b[0;34m=\u001b[0m \u001b[0mseries_df\u001b[0m\u001b[0;34m.\u001b[0m\u001b[0mdirection\u001b[0m\u001b[0;34m.\u001b[0m\u001b[0miloc\u001b[0m\u001b[0;34m[\u001b[0m\u001b[0;36m0\u001b[0m\u001b[0;34m]\u001b[0m\u001b[0;34m\u001b[0m\u001b[0;34m\u001b[0m\u001b[0m\n",
      "\u001b[0;31mNameError\u001b[0m: name 'graph' is not defined"
     ]
    }
   ],
   "source": [
    "slope_dict = check_series_linearity(th_df,TH,bus_id)"
   ]
  },
  {
   "cell_type": "code",
   "execution_count": 29,
   "metadata": {},
   "outputs": [
    {
     "ename": "NameError",
     "evalue": "name 'slope_dict' is not defined",
     "output_type": "error",
     "traceback": [
      "\u001b[0;31m---------------------------------------------------------------------------\u001b[0m",
      "\u001b[0;31mNameError\u001b[0m                                 Traceback (most recent call last)",
      "\u001b[0;32m<ipython-input-29-841289d5d664>\u001b[0m in \u001b[0;36m<module>\u001b[0;34m\u001b[0m\n\u001b[1;32m     14\u001b[0m )\n\u001b[1;32m     15\u001b[0m \u001b[0;34m\u001b[0m\u001b[0m\n\u001b[0;32m---> 16\u001b[0;31m \u001b[0;32mfor\u001b[0m \u001b[0mstop\u001b[0m \u001b[0;32min\u001b[0m \u001b[0mslope_dict\u001b[0m\u001b[0;34m.\u001b[0m\u001b[0mkeys\u001b[0m\u001b[0;34m(\u001b[0m\u001b[0;34m)\u001b[0m \u001b[0;34m:\u001b[0m\u001b[0;34m\u001b[0m\u001b[0;34m\u001b[0m\u001b[0m\n\u001b[0m\u001b[1;32m     17\u001b[0m     \u001b[0;31m#Build stop traces\u001b[0m\u001b[0;34m\u001b[0m\u001b[0;34m\u001b[0m\u001b[0;34m\u001b[0m\u001b[0m\n\u001b[1;32m     18\u001b[0m     graph.add_trace(go.Scatter(\n",
      "\u001b[0;31mNameError\u001b[0m: name 'slope_dict' is not defined"
     ]
    }
   ],
   "source": [
    "# Draw slopes vs quality series\n",
    "graph = go.Figure()\n",
    "\n",
    "#Set title and layout\n",
    "graph.update_layout(\n",
    "    title='<b>Bus {} : ETA Time Series</b>'.format(bus_id),\n",
    "    legend_title='<b>Destination Stop</b>',\n",
    "    yaxis = dict(\n",
    "        nticks=10,\n",
    "        zerolinecolor='darkgrey'\n",
    "    ),\n",
    "    margin=dict(r=0, l=0, t=40, b=0),\n",
    "    hovermode='closest'\n",
    ")\n",
    "\n",
    "for stop in slope_dict.keys() :\n",
    "    #Build stop traces\n",
    "    graph.add_trace(go.Scatter(\n",
    "        name= str(stop) + '-Slope',\n",
    "        x=slope_dict[stop]['time'],\n",
    "        y=slope_dict[stop]['slopes'],\n",
    "        mode='lines+markers',\n",
    "        line=dict(width=3,color=colors[(str_to_int(stop))%len(colors)]),\n",
    "    ))\n",
    "    \n",
    "    graph.add_trace(go.Scatter(\n",
    "        name= str(stop) + '-Quality',\n",
    "        x=slope_dict[stop]['time'],\n",
    "        y=slope_dict[stop]['quality'],\n",
    "        mode='lines+markers',\n",
    "        line=dict(width=3,color=colors[(str_to_int(stop))%len(colors)]),\n",
    "    ))\n",
    "\n",
    "graph.show()"
   ]
  },
  {
   "cell_type": "code",
   "execution_count": null,
   "metadata": {},
   "outputs": [],
   "source": []
  },
  {
   "cell_type": "code",
   "execution_count": null,
   "metadata": {},
   "outputs": [],
   "source": []
  }
 ],
 "metadata": {
  "kernelspec": {
   "display_name": "Python 3",
   "language": "python",
   "name": "python3"
  },
  "language_info": {
   "codemirror_mode": {
    "name": "ipython",
    "version": 3
   },
   "file_extension": ".py",
   "mimetype": "text/x-python",
   "name": "python",
   "nbconvert_exporter": "python",
   "pygments_lexer": "ipython3",
   "version": "3.8.6"
  }
 },
 "nbformat": 4,
 "nbformat_minor": 4
}
