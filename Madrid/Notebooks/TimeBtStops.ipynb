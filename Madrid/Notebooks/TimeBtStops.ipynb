{
 "cells": [
  {
   "cell_type": "markdown",
   "metadata": {},
   "source": [
    "# Time Between Stops"
   ]
  },
  {
   "cell_type": "code",
   "execution_count": 1,
   "metadata": {},
   "outputs": [
    {
     "name": "stdout",
     "output_type": "stream",
     "text": [
      "INFO: Pandarallel will run on 16 workers.\n",
      "INFO: Pandarallel will use Memory file system to transfer data between the main process and workers.\n"
     ]
    }
   ],
   "source": [
    "#First we import the requested modules\n",
    "import pandas as pd\n",
    "from pandas.io.json import json_normalize\n",
    "import json\n",
    "\n",
    "import math\n",
    "import numpy as np\n",
    "\n",
    "import plotly.graph_objects as go\n",
    "import plotly.io as pio\n",
    "import plotly.express as px\n",
    "pio.templates.default = 'plotly_white'\n",
    "pd.set_option(\"display.precision\", 3)\n",
    "\n",
    "import datetime\n",
    "from datetime import timedelta\n",
    "\n",
    "from pandarallel import pandarallel\n",
    "from joblib import Parallel, delayed\n",
    "import multiprocessing\n",
    "num_cores = multiprocessing.cpu_count()\n",
    "pandarallel.initialize()"
   ]
  },
  {
   "cell_type": "code",
   "execution_count": 2,
   "metadata": {},
   "outputs": [],
   "source": [
    "#Available colors\n",
    "colors = [\n",
    "    '#1f77b4',  # muted blue\n",
    "    '#ff7f0e',  # safety orange\n",
    "    '#2ca02c',  # cooked asparagus green\n",
    "    '#d62728',  # brick red\n",
    "    '#9467bd',  # muted purple\n",
    "    '#8c564b',  # chestnut brown\n",
    "    '#e377c2',  # raspberry yogurt pink\n",
    "    '#7f7f7f',  # middle gray\n",
    "    '#bcbd22',  # curry yellow-green\n",
    "    '#17becf'   # blue-teal\n",
    "]"
   ]
  },
  {
   "cell_type": "code",
   "execution_count": 3,
   "metadata": {},
   "outputs": [],
   "source": [
    "path = '../Data/Processed/'"
   ]
  },
  {
   "cell_type": "code",
   "execution_count": 4,
   "metadata": {},
   "outputs": [],
   "source": [
    "# WE LOAD THE STOPS AND LINES\n",
    "with open('../Data/Static/lines_dict.json', 'r') as f:\n",
    "    lines_dict = json.load(f)"
   ]
  },
  {
   "cell_type": "markdown",
   "metadata": {},
   "source": [
    "## Day types"
   ]
  },
  {
   "cell_type": "code",
   "execution_count": null,
   "metadata": {},
   "outputs": [],
   "source": []
  },
  {
   "cell_type": "code",
   "execution_count": null,
   "metadata": {},
   "outputs": [],
   "source": []
  },
  {
   "cell_type": "markdown",
   "metadata": {},
   "source": [
    "## Time between stops"
   ]
  },
  {
   "cell_type": "code",
   "execution_count": 11,
   "metadata": {},
   "outputs": [],
   "source": [
    "#Headways data\n",
    "tbs = pd.read_csv('../Data/Processed/times_bt_stops.csv',\n",
    "    dtype = {\n",
    "        'line': 'str',\n",
    "        'direction': 'uint16',\n",
    "        'st_hour':'uint16',\n",
    "        'end_hour':'uint16',\n",
    "        'stopA': 'str',\n",
    "        'stopB': 'str',\n",
    "        'bus': 'str',\n",
    "        'trip_time': 'float16',\n",
    "        'api_trip_time': 'int16'\n",
    "    }\n",
    ")"
   ]
  },
  {
   "cell_type": "code",
   "execution_count": 19,
   "metadata": {},
   "outputs": [
    {
     "data": {
      "text/html": [
       "<div>\n",
       "<style scoped>\n",
       "    .dataframe tbody tr th:only-of-type {\n",
       "        vertical-align: middle;\n",
       "    }\n",
       "\n",
       "    .dataframe tbody tr th {\n",
       "        vertical-align: top;\n",
       "    }\n",
       "\n",
       "    .dataframe thead th {\n",
       "        text-align: right;\n",
       "    }\n",
       "</style>\n",
       "<table border=\"1\" class=\"dataframe\">\n",
       "  <thead>\n",
       "    <tr style=\"text-align: right;\">\n",
       "      <th></th>\n",
       "      <th>date</th>\n",
       "      <th>line</th>\n",
       "      <th>direction</th>\n",
       "      <th>st_hour</th>\n",
       "      <th>end_hour</th>\n",
       "      <th>stopA</th>\n",
       "      <th>stopB</th>\n",
       "      <th>bus</th>\n",
       "      <th>trip_time</th>\n",
       "      <th>api_trip_time</th>\n",
       "    </tr>\n",
       "  </thead>\n",
       "  <tbody>\n",
       "    <tr>\n",
       "      <th>6088</th>\n",
       "      <td>2020-12-11</td>\n",
       "      <td>132</td>\n",
       "      <td>1</td>\n",
       "      <td>20</td>\n",
       "      <td>21</td>\n",
       "      <td>1686</td>\n",
       "      <td>1687</td>\n",
       "      <td>4839</td>\n",
       "      <td>51.188</td>\n",
       "      <td>50</td>\n",
       "    </tr>\n",
       "    <tr>\n",
       "      <th>6089</th>\n",
       "      <td>2020-12-11</td>\n",
       "      <td>132</td>\n",
       "      <td>1</td>\n",
       "      <td>20</td>\n",
       "      <td>21</td>\n",
       "      <td>1691</td>\n",
       "      <td>3273</td>\n",
       "      <td>4685</td>\n",
       "      <td>64.312</td>\n",
       "      <td>62</td>\n",
       "    </tr>\n",
       "    <tr>\n",
       "      <th>6090</th>\n",
       "      <td>2020-12-11</td>\n",
       "      <td>132</td>\n",
       "      <td>1</td>\n",
       "      <td>20</td>\n",
       "      <td>21</td>\n",
       "      <td>3273</td>\n",
       "      <td>3276</td>\n",
       "      <td>4839</td>\n",
       "      <td>67.438</td>\n",
       "      <td>20</td>\n",
       "    </tr>\n",
       "    <tr>\n",
       "      <th>6091</th>\n",
       "      <td>2020-12-11</td>\n",
       "      <td>132</td>\n",
       "      <td>1</td>\n",
       "      <td>20</td>\n",
       "      <td>21</td>\n",
       "      <td>3278</td>\n",
       "      <td>5140</td>\n",
       "      <td>4685</td>\n",
       "      <td>32.000</td>\n",
       "      <td>32</td>\n",
       "    </tr>\n",
       "    <tr>\n",
       "      <th>6092</th>\n",
       "      <td>2020-12-11</td>\n",
       "      <td>132</td>\n",
       "      <td>1</td>\n",
       "      <td>20</td>\n",
       "      <td>21</td>\n",
       "      <td>3278</td>\n",
       "      <td>5140</td>\n",
       "      <td>4815</td>\n",
       "      <td>33.000</td>\n",
       "      <td>33</td>\n",
       "    </tr>\n",
       "    <tr>\n",
       "      <th>...</th>\n",
       "      <td>...</td>\n",
       "      <td>...</td>\n",
       "      <td>...</td>\n",
       "      <td>...</td>\n",
       "      <td>...</td>\n",
       "      <td>...</td>\n",
       "      <td>...</td>\n",
       "      <td>...</td>\n",
       "      <td>...</td>\n",
       "      <td>...</td>\n",
       "    </tr>\n",
       "    <tr>\n",
       "      <th>44299</th>\n",
       "      <td>2021-02-08</td>\n",
       "      <td>132</td>\n",
       "      <td>2</td>\n",
       "      <td>22</td>\n",
       "      <td>23</td>\n",
       "      <td>1692</td>\n",
       "      <td>1690</td>\n",
       "      <td>4828</td>\n",
       "      <td>28.422</td>\n",
       "      <td>29</td>\n",
       "    </tr>\n",
       "    <tr>\n",
       "      <th>44300</th>\n",
       "      <td>2021-02-08</td>\n",
       "      <td>132</td>\n",
       "      <td>2</td>\n",
       "      <td>22</td>\n",
       "      <td>23</td>\n",
       "      <td>1692</td>\n",
       "      <td>1690</td>\n",
       "      <td>4835</td>\n",
       "      <td>37.812</td>\n",
       "      <td>38</td>\n",
       "    </tr>\n",
       "    <tr>\n",
       "      <th>44301</th>\n",
       "      <td>2021-02-08</td>\n",
       "      <td>132</td>\n",
       "      <td>2</td>\n",
       "      <td>22</td>\n",
       "      <td>23</td>\n",
       "      <td>1690</td>\n",
       "      <td>1688</td>\n",
       "      <td>4828</td>\n",
       "      <td>68.250</td>\n",
       "      <td>18</td>\n",
       "    </tr>\n",
       "    <tr>\n",
       "      <th>44302</th>\n",
       "      <td>2021-02-08</td>\n",
       "      <td>132</td>\n",
       "      <td>2</td>\n",
       "      <td>22</td>\n",
       "      <td>23</td>\n",
       "      <td>1688</td>\n",
       "      <td>1685</td>\n",
       "      <td>4837</td>\n",
       "      <td>53.969</td>\n",
       "      <td>53</td>\n",
       "    </tr>\n",
       "    <tr>\n",
       "      <th>44303</th>\n",
       "      <td>2021-02-08</td>\n",
       "      <td>132</td>\n",
       "      <td>2</td>\n",
       "      <td>22</td>\n",
       "      <td>23</td>\n",
       "      <td>1688</td>\n",
       "      <td>1685</td>\n",
       "      <td>8326</td>\n",
       "      <td>91.875</td>\n",
       "      <td>41</td>\n",
       "    </tr>\n",
       "  </tbody>\n",
       "</table>\n",
       "<p>38216 rows × 10 columns</p>\n",
       "</div>"
      ],
      "text/plain": [
       "             date line  direction  st_hour  end_hour stopA stopB   bus  \\\n",
       "6088   2020-12-11  132          1       20        21  1686  1687  4839   \n",
       "6089   2020-12-11  132          1       20        21  1691  3273  4685   \n",
       "6090   2020-12-11  132          1       20        21  3273  3276  4839   \n",
       "6091   2020-12-11  132          1       20        21  3278  5140  4685   \n",
       "6092   2020-12-11  132          1       20        21  3278  5140  4815   \n",
       "...           ...  ...        ...      ...       ...   ...   ...   ...   \n",
       "44299  2021-02-08  132          2       22        23  1692  1690  4828   \n",
       "44300  2021-02-08  132          2       22        23  1692  1690  4835   \n",
       "44301  2021-02-08  132          2       22        23  1690  1688  4828   \n",
       "44302  2021-02-08  132          2       22        23  1688  1685  4837   \n",
       "44303  2021-02-08  132          2       22        23  1688  1685  8326   \n",
       "\n",
       "       trip_time  api_trip_time  \n",
       "6088      51.188             50  \n",
       "6089      64.312             62  \n",
       "6090      67.438             20  \n",
       "6091      32.000             32  \n",
       "6092      33.000             33  \n",
       "...          ...            ...  \n",
       "44299     28.422             29  \n",
       "44300     37.812             38  \n",
       "44301     68.250             18  \n",
       "44302     53.969             53  \n",
       "44303     91.875             41  \n",
       "\n",
       "[38216 rows x 10 columns]"
      ]
     },
     "execution_count": 19,
     "metadata": {},
     "output_type": "execute_result"
    }
   ],
   "source": [
    "tbs[(tbs.line == '132')]"
   ]
  },
  {
   "cell_type": "code",
   "execution_count": 28,
   "metadata": {},
   "outputs": [],
   "source": [
    "stopA = '1690'\n",
    "stopB = '1688'\n",
    "tbsAB = tbs[(tbs.stopA == stopA) & (tbs.stopB == stopB)][['trip_time']]"
   ]
  },
  {
   "cell_type": "code",
   "execution_count": 30,
   "metadata": {},
   "outputs": [
    {
     "data": {
      "image/png": "[encoded data removed]",
      "text/plain": [
       "<Figure size 432x288 with 1 Axes>"
      ]
     },
     "metadata": {
      "needs_background": "light"
     },
     "output_type": "display_data"
    }
   ],
   "source": [
    "from matplotlib import pyplot\n",
    "pyplot.hist(tbsAB,bins=50)\n",
    "pyplot.show()"
   ]
  },
  {
   "cell_type": "code",
   "execution_count": 35,
   "metadata": {},
   "outputs": [],
   "source": [
    "from scipy.stats import skewnorm, skewtest"
   ]
  },
  {
   "cell_type": "code",
   "execution_count": 40,
   "metadata": {},
   "outputs": [
    {
     "name": "stdout",
     "output_type": "stream",
     "text": [
      "Skewtest result:  SkewtestResult(statistic=10.649065321508514, pvalue=1.761245315997049e-26)\n"
     ]
    }
   ],
   "source": [
    "# Test the data for skewness\n",
    "print(\"Skewtest result: \", skewtest(tbsAB.trip_time.tolist()))"
   ]
  },
  {
   "cell_type": "code",
   "execution_count": 47,
   "metadata": {},
   "outputs": [
    {
     "data": {
      "text/plain": [
       "2.5161477562299073"
      ]
     },
     "execution_count": 47,
     "metadata": {},
     "output_type": "execute_result"
    }
   ],
   "source": [
    "# Fit the portfolio loss data to the skew-normal distribution\n",
    "# estimate parameters from sample\n",
    "ae, loce, scalee = skewnorm.fit(tbsAB.trip_time.tolist())\n",
    "ae"
   ]
  },
  {
   "cell_type": "code",
   "execution_count": 43,
   "metadata": {},
   "outputs": [
    {
     "name": "stdout",
     "output_type": "stream",
     "text": [
      "VaR_95 from skew-normal:  73.04265314370375\n"
     ]
    }
   ],
   "source": [
    "# Compute the 95% VaR from the fitted distribution, using parameter estimates\n",
    "VaR_95 = skewnorm.ppf(0.95, *params)\n",
    "print(\"VaR_95 from skew-normal: \", VaR_95)"
   ]
  },
  {
   "cell_type": "code",
   "execution_count": null,
   "metadata": {},
   "outputs": [],
   "source": []
  },
  {
   "cell_type": "code",
   "execution_count": 34,
   "metadata": {},
   "outputs": [
    {
     "data": {
      "image/png": "[encoded data removed]",
      "text/plain": [
       "<Figure size 432x288 with 1 Axes>"
      ]
     },
     "metadata": {
      "needs_background": "light"
     },
     "output_type": "display_data"
    }
   ],
   "source": [
    "pyplot.hist(tbs[tbs.trip_time<200][['trip_time']],bins=100)\n",
    "pyplot.show()"
   ]
  },
  {
   "cell_type": "code",
   "execution_count": 48,
   "metadata": {},
   "outputs": [
    {
     "data": {
      "text/plain": [
       "4.664957959227601"
      ]
     },
     "execution_count": 48,
     "metadata": {},
     "output_type": "execute_result"
    }
   ],
   "source": [
    "# Fit the portfolio loss data to the skew-normal distribution\n",
    "# estimate parameters from sample\n",
    "ae, loce, scalee = skewnorm.fit(tbs.trip_time.tolist())\n",
    "ae"
   ]
  },
  {
   "cell_type": "code",
   "execution_count": null,
   "metadata": {},
   "outputs": [],
   "source": []
  }
 ],
 "metadata": {
  "kernelspec": {
   "display_name": "Python 3",
   "language": "python",
   "name": "python3"
  },
  "language_info": {
   "codemirror_mode": {
    "name": "ipython",
    "version": 3
   },
   "file_extension": ".py",
   "mimetype": "text/x-python",
   "name": "python",
   "nbconvert_exporter": "python",
   "pygments_lexer": "ipython3",
   "version": "3.8.6"
  }
 },
 "nbformat": 4,
 "nbformat_minor": 4
}
