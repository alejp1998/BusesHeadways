{
 "cells": [
  {
   "cell_type": "markdown",
   "metadata": {},
   "source": [
    "# API QoS Estimation"
   ]
  },
  {
   "cell_type": "code",
   "execution_count": 1,
   "metadata": {},
   "outputs": [
    {
     "name": "stdout",
     "output_type": "stream",
     "text": [
      "INFO: Pandarallel will run on 16 workers.\n",
      "INFO: Pandarallel will use Memory file system to transfer data between the main process and workers.\n"
     ]
    }
   ],
   "source": [
    "#First we import the requested modules\n",
    "import pandas as pd\n",
    "from pandas.io.json import json_normalize\n",
    "import json\n",
    "\n",
    "import math\n",
    "import numpy as np\n",
    "\n",
    "import plotly.graph_objects as go\n",
    "import plotly.io as pio\n",
    "import plotly.express as px\n",
    "pio.templates.default = 'plotly_white'\n",
    "pd.set_option(\"display.precision\", 3)\n",
    "\n",
    "import datetime\n",
    "from datetime import timedelta\n",
    "\n",
    "from pandarallel import pandarallel\n",
    "from joblib import Parallel, delayed\n",
    "import multiprocessing\n",
    "num_cores = multiprocessing.cpu_count()\n",
    "pandarallel.initialize()"
   ]
  },
  {
   "cell_type": "code",
   "execution_count": 2,
   "metadata": {},
   "outputs": [],
   "source": [
    "#Available colors\n",
    "colors = [\n",
    "    '#1f77b4',  # muted blue\n",
    "    '#ff7f0e',  # safety orange\n",
    "    '#2ca02c',  # cooked asparagus green\n",
    "    '#d62728',  # brick red\n",
    "    '#9467bd',  # muted purple\n",
    "    '#8c564b',  # chestnut brown\n",
    "    '#e377c2',  # raspberry yogurt pink\n",
    "    '#7f7f7f',  # middle gray\n",
    "    '#bcbd22',  # curry yellow-green\n",
    "    '#17becf'   # blue-teal\n",
    "]"
   ]
  },
  {
   "cell_type": "code",
   "execution_count": 3,
   "metadata": {},
   "outputs": [],
   "source": [
    "# FUNCTIONS\n",
    "def str_to_int(string) :\n",
    "    final_val = 0\n",
    "    for c in string:\n",
    "        val = ord(c)\n",
    "        final_val += val\n",
    "    return final_val"
   ]
  },
  {
   "cell_type": "code",
   "execution_count": 4,
   "metadata": {},
   "outputs": [],
   "source": [
    "f = '../Data/'"
   ]
  },
  {
   "cell_type": "code",
   "execution_count": 5,
   "metadata": {},
   "outputs": [],
   "source": [
    "#Load line_stops_dict\n",
    "with open(f+'Static/lines_dict.json', 'r') as file:\n",
    "    lines_dict = json.load(file)"
   ]
  },
  {
   "cell_type": "markdown",
   "metadata": {},
   "source": [
    "## Last week's data"
   ]
  },
  {
   "cell_type": "code",
   "execution_count": 6,
   "metadata": {},
   "outputs": [],
   "source": [
    "#Read week df\n",
    "week_df = pd.read_csv(f+'RealTime/buses_data_week_cleaned.csv',\n",
    "    dtype={\n",
    "        'line': 'uint16',\n",
    "        'destination': 'str',\n",
    "        'stop': 'str',\n",
    "        'bus': 'str',\n",
    "        'estimateArrive': 'uint16'\n",
    "    }\n",
    ")[['line','destination','stop','bus','datetime','estimateArrive']]\n",
    "\n",
    "#Parse the dates\n",
    "week_df['datetime'] = pd.to_datetime(week_df['datetime'], errors = 'coerce', format='%Y-%m-%dT%H:%M:%S.%f')"
   ]
  },
  {
   "cell_type": "code",
   "execution_count": 7,
   "metadata": {},
   "outputs": [],
   "source": [
    "def add_direction (row) : \n",
    "    #Assign destination values\n",
    "    dest2,dest1 = lines_dict[str(row.line)]['destinations']\n",
    "    \n",
    "    direction = 1 if row.destination == dest1 else 2\n",
    "    return direction\n",
    "\n",
    "#Add direction field to df\n",
    "week_df['direction'] = week_df.apply(add_direction, axis=1)"
   ]
  },
  {
   "cell_type": "code",
   "execution_count": 8,
   "metadata": {},
   "outputs": [
    {
     "data": {
      "text/html": [
       "<div>\n",
       "<style scoped>\n",
       "    .dataframe tbody tr th:only-of-type {\n",
       "        vertical-align: middle;\n",
       "    }\n",
       "\n",
       "    .dataframe tbody tr th {\n",
       "        vertical-align: top;\n",
       "    }\n",
       "\n",
       "    .dataframe thead th {\n",
       "        text-align: right;\n",
       "    }\n",
       "</style>\n",
       "<table border=\"1\" class=\"dataframe\">\n",
       "  <thead>\n",
       "    <tr style=\"text-align: right;\">\n",
       "      <th></th>\n",
       "      <th>line</th>\n",
       "      <th>destination</th>\n",
       "      <th>stop</th>\n",
       "      <th>bus</th>\n",
       "      <th>datetime</th>\n",
       "      <th>estimateArrive</th>\n",
       "      <th>direction</th>\n",
       "    </tr>\n",
       "  </thead>\n",
       "  <tbody>\n",
       "    <tr>\n",
       "      <th>0</th>\n",
       "      <td>82</td>\n",
       "      <td>PITIS</td>\n",
       "      <td>1689</td>\n",
       "      <td>8322</td>\n",
       "      <td>2021-02-15 12:15:55.574581</td>\n",
       "      <td>1273</td>\n",
       "      <td>1</td>\n",
       "    </tr>\n",
       "    <tr>\n",
       "      <th>1</th>\n",
       "      <td>132</td>\n",
       "      <td>HOSPITAL LA PAZ</td>\n",
       "      <td>1689</td>\n",
       "      <td>4835</td>\n",
       "      <td>2021-02-15 12:15:55.574581</td>\n",
       "      <td>403</td>\n",
       "      <td>1</td>\n",
       "    </tr>\n",
       "    <tr>\n",
       "      <th>2</th>\n",
       "      <td>82</td>\n",
       "      <td>PITIS</td>\n",
       "      <td>1689</td>\n",
       "      <td>4708</td>\n",
       "      <td>2021-02-15 12:15:55.574581</td>\n",
       "      <td>443</td>\n",
       "      <td>1</td>\n",
       "    </tr>\n",
       "    <tr>\n",
       "      <th>3</th>\n",
       "      <td>132</td>\n",
       "      <td>HOSPITAL LA PAZ</td>\n",
       "      <td>1643</td>\n",
       "      <td>4832</td>\n",
       "      <td>2021-02-15 12:15:55.583123</td>\n",
       "      <td>586</td>\n",
       "      <td>1</td>\n",
       "    </tr>\n",
       "    <tr>\n",
       "      <th>4</th>\n",
       "      <td>132</td>\n",
       "      <td>HOSPITAL LA PAZ</td>\n",
       "      <td>1643</td>\n",
       "      <td>4831</td>\n",
       "      <td>2021-02-15 12:15:55.583123</td>\n",
       "      <td>179</td>\n",
       "      <td>1</td>\n",
       "    </tr>\n",
       "  </tbody>\n",
       "</table>\n",
       "</div>"
      ],
      "text/plain": [
       "   line      destination  stop   bus                   datetime  \\\n",
       "0    82            PITIS  1689  8322 2021-02-15 12:15:55.574581   \n",
       "1   132  HOSPITAL LA PAZ  1689  4835 2021-02-15 12:15:55.574581   \n",
       "2    82            PITIS  1689  4708 2021-02-15 12:15:55.574581   \n",
       "3   132  HOSPITAL LA PAZ  1643  4832 2021-02-15 12:15:55.583123   \n",
       "4   132  HOSPITAL LA PAZ  1643  4831 2021-02-15 12:15:55.583123   \n",
       "\n",
       "   estimateArrive  direction  \n",
       "0            1273          1  \n",
       "1             403          1  \n",
       "2             443          1  \n",
       "3             586          1  \n",
       "4             179          1  "
      ]
     },
     "execution_count": 8,
     "metadata": {},
     "output_type": "execute_result"
    }
   ],
   "source": [
    "week_df.head()"
   ]
  },
  {
   "cell_type": "code",
   "execution_count": 9,
   "metadata": {},
   "outputs": [
    {
     "name": "stdout",
     "output_type": "stream",
     "text": [
      "<class 'pandas.core.frame.DataFrame'>\n",
      "RangeIndex: 10247 entries, 0 to 10246\n",
      "Data columns (total 7 columns):\n",
      " #   Column          Non-Null Count  Dtype         \n",
      "---  ------          --------------  -----         \n",
      " 0   line            10247 non-null  uint16        \n",
      " 1   destination     10247 non-null  object        \n",
      " 2   stop            10247 non-null  object        \n",
      " 3   bus             10247 non-null  object        \n",
      " 4   datetime        10247 non-null  datetime64[ns]\n",
      " 5   estimateArrive  10247 non-null  uint16        \n",
      " 6   direction       10247 non-null  int64         \n",
      "dtypes: datetime64[ns](1), int64(1), object(3), uint16(2)\n",
      "memory usage: 440.4+ KB\n"
     ]
    }
   ],
   "source": [
    "week_df.info()"
   ]
  },
  {
   "cell_type": "markdown",
   "metadata": {},
   "source": [
    "# Analysis of temporal series belonging to a bus\n",
    "Analyze all the data corresponding to the different trips of a bus to a stop.\n",
    "We pay attention to the last TH values of the series."
   ]
  },
  {
   "cell_type": "code",
   "execution_count": 10,
   "metadata": {},
   "outputs": [],
   "source": [
    "#Number of last ocurrences which form the series we are going to analyze for QoS\n",
    "TH = 30"
   ]
  },
  {
   "cell_type": "code",
   "execution_count": 11,
   "metadata": {},
   "outputs": [
    {
     "data": {
      "text/html": [
       "<div>\n",
       "<style scoped>\n",
       "    .dataframe tbody tr th:only-of-type {\n",
       "        vertical-align: middle;\n",
       "    }\n",
       "\n",
       "    .dataframe tbody tr th {\n",
       "        vertical-align: top;\n",
       "    }\n",
       "\n",
       "    .dataframe thead th {\n",
       "        text-align: right;\n",
       "    }\n",
       "</style>\n",
       "<table border=\"1\" class=\"dataframe\">\n",
       "  <thead>\n",
       "    <tr style=\"text-align: right;\">\n",
       "      <th></th>\n",
       "      <th>line</th>\n",
       "      <th>destination</th>\n",
       "      <th>stop</th>\n",
       "      <th>bus</th>\n",
       "      <th>datetime</th>\n",
       "      <th>estimateArrive</th>\n",
       "      <th>direction</th>\n",
       "    </tr>\n",
       "  </thead>\n",
       "  <tbody>\n",
       "    <tr>\n",
       "      <th>7641</th>\n",
       "      <td>1</td>\n",
       "      <td>CRISTO REY</td>\n",
       "      <td>743</td>\n",
       "      <td>8327</td>\n",
       "      <td>2021-02-15 12:25:57.013542</td>\n",
       "      <td>753</td>\n",
       "      <td>2</td>\n",
       "    </tr>\n",
       "    <tr>\n",
       "      <th>8265</th>\n",
       "      <td>1</td>\n",
       "      <td>CRISTO REY</td>\n",
       "      <td>743</td>\n",
       "      <td>8327</td>\n",
       "      <td>2021-02-15 12:26:46.832539</td>\n",
       "      <td>668</td>\n",
       "      <td>2</td>\n",
       "    </tr>\n",
       "    <tr>\n",
       "      <th>8853</th>\n",
       "      <td>1</td>\n",
       "      <td>CRISTO REY</td>\n",
       "      <td>743</td>\n",
       "      <td>8327</td>\n",
       "      <td>2021-02-15 12:27:36.603846</td>\n",
       "      <td>626</td>\n",
       "      <td>2</td>\n",
       "    </tr>\n",
       "    <tr>\n",
       "      <th>9441</th>\n",
       "      <td>1</td>\n",
       "      <td>CRISTO REY</td>\n",
       "      <td>743</td>\n",
       "      <td>8327</td>\n",
       "      <td>2021-02-15 12:28:26.822609</td>\n",
       "      <td>576</td>\n",
       "      <td>2</td>\n",
       "    </tr>\n",
       "    <tr>\n",
       "      <th>9994</th>\n",
       "      <td>1</td>\n",
       "      <td>CRISTO REY</td>\n",
       "      <td>743</td>\n",
       "      <td>8327</td>\n",
       "      <td>2021-02-15 12:29:16.834310</td>\n",
       "      <td>557</td>\n",
       "      <td>2</td>\n",
       "    </tr>\n",
       "  </tbody>\n",
       "</table>\n",
       "</div>"
      ],
      "text/plain": [
       "      line destination stop   bus                   datetime  estimateArrive  \\\n",
       "7641     1  CRISTO REY  743  8327 2021-02-15 12:25:57.013542             753   \n",
       "8265     1  CRISTO REY  743  8327 2021-02-15 12:26:46.832539             668   \n",
       "8853     1  CRISTO REY  743  8327 2021-02-15 12:27:36.603846             626   \n",
       "9441     1  CRISTO REY  743  8327 2021-02-15 12:28:26.822609             576   \n",
       "9994     1  CRISTO REY  743  8327 2021-02-15 12:29:16.834310             557   \n",
       "\n",
       "      direction  \n",
       "7641          2  \n",
       "8265          2  \n",
       "8853          2  \n",
       "9441          2  \n",
       "9994          2  "
      ]
     },
     "execution_count": 11,
     "metadata": {},
     "output_type": "execute_result"
    }
   ],
   "source": [
    "th_df = week_df.sort_values(by=['bus','stop','datetime'], ascending = True)\n",
    "th_df = th_df.drop_duplicates(['bus','stop','datetime'], keep = 'last')\n",
    "th_df = th_df[th_df.datetime > th_df.datetime.max() - timedelta(seconds=900)]\n",
    "th_df.tail(5)"
   ]
  },
  {
   "cell_type": "code",
   "execution_count": 12,
   "metadata": {},
   "outputs": [
    {
     "data": {
      "text/html": [
       "<div>\n",
       "<style scoped>\n",
       "    .dataframe tbody tr th:only-of-type {\n",
       "        vertical-align: middle;\n",
       "    }\n",
       "\n",
       "    .dataframe tbody tr th {\n",
       "        vertical-align: top;\n",
       "    }\n",
       "\n",
       "    .dataframe thead th {\n",
       "        text-align: right;\n",
       "    }\n",
       "</style>\n",
       "<table border=\"1\" class=\"dataframe\">\n",
       "  <thead>\n",
       "    <tr style=\"text-align: right;\">\n",
       "      <th></th>\n",
       "      <th>line</th>\n",
       "      <th>destination</th>\n",
       "      <th>stop</th>\n",
       "      <th>bus</th>\n",
       "      <th>datetime</th>\n",
       "      <th>estimateArrive</th>\n",
       "      <th>direction</th>\n",
       "    </tr>\n",
       "  </thead>\n",
       "  <tbody>\n",
       "    <tr>\n",
       "      <th>777</th>\n",
       "      <td>132</td>\n",
       "      <td>MONCLOA</td>\n",
       "      <td>1331</td>\n",
       "      <td>4707</td>\n",
       "      <td>2021-02-15 12:16:46.274293</td>\n",
       "      <td>892</td>\n",
       "      <td>2</td>\n",
       "    </tr>\n",
       "    <tr>\n",
       "      <th>1440</th>\n",
       "      <td>132</td>\n",
       "      <td>MONCLOA</td>\n",
       "      <td>1331</td>\n",
       "      <td>4707</td>\n",
       "      <td>2021-02-15 12:17:36.341468</td>\n",
       "      <td>842</td>\n",
       "      <td>2</td>\n",
       "    </tr>\n",
       "    <tr>\n",
       "      <th>1991</th>\n",
       "      <td>132</td>\n",
       "      <td>MONCLOA</td>\n",
       "      <td>1331</td>\n",
       "      <td>4707</td>\n",
       "      <td>2021-02-15 12:18:26.224565</td>\n",
       "      <td>704</td>\n",
       "      <td>2</td>\n",
       "    </tr>\n",
       "    <tr>\n",
       "      <th>2596</th>\n",
       "      <td>132</td>\n",
       "      <td>MONCLOA</td>\n",
       "      <td>1331</td>\n",
       "      <td>4707</td>\n",
       "      <td>2021-02-15 12:19:16.274094</td>\n",
       "      <td>654</td>\n",
       "      <td>2</td>\n",
       "    </tr>\n",
       "    <tr>\n",
       "      <th>3241</th>\n",
       "      <td>132</td>\n",
       "      <td>MONCLOA</td>\n",
       "      <td>1331</td>\n",
       "      <td>4707</td>\n",
       "      <td>2021-02-15 12:20:06.319124</td>\n",
       "      <td>604</td>\n",
       "      <td>2</td>\n",
       "    </tr>\n",
       "    <tr>\n",
       "      <th>...</th>\n",
       "      <td>...</td>\n",
       "      <td>...</td>\n",
       "      <td>...</td>\n",
       "      <td>...</td>\n",
       "      <td>...</td>\n",
       "      <td>...</td>\n",
       "      <td>...</td>\n",
       "    </tr>\n",
       "    <tr>\n",
       "      <th>9166</th>\n",
       "      <td>132</td>\n",
       "      <td>MONCLOA</td>\n",
       "      <td>3291</td>\n",
       "      <td>5560</td>\n",
       "      <td>2021-02-15 12:28:25.614645</td>\n",
       "      <td>508</td>\n",
       "      <td>2</td>\n",
       "    </tr>\n",
       "    <tr>\n",
       "      <th>9690</th>\n",
       "      <td>132</td>\n",
       "      <td>MONCLOA</td>\n",
       "      <td>3291</td>\n",
       "      <td>5560</td>\n",
       "      <td>2021-02-15 12:29:15.677410</td>\n",
       "      <td>460</td>\n",
       "      <td>2</td>\n",
       "    </tr>\n",
       "    <tr>\n",
       "      <th>8702</th>\n",
       "      <td>132</td>\n",
       "      <td>MONCLOA</td>\n",
       "      <td>93</td>\n",
       "      <td>5560</td>\n",
       "      <td>2021-02-15 12:27:36.099158</td>\n",
       "      <td>915</td>\n",
       "      <td>2</td>\n",
       "    </tr>\n",
       "    <tr>\n",
       "      <th>9297</th>\n",
       "      <td>132</td>\n",
       "      <td>MONCLOA</td>\n",
       "      <td>93</td>\n",
       "      <td>5560</td>\n",
       "      <td>2021-02-15 12:28:26.321905</td>\n",
       "      <td>865</td>\n",
       "      <td>2</td>\n",
       "    </tr>\n",
       "    <tr>\n",
       "      <th>9872</th>\n",
       "      <td>132</td>\n",
       "      <td>MONCLOA</td>\n",
       "      <td>93</td>\n",
       "      <td>5560</td>\n",
       "      <td>2021-02-15 12:29:16.170175</td>\n",
       "      <td>815</td>\n",
       "      <td>2</td>\n",
       "    </tr>\n",
       "  </tbody>\n",
       "</table>\n",
       "<p>2585 rows × 7 columns</p>\n",
       "</div>"
      ],
      "text/plain": [
       "      line destination  stop   bus                   datetime  estimateArrive  \\\n",
       "777    132     MONCLOA  1331  4707 2021-02-15 12:16:46.274293             892   \n",
       "1440   132     MONCLOA  1331  4707 2021-02-15 12:17:36.341468             842   \n",
       "1991   132     MONCLOA  1331  4707 2021-02-15 12:18:26.224565             704   \n",
       "2596   132     MONCLOA  1331  4707 2021-02-15 12:19:16.274094             654   \n",
       "3241   132     MONCLOA  1331  4707 2021-02-15 12:20:06.319124             604   \n",
       "...    ...         ...   ...   ...                        ...             ...   \n",
       "9166   132     MONCLOA  3291  5560 2021-02-15 12:28:25.614645             508   \n",
       "9690   132     MONCLOA  3291  5560 2021-02-15 12:29:15.677410             460   \n",
       "8702   132     MONCLOA    93  5560 2021-02-15 12:27:36.099158             915   \n",
       "9297   132     MONCLOA    93  5560 2021-02-15 12:28:26.321905             865   \n",
       "9872   132     MONCLOA    93  5560 2021-02-15 12:29:16.170175             815   \n",
       "\n",
       "      direction  \n",
       "777           2  \n",
       "1440          2  \n",
       "1991          2  \n",
       "2596          2  \n",
       "3241          2  \n",
       "...         ...  \n",
       "9166          2  \n",
       "9690          2  \n",
       "8702          2  \n",
       "9297          2  \n",
       "9872          2  \n",
       "\n",
       "[2585 rows x 7 columns]"
      ]
     },
     "execution_count": 12,
     "metadata": {},
     "output_type": "execute_result"
    }
   ],
   "source": [
    "th_df[th_df.line == 132]"
   ]
  },
  {
   "cell_type": "code",
   "execution_count": 13,
   "metadata": {},
   "outputs": [],
   "source": [
    "def build_time_series_graph(th_df,TH,bus_id) :\n",
    "\n",
    "    graph = go.Figure()\n",
    "    \n",
    "    #TH_DF\n",
    "    series_df = th_df[th_df.datetime > th_df.datetime.max() - timedelta(seconds=TH*30)]\n",
    "    \n",
    "    #Loc Bus Appearances\n",
    "    series_df = series_df[series_df.bus == bus_id]\n",
    "    \n",
    "    if series_df.shape[0] < 1 :\n",
    "        return graph\n",
    "    line = series_df.line.iloc[0]\n",
    "    direction = series_df.direction.iloc[0]\n",
    "    stops_list = lines_dict[str(line)][str(direction)]['stops']\n",
    "    \n",
    "    #Set title and layout\n",
    "    graph.update_layout(\n",
    "        title='<b>Bus {} : ETA Time Series</b> - Line: {}'.format(bus_id,line),\n",
    "        legend_title='<b>Destination Stop</b>',\n",
    "        yaxis = dict(\n",
    "            title='ETA in Seconds',\n",
    "            nticks=10,\n",
    "            zerolinecolor='darkgrey'\n",
    "        ),\n",
    "        margin=dict(r=0, l=0, t=40, b=0),\n",
    "        hovermode='closest'\n",
    "    )\n",
    "    \n",
    "    #Locate unique stops\n",
    "    unique_stops = series_df.stop.unique().tolist()\n",
    "    for stop in stops_list :\n",
    "        if stop not in unique_stops :\n",
    "            continue\n",
    "        else : \n",
    "            stop_index = stops_list.index(stop)\n",
    "            \n",
    "        stop_df = series_df[series_df.stop == stop]\n",
    "        \n",
    "        \n",
    "        #Build stop trace\n",
    "        graph.add_trace(go.Scatter(\n",
    "            name= '[' + str(stop_index) + '] ' + str(stop),\n",
    "            x=stop_df.datetime,\n",
    "            y=stop_df.estimateArrive,\n",
    "            mode='lines+markers',\n",
    "            line=dict(width=3,color=colors[(str_to_int(stop))%len(colors)]),\n",
    "            text=['<b>Bus : ' + str(bus_id) + '</b> <br>' + \\\n",
    "                    'Stop[' + str(stop_index) + ']: ' + str(stop) + '<br>' + \\\n",
    "                    'Time : ' + row.datetime.strftime(\"%H:%M:%S\") + '<br>' + \\\n",
    "                    'ETA : ' + str(row.estimateArrive) for row in stop_df.itertuples() ],\n",
    "            hoverinfo='text'\n",
    "        ))\n",
    "\n",
    "\n",
    "    return graph"
   ]
  },
  {
   "cell_type": "code",
   "execution_count": 15,
   "metadata": {},
   "outputs": [
    {
     "data": {
      "application/vnd.plotly.v1+json": {
       "config": {
        "plotlyServerURL": "https://plot.ly"
       },
       "data": [
        {
         "hoverinfo": "text",
         "line": {
          "color": "#ff7f0e",
          "width": 3
         },
         "mode": "lines+markers",
         "name": "[21] 1648",
         "text": [
          "<b>Bus : 4707</b> <br>Stop[21]: 1648<br>Time : 12:15:56<br>ETA : 2"
         ],
         "type": "scatter",
         "x": [
          "2021-02-15T12:15:56.735648"
         ],
         "y": [
          2
         ]
        },
        {
         "hoverinfo": "text",
         "line": {
          "color": "#17becf",
          "width": 3
         },
         "mode": "lines+markers",
         "name": "[22] 1646",
         "text": [
          "<b>Bus : 4707</b> <br>Stop[22]: 1646<br>Time : 12:15:56<br>ETA : 52"
         ],
         "type": "scatter",
         "x": [
          "2021-02-15T12:15:56.114607"
         ],
         "y": [
          52
         ]
        },
        {
         "hoverinfo": "text",
         "line": {
          "color": "#7f7f7f",
          "width": 3
         },
         "mode": "lines+markers",
         "name": "[23] 1644",
         "text": [
          "<b>Bus : 4707</b> <br>Stop[23]: 1644<br>Time : 12:15:58<br>ETA : 118",
          "<b>Bus : 4707</b> <br>Stop[23]: 1644<br>Time : 12:16:47<br>ETA : 59",
          "<b>Bus : 4707</b> <br>Stop[23]: 1644<br>Time : 12:17:37<br>ETA : 8"
         ],
         "type": "scatter",
         "x": [
          "2021-02-15T12:15:58.063297",
          "2021-02-15T12:16:47.819223",
          "2021-02-15T12:17:37.844174"
         ],
         "y": [
          118,
          59,
          8
         ]
        },
        {
         "hoverinfo": "text",
         "line": {
          "color": "#d62728",
          "width": 3
         },
         "mode": "lines+markers",
         "name": "[24] 1578",
         "text": [
          "<b>Bus : 4707</b> <br>Stop[24]: 1578<br>Time : 12:15:57<br>ETA : 227",
          "<b>Bus : 4707</b> <br>Stop[24]: 1578<br>Time : 12:16:47<br>ETA : 177",
          "<b>Bus : 4707</b> <br>Stop[24]: 1578<br>Time : 12:17:37<br>ETA : 113",
          "<b>Bus : 4707</b> <br>Stop[24]: 1578<br>Time : 12:18:27<br>ETA : 20"
         ],
         "type": "scatter",
         "x": [
          "2021-02-15T12:15:57.436022",
          "2021-02-15T12:16:47.323347",
          "2021-02-15T12:17:37.317011",
          "2021-02-15T12:18:27.556085"
         ],
         "y": [
          227,
          177,
          113,
          20
         ]
        },
        {
         "hoverinfo": "text",
         "line": {
          "color": "#ff7f0e",
          "width": 3
         },
         "mode": "lines+markers",
         "name": "[25] 1675",
         "text": [
          "<b>Bus : 4707</b> <br>Stop[25]: 1675<br>Time : 12:15:57<br>ETA : 250",
          "<b>Bus : 4707</b> <br>Stop[25]: 1675<br>Time : 12:16:47<br>ETA : 200",
          "<b>Bus : 4707</b> <br>Stop[25]: 1675<br>Time : 12:17:37<br>ETA : 170",
          "<b>Bus : 4707</b> <br>Stop[25]: 1675<br>Time : 12:18:27<br>ETA : 76",
          "<b>Bus : 4707</b> <br>Stop[25]: 1675<br>Time : 12:19:18<br>ETA : 52",
          "<b>Bus : 4707</b> <br>Stop[25]: 1675<br>Time : 12:20:07<br>ETA : 29",
          "<b>Bus : 4707</b> <br>Stop[25]: 1675<br>Time : 12:20:57<br>ETA : 24",
          "<b>Bus : 4707</b> <br>Stop[25]: 1675<br>Time : 12:21:47<br>ETA : 20"
         ],
         "type": "scatter",
         "x": [
          "2021-02-15T12:15:57.941938",
          "2021-02-15T12:16:47.333625",
          "2021-02-15T12:17:37.435572",
          "2021-02-15T12:18:27.675230",
          "2021-02-15T12:19:18.037544",
          "2021-02-15T12:20:07.454156",
          "2021-02-15T12:20:57.325830",
          "2021-02-15T12:21:47.405008"
         ],
         "y": [
          250,
          200,
          170,
          76,
          52,
          29,
          24,
          20
         ]
        },
        {
         "hoverinfo": "text",
         "line": {
          "color": "#ff7f0e",
          "width": 3
         },
         "mode": "lines+markers",
         "name": "[26] 3286",
         "text": [
          "<b>Bus : 4707</b> <br>Stop[26]: 3286<br>Time : 12:15:57<br>ETA : 331",
          "<b>Bus : 4707</b> <br>Stop[26]: 3286<br>Time : 12:16:47<br>ETA : 281",
          "<b>Bus : 4707</b> <br>Stop[26]: 3286<br>Time : 12:17:37<br>ETA : 247",
          "<b>Bus : 4707</b> <br>Stop[26]: 3286<br>Time : 12:18:27<br>ETA : 151",
          "<b>Bus : 4707</b> <br>Stop[26]: 3286<br>Time : 12:19:18<br>ETA : 128",
          "<b>Bus : 4707</b> <br>Stop[26]: 3286<br>Time : 12:20:07<br>ETA : 105",
          "<b>Bus : 4707</b> <br>Stop[26]: 3286<br>Time : 12:20:57<br>ETA : 103",
          "<b>Bus : 4707</b> <br>Stop[26]: 3286<br>Time : 12:21:47<br>ETA : 101",
          "<b>Bus : 4707</b> <br>Stop[26]: 3286<br>Time : 12:22:38<br>ETA : 37"
         ],
         "type": "scatter",
         "x": [
          "2021-02-15T12:15:57.947228",
          "2021-02-15T12:16:47.798728",
          "2021-02-15T12:17:37.841130",
          "2021-02-15T12:18:27.909858",
          "2021-02-15T12:19:18.049399",
          "2021-02-15T12:20:07.675483",
          "2021-02-15T12:20:57.648781",
          "2021-02-15T12:21:47.509000",
          "2021-02-15T12:22:38.148909"
         ],
         "y": [
          331,
          281,
          247,
          151,
          128,
          105,
          103,
          101,
          37
         ]
        },
        {
         "hoverinfo": "text",
         "line": {
          "color": "#17becf",
          "width": 3
         },
         "mode": "lines+markers",
         "name": "[27] 3284",
         "text": [
          "<b>Bus : 4707</b> <br>Stop[27]: 3284<br>Time : 12:15:57<br>ETA : 404",
          "<b>Bus : 4707</b> <br>Stop[27]: 3284<br>Time : 12:16:47<br>ETA : 354",
          "<b>Bus : 4707</b> <br>Stop[27]: 3284<br>Time : 12:17:37<br>ETA : 289",
          "<b>Bus : 4707</b> <br>Stop[27]: 3284<br>Time : 12:18:27<br>ETA : 223",
          "<b>Bus : 4707</b> <br>Stop[27]: 3284<br>Time : 12:19:17<br>ETA : 172",
          "<b>Bus : 4707</b> <br>Stop[27]: 3284<br>Time : 12:20:07<br>ETA : 148",
          "<b>Bus : 4707</b> <br>Stop[27]: 3284<br>Time : 12:20:57<br>ETA : 146",
          "<b>Bus : 4707</b> <br>Stop[27]: 3284<br>Time : 12:21:47<br>ETA : 146",
          "<b>Bus : 4707</b> <br>Stop[27]: 3284<br>Time : 12:22:37<br>ETA : 83",
          "<b>Bus : 4707</b> <br>Stop[27]: 3284<br>Time : 12:23:27<br>ETA : 6"
         ],
         "type": "scatter",
         "x": [
          "2021-02-15T12:15:57.440088",
          "2021-02-15T12:16:47.330969",
          "2021-02-15T12:17:37.304894",
          "2021-02-15T12:18:27.308816",
          "2021-02-15T12:19:17.546693",
          "2021-02-15T12:20:07.285461",
          "2021-02-15T12:20:57.325796",
          "2021-02-15T12:21:47.363904",
          "2021-02-15T12:22:37.611739",
          "2021-02-15T12:23:27.285237"
         ],
         "y": [
          404,
          354,
          289,
          223,
          172,
          148,
          146,
          146,
          83,
          6
         ]
        },
        {
         "hoverinfo": "text",
         "line": {
          "color": "#7f7f7f",
          "width": 3
         },
         "mode": "lines+markers",
         "name": "[28] 3282",
         "text": [
          "<b>Bus : 4707</b> <br>Stop[28]: 3282<br>Time : 12:15:55<br>ETA : 433",
          "<b>Bus : 4707</b> <br>Stop[28]: 3282<br>Time : 12:16:45<br>ETA : 383",
          "<b>Bus : 4707</b> <br>Stop[28]: 3282<br>Time : 12:17:35<br>ETA : 333",
          "<b>Bus : 4707</b> <br>Stop[28]: 3282<br>Time : 12:18:25<br>ETA : 266",
          "<b>Bus : 4707</b> <br>Stop[28]: 3282<br>Time : 12:19:15<br>ETA : 216",
          "<b>Bus : 4707</b> <br>Stop[28]: 3282<br>Time : 12:20:05<br>ETA : 191",
          "<b>Bus : 4707</b> <br>Stop[28]: 3282<br>Time : 12:20:55<br>ETA : 191",
          "<b>Bus : 4707</b> <br>Stop[28]: 3282<br>Time : 12:21:45<br>ETA : 192",
          "<b>Bus : 4707</b> <br>Stop[28]: 3282<br>Time : 12:22:35<br>ETA : 142",
          "<b>Bus : 4707</b> <br>Stop[28]: 3282<br>Time : 12:23:25<br>ETA : 53",
          "<b>Bus : 4707</b> <br>Stop[28]: 3282<br>Time : 12:24:15<br>ETA : 12"
         ],
         "type": "scatter",
         "x": [
          "2021-02-15T12:15:55.585463",
          "2021-02-15T12:16:45.596058",
          "2021-02-15T12:17:35.570615",
          "2021-02-15T12:18:25.629695",
          "2021-02-15T12:19:15.623222",
          "2021-02-15T12:20:05.655875",
          "2021-02-15T12:20:55.580270",
          "2021-02-15T12:21:45.698466",
          "2021-02-15T12:22:35.623703",
          "2021-02-15T12:23:25.585815",
          "2021-02-15T12:24:15.647337"
         ],
         "y": [
          433,
          383,
          333,
          266,
          216,
          191,
          191,
          192,
          142,
          53,
          12
         ]
        },
        {
         "hoverinfo": "text",
         "line": {
          "color": "#8c564b",
          "width": 3
         },
         "mode": "lines+markers",
         "name": "[29] 3280",
         "text": [
          "<b>Bus : 4707</b> <br>Stop[29]: 3280<br>Time : 12:15:56<br>ETA : 491",
          "<b>Bus : 4707</b> <br>Stop[29]: 3280<br>Time : 12:16:46<br>ETA : 425",
          "<b>Bus : 4707</b> <br>Stop[29]: 3280<br>Time : 12:17:36<br>ETA : 375",
          "<b>Bus : 4707</b> <br>Stop[29]: 3280<br>Time : 12:18:26<br>ETA : 302",
          "<b>Bus : 4707</b> <br>Stop[29]: 3280<br>Time : 12:19:16<br>ETA : 252",
          "<b>Bus : 4707</b> <br>Stop[29]: 3280<br>Time : 12:20:06<br>ETA : 227",
          "<b>Bus : 4707</b> <br>Stop[29]: 3280<br>Time : 12:20:56<br>ETA : 228",
          "<b>Bus : 4707</b> <br>Stop[29]: 3280<br>Time : 12:21:46<br>ETA : 210",
          "<b>Bus : 4707</b> <br>Stop[29]: 3280<br>Time : 12:22:37<br>ETA : 188",
          "<b>Bus : 4707</b> <br>Stop[29]: 3280<br>Time : 12:23:26<br>ETA : 92",
          "<b>Bus : 4707</b> <br>Stop[29]: 3280<br>Time : 12:24:16<br>ETA : 50",
          "<b>Bus : 4707</b> <br>Stop[29]: 3280<br>Time : 12:25:06<br>ETA : 1"
         ],
         "type": "scatter",
         "x": [
          "2021-02-15T12:15:56.719617",
          "2021-02-15T12:16:46.776724",
          "2021-02-15T12:17:36.781245",
          "2021-02-15T12:18:26.673405",
          "2021-02-15T12:19:16.818409",
          "2021-02-15T12:20:06.710720",
          "2021-02-15T12:20:56.694832",
          "2021-02-15T12:21:46.613941",
          "2021-02-15T12:22:37.063452",
          "2021-02-15T12:23:26.729607",
          "2021-02-15T12:24:16.659622",
          "2021-02-15T12:25:06.841887"
         ],
         "y": [
          491,
          425,
          375,
          302,
          252,
          227,
          228,
          210,
          188,
          92,
          50,
          1
         ]
        },
        {
         "hoverinfo": "text",
         "line": {
          "color": "#bcbd22",
          "width": 3
         },
         "mode": "lines+markers",
         "name": "[30] 3292",
         "text": [
          "<b>Bus : 4707</b> <br>Stop[30]: 3292<br>Time : 12:15:57<br>ETA : 540",
          "<b>Bus : 4707</b> <br>Stop[30]: 3292<br>Time : 12:16:47<br>ETA : 466",
          "<b>Bus : 4707</b> <br>Stop[30]: 3292<br>Time : 12:17:37<br>ETA : 415",
          "<b>Bus : 4707</b> <br>Stop[30]: 3292<br>Time : 12:18:27<br>ETA : 315",
          "<b>Bus : 4707</b> <br>Stop[30]: 3292<br>Time : 12:19:18<br>ETA : 265",
          "<b>Bus : 4707</b> <br>Stop[30]: 3292<br>Time : 12:20:07<br>ETA : 269",
          "<b>Bus : 4707</b> <br>Stop[30]: 3292<br>Time : 12:20:57<br>ETA : 271",
          "<b>Bus : 4707</b> <br>Stop[30]: 3292<br>Time : 12:21:47<br>ETA : 254",
          "<b>Bus : 4707</b> <br>Stop[30]: 3292<br>Time : 12:22:38<br>ETA : 234",
          "<b>Bus : 4707</b> <br>Stop[30]: 3292<br>Time : 12:23:27<br>ETA : 138",
          "<b>Bus : 4707</b> <br>Stop[30]: 3292<br>Time : 12:24:17<br>ETA : 95",
          "<b>Bus : 4707</b> <br>Stop[30]: 3292<br>Time : 12:25:07<br>ETA : 44"
         ],
         "type": "scatter",
         "x": [
          "2021-02-15T12:15:57.942569",
          "2021-02-15T12:16:47.483594",
          "2021-02-15T12:17:37.770638",
          "2021-02-15T12:18:27.680850",
          "2021-02-15T12:19:18.030137",
          "2021-02-15T12:20:07.650160",
          "2021-02-15T12:20:57.448550",
          "2021-02-15T12:21:47.432838",
          "2021-02-15T12:22:38.139290",
          "2021-02-15T12:23:27.811893",
          "2021-02-15T12:24:17.422724",
          "2021-02-15T12:25:07.669919"
         ],
         "y": [
          540,
          466,
          415,
          315,
          265,
          269,
          271,
          254,
          234,
          138,
          95,
          44
         ]
        },
        {
         "hoverinfo": "text",
         "line": {
          "color": "#bcbd22",
          "width": 3
         },
         "mode": "lines+markers",
         "name": "[31] 3274",
         "text": [
          "<b>Bus : 4707</b> <br>Stop[31]: 3274<br>Time : 12:15:56<br>ETA : 583",
          "<b>Bus : 4707</b> <br>Stop[31]: 3274<br>Time : 12:16:46<br>ETA : 533",
          "<b>Bus : 4707</b> <br>Stop[31]: 3274<br>Time : 12:17:36<br>ETA : 449",
          "<b>Bus : 4707</b> <br>Stop[31]: 3274<br>Time : 12:18:26<br>ETA : 353",
          "<b>Bus : 4707</b> <br>Stop[31]: 3274<br>Time : 12:19:16<br>ETA : 303",
          "<b>Bus : 4707</b> <br>Stop[31]: 3274<br>Time : 12:20:06<br>ETA : 307",
          "<b>Bus : 4707</b> <br>Stop[31]: 3274<br>Time : 12:20:56<br>ETA : 309",
          "<b>Bus : 4707</b> <br>Stop[31]: 3274<br>Time : 12:21:46<br>ETA : 315",
          "<b>Bus : 4707</b> <br>Stop[31]: 3274<br>Time : 12:22:36<br>ETA : 265",
          "<b>Bus : 4707</b> <br>Stop[31]: 3274<br>Time : 12:23:26<br>ETA : 179",
          "<b>Bus : 4707</b> <br>Stop[31]: 3274<br>Time : 12:24:16<br>ETA : 134",
          "<b>Bus : 4707</b> <br>Stop[31]: 3274<br>Time : 12:25:06<br>ETA : 84",
          "<b>Bus : 4707</b> <br>Stop[31]: 3274<br>Time : 12:25:56<br>ETA : 34"
         ],
         "type": "scatter",
         "x": [
          "2021-02-15T12:15:56.171383",
          "2021-02-15T12:16:46.270223",
          "2021-02-15T12:17:36.317166",
          "2021-02-15T12:18:26.229093",
          "2021-02-15T12:19:16.272849",
          "2021-02-15T12:20:06.233240",
          "2021-02-15T12:20:56.187866",
          "2021-02-15T12:21:46.279574",
          "2021-02-15T12:22:36.495939",
          "2021-02-15T12:23:26.212926",
          "2021-02-15T12:24:16.301684",
          "2021-02-15T12:25:06.309688",
          "2021-02-15T12:25:56.366497"
         ],
         "y": [
          583,
          533,
          449,
          353,
          303,
          307,
          309,
          315,
          265,
          179,
          134,
          84,
          34
         ]
        },
        {
         "hoverinfo": "text",
         "line": {
          "color": "#1f77b4",
          "width": 3
         },
         "mode": "lines+markers",
         "name": "[32] 1692",
         "text": [
          "<b>Bus : 4707</b> <br>Stop[32]: 1692<br>Time : 12:15:56<br>ETA : 700",
          "<b>Bus : 4707</b> <br>Stop[32]: 1692<br>Time : 12:16:46<br>ETA : 649",
          "<b>Bus : 4707</b> <br>Stop[32]: 1692<br>Time : 12:17:36<br>ETA : 600",
          "<b>Bus : 4707</b> <br>Stop[32]: 1692<br>Time : 12:18:26<br>ETA : 440",
          "<b>Bus : 4707</b> <br>Stop[32]: 1692<br>Time : 12:19:16<br>ETA : 389",
          "<b>Bus : 4707</b> <br>Stop[32]: 1692<br>Time : 12:20:06<br>ETA : 393",
          "<b>Bus : 4707</b> <br>Stop[32]: 1692<br>Time : 12:20:56<br>ETA : 399",
          "<b>Bus : 4707</b> <br>Stop[32]: 1692<br>Time : 12:21:46<br>ETA : 408",
          "<b>Bus : 4707</b> <br>Stop[32]: 1692<br>Time : 12:22:40<br>ETA : 354",
          "<b>Bus : 4707</b> <br>Stop[32]: 1692<br>Time : 12:23:26<br>ETA : 308",
          "<b>Bus : 4707</b> <br>Stop[32]: 1692<br>Time : 12:24:16<br>ETA : 258",
          "<b>Bus : 4707</b> <br>Stop[32]: 1692<br>Time : 12:25:06<br>ETA : 176",
          "<b>Bus : 4707</b> <br>Stop[32]: 1692<br>Time : 12:25:56<br>ETA : 132",
          "<b>Bus : 4707</b> <br>Stop[32]: 1692<br>Time : 12:26:46<br>ETA : 68",
          "<b>Bus : 4707</b> <br>Stop[32]: 1692<br>Time : 12:27:36<br>ETA : 18"
         ],
         "type": "scatter",
         "x": [
          "2021-02-15T12:15:56.498830",
          "2021-02-15T12:16:46.746256",
          "2021-02-15T12:17:36.549486",
          "2021-02-15T12:18:26.678677",
          "2021-02-15T12:19:16.783695",
          "2021-02-15T12:20:06.633302",
          "2021-02-15T12:20:56.308149",
          "2021-02-15T12:21:46.441443",
          "2021-02-15T12:22:40.170281",
          "2021-02-15T12:23:26.506273",
          "2021-02-15T12:24:16.512011",
          "2021-02-15T12:25:06.582016",
          "2021-02-15T12:25:56.652960",
          "2021-02-15T12:26:46.753492",
          "2021-02-15T12:27:36.390574"
         ],
         "y": [
          700,
          649,
          600,
          440,
          389,
          393,
          399,
          408,
          354,
          308,
          258,
          176,
          132,
          68,
          18
         ]
        },
        {
         "hoverinfo": "text",
         "line": {
          "color": "#bcbd22",
          "width": 3
         },
         "mode": "lines+markers",
         "name": "[33] 1690",
         "text": [
          "<b>Bus : 4707</b> <br>Stop[33]: 1690<br>Time : 12:15:56<br>ETA : 741",
          "<b>Bus : 4707</b> <br>Stop[33]: 1690<br>Time : 12:16:46<br>ETA : 691",
          "<b>Bus : 4707</b> <br>Stop[33]: 1690<br>Time : 12:17:36<br>ETA : 641",
          "<b>Bus : 4707</b> <br>Stop[33]: 1690<br>Time : 12:18:26<br>ETA : 519",
          "<b>Bus : 4707</b> <br>Stop[33]: 1690<br>Time : 12:19:16<br>ETA : 469",
          "<b>Bus : 4707</b> <br>Stop[33]: 1690<br>Time : 12:20:06<br>ETA : 442",
          "<b>Bus : 4707</b> <br>Stop[33]: 1690<br>Time : 12:20:56<br>ETA : 449",
          "<b>Bus : 4707</b> <br>Stop[33]: 1690<br>Time : 12:21:46<br>ETA : 459",
          "<b>Bus : 4707</b> <br>Stop[33]: 1690<br>Time : 12:22:36<br>ETA : 409",
          "<b>Bus : 4707</b> <br>Stop[33]: 1690<br>Time : 12:23:26<br>ETA : 359",
          "<b>Bus : 4707</b> <br>Stop[33]: 1690<br>Time : 12:24:19<br>ETA : 306",
          "<b>Bus : 4707</b> <br>Stop[33]: 1690<br>Time : 12:25:06<br>ETA : 231",
          "<b>Bus : 4707</b> <br>Stop[33]: 1690<br>Time : 12:25:56<br>ETA : 180",
          "<b>Bus : 4707</b> <br>Stop[33]: 1690<br>Time : 12:26:46<br>ETA : 125",
          "<b>Bus : 4707</b> <br>Stop[33]: 1690<br>Time : 12:27:36<br>ETA : 75",
          "<b>Bus : 4707</b> <br>Stop[33]: 1690<br>Time : 12:28:26<br>ETA : 16",
          "<b>Bus : 4707</b> <br>Stop[33]: 1690<br>Time : 12:29:16<br>ETA : 6"
         ],
         "type": "scatter",
         "x": [
          "2021-02-15T12:15:56.170809",
          "2021-02-15T12:16:46.279905",
          "2021-02-15T12:17:36.226303",
          "2021-02-15T12:18:26.224784",
          "2021-02-15T12:19:16.262262",
          "2021-02-15T12:20:06.233127",
          "2021-02-15T12:20:56.168608",
          "2021-02-15T12:21:46.257737",
          "2021-02-15T12:22:36.480642",
          "2021-02-15T12:23:26.194396",
          "2021-02-15T12:24:19.377665",
          "2021-02-15T12:25:06.336080",
          "2021-02-15T12:25:56.354050",
          "2021-02-15T12:26:46.328265",
          "2021-02-15T12:27:36.097340",
          "2021-02-15T12:28:26.325639",
          "2021-02-15T12:29:16.169935"
         ],
         "y": [
          741,
          691,
          641,
          519,
          469,
          442,
          449,
          459,
          409,
          359,
          306,
          231,
          180,
          125,
          75,
          16,
          6
         ]
        },
        {
         "hoverinfo": "text",
         "line": {
          "color": "#8c564b",
          "width": 3
         },
         "mode": "lines+markers",
         "name": "[34] 1688",
         "text": [
          "<b>Bus : 4707</b> <br>Stop[34]: 1688<br>Time : 12:15:56<br>ETA : 825",
          "<b>Bus : 4707</b> <br>Stop[34]: 1688<br>Time : 12:16:46<br>ETA : 775",
          "<b>Bus : 4707</b> <br>Stop[34]: 1688<br>Time : 12:17:36<br>ETA : 725",
          "<b>Bus : 4707</b> <br>Stop[34]: 1688<br>Time : 12:18:26<br>ETA : 601",
          "<b>Bus : 4707</b> <br>Stop[34]: 1688<br>Time : 12:19:16<br>ETA : 551",
          "<b>Bus : 4707</b> <br>Stop[34]: 1688<br>Time : 12:20:06<br>ETA : 501",
          "<b>Bus : 4707</b> <br>Stop[34]: 1688<br>Time : 12:20:56<br>ETA : 507",
          "<b>Bus : 4707</b> <br>Stop[34]: 1688<br>Time : 12:21:46<br>ETA : 519",
          "<b>Bus : 4707</b> <br>Stop[34]: 1688<br>Time : 12:22:37<br>ETA : 468",
          "<b>Bus : 4707</b> <br>Stop[34]: 1688<br>Time : 12:23:26<br>ETA : 419",
          "<b>Bus : 4707</b> <br>Stop[34]: 1688<br>Time : 12:24:16<br>ETA : 369",
          "<b>Bus : 4707</b> <br>Stop[34]: 1688<br>Time : 12:25:06<br>ETA : 288",
          "<b>Bus : 4707</b> <br>Stop[34]: 1688<br>Time : 12:25:56<br>ETA : 238",
          "<b>Bus : 4707</b> <br>Stop[34]: 1688<br>Time : 12:26:46<br>ETA : 182",
          "<b>Bus : 4707</b> <br>Stop[34]: 1688<br>Time : 12:27:36<br>ETA : 132",
          "<b>Bus : 4707</b> <br>Stop[34]: 1688<br>Time : 12:28:26<br>ETA : 72"
         ],
         "type": "scatter",
         "x": [
          "2021-02-15T12:15:56.636058",
          "2021-02-15T12:16:46.733052",
          "2021-02-15T12:17:36.510753",
          "2021-02-15T12:18:26.629592",
          "2021-02-15T12:19:16.773474",
          "2021-02-15T12:20:06.575431",
          "2021-02-15T12:20:56.309024",
          "2021-02-15T12:21:46.425583",
          "2021-02-15T12:22:37.003857",
          "2021-02-15T12:23:26.483601",
          "2021-02-15T12:24:16.489065",
          "2021-02-15T12:25:06.583835",
          "2021-02-15T12:25:56.618249",
          "2021-02-15T12:26:46.665940",
          "2021-02-15T12:27:36.382811",
          "2021-02-15T12:28:26.665698"
         ],
         "y": [
          825,
          775,
          725,
          601,
          551,
          501,
          507,
          519,
          468,
          419,
          369,
          288,
          238,
          182,
          132,
          72
         ]
        },
        {
         "hoverinfo": "text",
         "line": {
          "color": "#2ca02c",
          "width": 3
         },
         "mode": "lines+markers",
         "name": "[35] 1685",
         "text": [
          "<b>Bus : 4707</b> <br>Stop[35]: 1685<br>Time : 12:16:47<br>ETA : 834",
          "<b>Bus : 4707</b> <br>Stop[35]: 1685<br>Time : 12:17:37<br>ETA : 784",
          "<b>Bus : 4707</b> <br>Stop[35]: 1685<br>Time : 12:18:27<br>ETA : 636",
          "<b>Bus : 4707</b> <br>Stop[35]: 1685<br>Time : 12:19:17<br>ETA : 586",
          "<b>Bus : 4707</b> <br>Stop[35]: 1685<br>Time : 12:20:07<br>ETA : 590",
          "<b>Bus : 4707</b> <br>Stop[35]: 1685<br>Time : 12:20:57<br>ETA : 578",
          "<b>Bus : 4707</b> <br>Stop[35]: 1685<br>Time : 12:21:47<br>ETA : 565",
          "<b>Bus : 4707</b> <br>Stop[35]: 1685<br>Time : 12:22:38<br>ETA : 515",
          "<b>Bus : 4707</b> <br>Stop[35]: 1685<br>Time : 12:23:27<br>ETA : 465",
          "<b>Bus : 4707</b> <br>Stop[35]: 1685<br>Time : 12:24:17<br>ETA : 415",
          "<b>Bus : 4707</b> <br>Stop[35]: 1685<br>Time : 12:25:07<br>ETA : 365",
          "<b>Bus : 4707</b> <br>Stop[35]: 1685<br>Time : 12:25:57<br>ETA : 310",
          "<b>Bus : 4707</b> <br>Stop[35]: 1685<br>Time : 12:26:47<br>ETA : 242",
          "<b>Bus : 4707</b> <br>Stop[35]: 1685<br>Time : 12:27:37<br>ETA : 192",
          "<b>Bus : 4707</b> <br>Stop[35]: 1685<br>Time : 12:28:27<br>ETA : 141",
          "<b>Bus : 4707</b> <br>Stop[35]: 1685<br>Time : 12:29:17<br>ETA : 131"
         ],
         "type": "scatter",
         "x": [
          "2021-02-15T12:16:47.455958",
          "2021-02-15T12:17:37.750199",
          "2021-02-15T12:18:27.685224",
          "2021-02-15T12:19:17.986079",
          "2021-02-15T12:20:07.674768",
          "2021-02-15T12:20:57.307847",
          "2021-02-15T12:21:47.398903",
          "2021-02-15T12:22:38.138558",
          "2021-02-15T12:23:27.569004",
          "2021-02-15T12:24:17.396368",
          "2021-02-15T12:25:07.656058",
          "2021-02-15T12:25:57.726835",
          "2021-02-15T12:26:47.816291",
          "2021-02-15T12:27:37.482616",
          "2021-02-15T12:28:27.407696",
          "2021-02-15T12:29:17.668781"
         ],
         "y": [
          834,
          784,
          636,
          586,
          590,
          578,
          565,
          515,
          465,
          415,
          365,
          310,
          242,
          192,
          141,
          131
         ]
        },
        {
         "hoverinfo": "text",
         "line": {
          "color": "#1f77b4",
          "width": 3
         },
         "mode": "lines+markers",
         "name": "[36] 1331",
         "text": [
          "<b>Bus : 4707</b> <br>Stop[36]: 1331<br>Time : 12:16:46<br>ETA : 892",
          "<b>Bus : 4707</b> <br>Stop[36]: 1331<br>Time : 12:17:36<br>ETA : 842",
          "<b>Bus : 4707</b> <br>Stop[36]: 1331<br>Time : 12:18:26<br>ETA : 704",
          "<b>Bus : 4707</b> <br>Stop[36]: 1331<br>Time : 12:19:16<br>ETA : 654",
          "<b>Bus : 4707</b> <br>Stop[36]: 1331<br>Time : 12:20:06<br>ETA : 604",
          "<b>Bus : 4707</b> <br>Stop[36]: 1331<br>Time : 12:20:56<br>ETA : 605",
          "<b>Bus : 4707</b> <br>Stop[36]: 1331<br>Time : 12:21:46<br>ETA : 650",
          "<b>Bus : 4707</b> <br>Stop[36]: 1331<br>Time : 12:22:36<br>ETA : 600",
          "<b>Bus : 4707</b> <br>Stop[36]: 1331<br>Time : 12:23:26<br>ETA : 550",
          "<b>Bus : 4707</b> <br>Stop[36]: 1331<br>Time : 12:24:16<br>ETA : 500",
          "<b>Bus : 4707</b> <br>Stop[36]: 1331<br>Time : 12:25:06<br>ETA : 450",
          "<b>Bus : 4707</b> <br>Stop[36]: 1331<br>Time : 12:25:56<br>ETA : 366",
          "<b>Bus : 4707</b> <br>Stop[36]: 1331<br>Time : 12:26:46<br>ETA : 316",
          "<b>Bus : 4707</b> <br>Stop[36]: 1331<br>Time : 12:27:36<br>ETA : 266",
          "<b>Bus : 4707</b> <br>Stop[36]: 1331<br>Time : 12:28:26<br>ETA : 216",
          "<b>Bus : 4707</b> <br>Stop[36]: 1331<br>Time : 12:29:16<br>ETA : 185"
         ],
         "type": "scatter",
         "x": [
          "2021-02-15T12:16:46.274293",
          "2021-02-15T12:17:36.341468",
          "2021-02-15T12:18:26.224565",
          "2021-02-15T12:19:16.274094",
          "2021-02-15T12:20:06.319124",
          "2021-02-15T12:20:56.193689",
          "2021-02-15T12:21:46.284683",
          "2021-02-15T12:22:36.478024",
          "2021-02-15T12:23:26.220960",
          "2021-02-15T12:24:16.319756",
          "2021-02-15T12:25:06.358415",
          "2021-02-15T12:25:56.368518",
          "2021-02-15T12:26:46.354303",
          "2021-02-15T12:27:36.246086",
          "2021-02-15T12:28:26.322062",
          "2021-02-15T12:29:16.295186"
         ],
         "y": [
          892,
          842,
          704,
          654,
          604,
          605,
          650,
          600,
          550,
          500,
          450,
          366,
          316,
          266,
          216,
          185
         ]
        },
        {
         "hoverinfo": "text",
         "line": {
          "color": "#e377c2",
          "width": 3
         },
         "mode": "lines+markers",
         "name": "[37] 4514",
         "text": [
          "<b>Bus : 4707</b> <br>Stop[37]: 4514<br>Time : 12:22:35<br>ETA : 968",
          "<b>Bus : 4707</b> <br>Stop[37]: 4514<br>Time : 12:23:25<br>ETA : 918",
          "<b>Bus : 4707</b> <br>Stop[37]: 4514<br>Time : 12:24:15<br>ETA : 868",
          "<b>Bus : 4707</b> <br>Stop[37]: 4514<br>Time : 12:25:05<br>ETA : 777",
          "<b>Bus : 4707</b> <br>Stop[37]: 4514<br>Time : 12:25:55<br>ETA : 727",
          "<b>Bus : 4707</b> <br>Stop[37]: 4514<br>Time : 12:26:45<br>ETA : 620",
          "<b>Bus : 4707</b> <br>Stop[37]: 4514<br>Time : 12:27:35<br>ETA : 577",
          "<b>Bus : 4707</b> <br>Stop[37]: 4514<br>Time : 12:28:25<br>ETA : 527",
          "<b>Bus : 4707</b> <br>Stop[37]: 4514<br>Time : 12:29:15<br>ETA : 477"
         ],
         "type": "scatter",
         "x": [
          "2021-02-15T12:22:35.659719",
          "2021-02-15T12:23:25.613530",
          "2021-02-15T12:24:15.693925",
          "2021-02-15T12:25:05.687315",
          "2021-02-15T12:25:55.699999",
          "2021-02-15T12:26:45.626385",
          "2021-02-15T12:27:35.620585",
          "2021-02-15T12:28:25.620282",
          "2021-02-15T12:29:15.712929"
         ],
         "y": [
          968,
          918,
          868,
          777,
          727,
          620,
          577,
          527,
          477
         ]
        },
        {
         "hoverinfo": "text",
         "line": {
          "color": "#1f77b4",
          "width": 3
         },
         "mode": "lines+markers",
         "name": "[38] 4022",
         "text": [
          "<b>Bus : 4707</b> <br>Stop[38]: 4022<br>Time : 12:24:15<br>ETA : 909",
          "<b>Bus : 4707</b> <br>Stop[38]: 4022<br>Time : 12:25:05<br>ETA : 859",
          "<b>Bus : 4707</b> <br>Stop[38]: 4022<br>Time : 12:25:55<br>ETA : 795",
          "<b>Bus : 4707</b> <br>Stop[38]: 4022<br>Time : 12:26:45<br>ETA : 745",
          "<b>Bus : 4707</b> <br>Stop[38]: 4022<br>Time : 12:28:25<br>ETA : 645",
          "<b>Bus : 4707</b> <br>Stop[38]: 4022<br>Time : 12:29:15<br>ETA : 595"
         ],
         "type": "scatter",
         "x": [
          "2021-02-15T12:24:15.696154",
          "2021-02-15T12:25:05.680286",
          "2021-02-15T12:25:55.698840",
          "2021-02-15T12:26:45.640658",
          "2021-02-15T12:28:25.622854",
          "2021-02-15T12:29:15.711838"
         ],
         "y": [
          909,
          859,
          795,
          745,
          645,
          595
         ]
        },
        {
         "hoverinfo": "text",
         "line": {
          "color": "#e377c2",
          "width": 3
         },
         "mode": "lines+markers",
         "name": "[39] 3047",
         "text": [
          "<b>Bus : 4707</b> <br>Stop[39]: 3047<br>Time : 12:24:15<br>ETA : 991",
          "<b>Bus : 4707</b> <br>Stop[39]: 3047<br>Time : 12:25:05<br>ETA : 941",
          "<b>Bus : 4707</b> <br>Stop[39]: 3047<br>Time : 12:25:55<br>ETA : 891",
          "<b>Bus : 4707</b> <br>Stop[39]: 3047<br>Time : 12:26:45<br>ETA : 815",
          "<b>Bus : 4707</b> <br>Stop[39]: 3047<br>Time : 12:27:35<br>ETA : 765",
          "<b>Bus : 4707</b> <br>Stop[39]: 3047<br>Time : 12:28:25<br>ETA : 715",
          "<b>Bus : 4707</b> <br>Stop[39]: 3047<br>Time : 12:29:15<br>ETA : 665"
         ],
         "type": "scatter",
         "x": [
          "2021-02-15T12:24:15.676579",
          "2021-02-15T12:25:05.689276",
          "2021-02-15T12:25:55.692727",
          "2021-02-15T12:26:45.624594",
          "2021-02-15T12:27:35.604305",
          "2021-02-15T12:28:25.614397",
          "2021-02-15T12:29:15.713273"
         ],
         "y": [
          991,
          941,
          891,
          815,
          765,
          715,
          665
         ]
        }
       ],
       "layout": {
        "hovermode": "closest",
        "legend": {
         "title": {
          "text": "<b>Destination Stop</b>"
         }
        },
        "margin": {
         "b": 0,
         "l": 0,
         "r": 0,
         "t": 40
        },
        "template": {
         "data": {
          "bar": [
           {
            "error_x": {
             "color": "#2a3f5f"
            },
            "error_y": {
             "color": "#2a3f5f"
            },
            "marker": {
             "line": {
              "color": "white",
              "width": 0.5
             }
            },
            "type": "bar"
           }
          ],
          "barpolar": [
           {
            "marker": {
             "line": {
              "color": "white",
              "width": 0.5
             }
            },
            "type": "barpolar"
           }
          ],
          "carpet": [
           {
            "aaxis": {
             "endlinecolor": "#2a3f5f",
             "gridcolor": "#C8D4E3",
             "linecolor": "#C8D4E3",
             "minorgridcolor": "#C8D4E3",
             "startlinecolor": "#2a3f5f"
            },
            "baxis": {
             "endlinecolor": "#2a3f5f",
             "gridcolor": "#C8D4E3",
             "linecolor": "#C8D4E3",
             "minorgridcolor": "#C8D4E3",
             "startlinecolor": "#2a3f5f"
            },
            "type": "carpet"
           }
          ],
          "choropleth": [
           {
            "colorbar": {
             "outlinewidth": 0,
             "ticks": ""
            },
            "type": "choropleth"
           }
          ],
          "contour": [
           {
            "colorbar": {
             "outlinewidth": 0,
             "ticks": ""
            },
            "colorscale": [
             [
              0,
              "#0d0887"
             ],
             [
              0.1111111111111111,
              "#46039f"
             ],
             [
              0.2222222222222222,
              "#7201a8"
             ],
             [
              0.3333333333333333,
              "#9c179e"
             ],
             [
              0.4444444444444444,
              "#bd3786"
             ],
             [
              0.5555555555555556,
              "#d8576b"
             ],
             [
              0.6666666666666666,
              "#ed7953"
             ],
             [
              0.7777777777777778,
              "#fb9f3a"
             ],
             [
              0.8888888888888888,
              "#fdca26"
             ],
             [
              1,
              "#f0f921"
             ]
            ],
            "type": "contour"
           }
          ],
          "contourcarpet": [
           {
            "colorbar": {
             "outlinewidth": 0,
             "ticks": ""
            },
            "type": "contourcarpet"
           }
          ],
          "heatmap": [
           {
            "colorbar": {
             "outlinewidth": 0,
             "ticks": ""
            },
            "colorscale": [
             [
              0,
              "#0d0887"
             ],
             [
              0.1111111111111111,
              "#46039f"
             ],
             [
              0.2222222222222222,
              "#7201a8"
             ],
             [
              0.3333333333333333,
              "#9c179e"
             ],
             [
              0.4444444444444444,
              "#bd3786"
             ],
             [
              0.5555555555555556,
              "#d8576b"
             ],
             [
              0.6666666666666666,
              "#ed7953"
             ],
             [
              0.7777777777777778,
              "#fb9f3a"
             ],
             [
              0.8888888888888888,
              "#fdca26"
             ],
             [
              1,
              "#f0f921"
             ]
            ],
            "type": "heatmap"
           }
          ],
          "heatmapgl": [
           {
            "colorbar": {
             "outlinewidth": 0,
             "ticks": ""
            },
            "colorscale": [
             [
              0,
              "#0d0887"
             ],
             [
              0.1111111111111111,
              "#46039f"
             ],
             [
              0.2222222222222222,
              "#7201a8"
             ],
             [
              0.3333333333333333,
              "#9c179e"
             ],
             [
              0.4444444444444444,
              "#bd3786"
             ],
             [
              0.5555555555555556,
              "#d8576b"
             ],
             [
              0.6666666666666666,
              "#ed7953"
             ],
             [
              0.7777777777777778,
              "#fb9f3a"
             ],
             [
              0.8888888888888888,
              "#fdca26"
             ],
             [
              1,
              "#f0f921"
             ]
            ],
            "type": "heatmapgl"
           }
          ],
          "histogram": [
           {
            "marker": {
             "colorbar": {
              "outlinewidth": 0,
              "ticks": ""
             }
            },
            "type": "histogram"
           }
          ],
          "histogram2d": [
           {
            "colorbar": {
             "outlinewidth": 0,
             "ticks": ""
            },
            "colorscale": [
             [
              0,
              "#0d0887"
             ],
             [
              0.1111111111111111,
              "#46039f"
             ],
             [
              0.2222222222222222,
              "#7201a8"
             ],
             [
              0.3333333333333333,
              "#9c179e"
             ],
             [
              0.4444444444444444,
              "#bd3786"
             ],
             [
              0.5555555555555556,
              "#d8576b"
             ],
             [
              0.6666666666666666,
              "#ed7953"
             ],
             [
              0.7777777777777778,
              "#fb9f3a"
             ],
             [
              0.8888888888888888,
              "#fdca26"
             ],
             [
              1,
              "#f0f921"
             ]
            ],
            "type": "histogram2d"
           }
          ],
          "histogram2dcontour": [
           {
            "colorbar": {
             "outlinewidth": 0,
             "ticks": ""
            },
            "colorscale": [
             [
              0,
              "#0d0887"
             ],
             [
              0.1111111111111111,
              "#46039f"
             ],
             [
              0.2222222222222222,
              "#7201a8"
             ],
             [
              0.3333333333333333,
              "#9c179e"
             ],
             [
              0.4444444444444444,
              "#bd3786"
             ],
             [
              0.5555555555555556,
              "#d8576b"
             ],
             [
              0.6666666666666666,
              "#ed7953"
             ],
             [
              0.7777777777777778,
              "#fb9f3a"
             ],
             [
              0.8888888888888888,
              "#fdca26"
             ],
             [
              1,
              "#f0f921"
             ]
            ],
            "type": "histogram2dcontour"
           }
          ],
          "mesh3d": [
           {
            "colorbar": {
             "outlinewidth": 0,
             "ticks": ""
            },
            "type": "mesh3d"
           }
          ],
          "parcoords": [
           {
            "line": {
             "colorbar": {
              "outlinewidth": 0,
              "ticks": ""
             }
            },
            "type": "parcoords"
           }
          ],
          "pie": [
           {
            "automargin": true,
            "type": "pie"
           }
          ],
          "scatter": [
           {
            "marker": {
             "colorbar": {
              "outlinewidth": 0,
              "ticks": ""
             }
            },
            "type": "scatter"
           }
          ],
          "scatter3d": [
           {
            "line": {
             "colorbar": {
              "outlinewidth": 0,
              "ticks": ""
             }
            },
            "marker": {
             "colorbar": {
              "outlinewidth": 0,
              "ticks": ""
             }
            },
            "type": "scatter3d"
           }
          ],
          "scattercarpet": [
           {
            "marker": {
             "colorbar": {
              "outlinewidth": 0,
              "ticks": ""
             }
            },
            "type": "scattercarpet"
           }
          ],
          "scattergeo": [
           {
            "marker": {
             "colorbar": {
              "outlinewidth": 0,
              "ticks": ""
             }
            },
            "type": "scattergeo"
           }
          ],
          "scattergl": [
           {
            "marker": {
             "colorbar": {
              "outlinewidth": 0,
              "ticks": ""
             }
            },
            "type": "scattergl"
           }
          ],
          "scattermapbox": [
           {
            "marker": {
             "colorbar": {
              "outlinewidth": 0,
              "ticks": ""
             }
            },
            "type": "scattermapbox"
           }
          ],
          "scatterpolar": [
           {
            "marker": {
             "colorbar": {
              "outlinewidth": 0,
              "ticks": ""
             }
            },
            "type": "scatterpolar"
           }
          ],
          "scatterpolargl": [
           {
            "marker": {
             "colorbar": {
              "outlinewidth": 0,
              "ticks": ""
             }
            },
            "type": "scatterpolargl"
           }
          ],
          "scatterternary": [
           {
            "marker": {
             "colorbar": {
              "outlinewidth": 0,
              "ticks": ""
             }
            },
            "type": "scatterternary"
           }
          ],
          "surface": [
           {
            "colorbar": {
             "outlinewidth": 0,
             "ticks": ""
            },
            "colorscale": [
             [
              0,
              "#0d0887"
             ],
             [
              0.1111111111111111,
              "#46039f"
             ],
             [
              0.2222222222222222,
              "#7201a8"
             ],
             [
              0.3333333333333333,
              "#9c179e"
             ],
             [
              0.4444444444444444,
              "#bd3786"
             ],
             [
              0.5555555555555556,
              "#d8576b"
             ],
             [
              0.6666666666666666,
              "#ed7953"
             ],
             [
              0.7777777777777778,
              "#fb9f3a"
             ],
             [
              0.8888888888888888,
              "#fdca26"
             ],
             [
              1,
              "#f0f921"
             ]
            ],
            "type": "surface"
           }
          ],
          "table": [
           {
            "cells": {
             "fill": {
              "color": "#EBF0F8"
             },
             "line": {
              "color": "white"
             }
            },
            "header": {
             "fill": {
              "color": "#C8D4E3"
             },
             "line": {
              "color": "white"
             }
            },
            "type": "table"
           }
          ]
         },
         "layout": {
          "annotationdefaults": {
           "arrowcolor": "#2a3f5f",
           "arrowhead": 0,
           "arrowwidth": 1
          },
          "autotypenumbers": "strict",
          "coloraxis": {
           "colorbar": {
            "outlinewidth": 0,
            "ticks": ""
           }
          },
          "colorscale": {
           "diverging": [
            [
             0,
             "#8e0152"
            ],
            [
             0.1,
             "#c51b7d"
            ],
            [
             0.2,
             "#de77ae"
            ],
            [
             0.3,
             "#f1b6da"
            ],
            [
             0.4,
             "#fde0ef"
            ],
            [
             0.5,
             "#f7f7f7"
            ],
            [
             0.6,
             "#e6f5d0"
            ],
            [
             0.7,
             "#b8e186"
            ],
            [
             0.8,
             "#7fbc41"
            ],
            [
             0.9,
             "#4d9221"
            ],
            [
             1,
             "#276419"
            ]
           ],
           "sequential": [
            [
             0,
             "#0d0887"
            ],
            [
             0.1111111111111111,
             "#46039f"
            ],
            [
             0.2222222222222222,
             "#7201a8"
            ],
            [
             0.3333333333333333,
             "#9c179e"
            ],
            [
             0.4444444444444444,
             "#bd3786"
            ],
            [
             0.5555555555555556,
             "#d8576b"
            ],
            [
             0.6666666666666666,
             "#ed7953"
            ],
            [
             0.7777777777777778,
             "#fb9f3a"
            ],
            [
             0.8888888888888888,
             "#fdca26"
            ],
            [
             1,
             "#f0f921"
            ]
           ],
           "sequentialminus": [
            [
             0,
             "#0d0887"
            ],
            [
             0.1111111111111111,
             "#46039f"
            ],
            [
             0.2222222222222222,
             "#7201a8"
            ],
            [
             0.3333333333333333,
             "#9c179e"
            ],
            [
             0.4444444444444444,
             "#bd3786"
            ],
            [
             0.5555555555555556,
             "#d8576b"
            ],
            [
             0.6666666666666666,
             "#ed7953"
            ],
            [
             0.7777777777777778,
             "#fb9f3a"
            ],
            [
             0.8888888888888888,
             "#fdca26"
            ],
            [
             1,
             "#f0f921"
            ]
           ]
          },
          "colorway": [
           "#636efa",
           "#EF553B",
           "#00cc96",
           "#ab63fa",
           "#FFA15A",
           "#19d3f3",
           "#FF6692",
           "#B6E880",
           "#FF97FF",
           "#FECB52"
          ],
          "font": {
           "color": "#2a3f5f"
          },
          "geo": {
           "bgcolor": "white",
           "lakecolor": "white",
           "landcolor": "white",
           "showlakes": true,
           "showland": true,
           "subunitcolor": "#C8D4E3"
          },
          "hoverlabel": {
           "align": "left"
          },
          "hovermode": "closest",
          "mapbox": {
           "style": "light"
          },
          "paper_bgcolor": "white",
          "plot_bgcolor": "white",
          "polar": {
           "angularaxis": {
            "gridcolor": "#EBF0F8",
            "linecolor": "#EBF0F8",
            "ticks": ""
           },
           "bgcolor": "white",
           "radialaxis": {
            "gridcolor": "#EBF0F8",
            "linecolor": "#EBF0F8",
            "ticks": ""
           }
          },
          "scene": {
           "xaxis": {
            "backgroundcolor": "white",
            "gridcolor": "#DFE8F3",
            "gridwidth": 2,
            "linecolor": "#EBF0F8",
            "showbackground": true,
            "ticks": "",
            "zerolinecolor": "#EBF0F8"
           },
           "yaxis": {
            "backgroundcolor": "white",
            "gridcolor": "#DFE8F3",
            "gridwidth": 2,
            "linecolor": "#EBF0F8",
            "showbackground": true,
            "ticks": "",
            "zerolinecolor": "#EBF0F8"
           },
           "zaxis": {
            "backgroundcolor": "white",
            "gridcolor": "#DFE8F3",
            "gridwidth": 2,
            "linecolor": "#EBF0F8",
            "showbackground": true,
            "ticks": "",
            "zerolinecolor": "#EBF0F8"
           }
          },
          "shapedefaults": {
           "line": {
            "color": "#2a3f5f"
           }
          },
          "ternary": {
           "aaxis": {
            "gridcolor": "#DFE8F3",
            "linecolor": "#A2B1C6",
            "ticks": ""
           },
           "baxis": {
            "gridcolor": "#DFE8F3",
            "linecolor": "#A2B1C6",
            "ticks": ""
           },
           "bgcolor": "white",
           "caxis": {
            "gridcolor": "#DFE8F3",
            "linecolor": "#A2B1C6",
            "ticks": ""
           }
          },
          "title": {
           "x": 0.05
          },
          "xaxis": {
           "automargin": true,
           "gridcolor": "#EBF0F8",
           "linecolor": "#EBF0F8",
           "ticks": "",
           "title": {
            "standoff": 15
           },
           "zerolinecolor": "#EBF0F8",
           "zerolinewidth": 2
          },
          "yaxis": {
           "automargin": true,
           "gridcolor": "#EBF0F8",
           "linecolor": "#EBF0F8",
           "ticks": "",
           "title": {
            "standoff": 15
           },
           "zerolinecolor": "#EBF0F8",
           "zerolinewidth": 2
          }
         }
        },
        "title": {
         "text": "<b>Bus 4707 : ETA Time Series</b> - Line: 132"
        },
        "yaxis": {
         "nticks": 10,
         "title": {
          "text": "ETA in Seconds"
         },
         "zerolinecolor": "darkgrey"
        }
       }
      },
      "text/html": [
       "<div>                            <div id=\"1b45cfc5-9619-4081-9ba5-8cab919770e6\" class=\"plotly-graph-div\" style=\"height:525px; width:100%;\"></div>            <script type=\"text/javascript\">                require([\"plotly\"], function(Plotly) {                    window.PLOTLYENV=window.PLOTLYENV || {};                                    if (document.getElementById(\"1b45cfc5-9619-4081-9ba5-8cab919770e6\")) {                    Plotly.newPlot(                        \"1b45cfc5-9619-4081-9ba5-8cab919770e6\",                        [{\"hoverinfo\": \"text\", \"line\": {\"color\": \"#ff7f0e\", \"width\": 3}, \"mode\": \"lines+markers\", \"name\": \"[21] 1648\", \"text\": [\"<b>Bus : 4707</b> <br>Stop[21]: 1648<br>Time : 12:15:56<br>ETA : 2\"], \"type\": \"scatter\", \"x\": [\"2021-02-15T12:15:56.735648\"], \"y\": [2]}, {\"hoverinfo\": \"text\", \"line\": {\"color\": \"#17becf\", \"width\": 3}, \"mode\": \"lines+markers\", \"name\": \"[22] 1646\", \"text\": [\"<b>Bus : 4707</b> <br>Stop[22]: 1646<br>Time : 12:15:56<br>ETA : 52\"], \"type\": \"scatter\", \"x\": [\"2021-02-15T12:15:56.114607\"], \"y\": [52]}, {\"hoverinfo\": \"text\", \"line\": {\"color\": \"#7f7f7f\", \"width\": 3}, \"mode\": \"lines+markers\", \"name\": \"[23] 1644\", \"text\": [\"<b>Bus : 4707</b> <br>Stop[23]: 1644<br>Time : 12:15:58<br>ETA : 118\", \"<b>Bus : 4707</b> <br>Stop[23]: 1644<br>Time : 12:16:47<br>ETA : 59\", \"<b>Bus : 4707</b> <br>Stop[23]: 1644<br>Time : 12:17:37<br>ETA : 8\"], \"type\": \"scatter\", \"x\": [\"2021-02-15T12:15:58.063297\", \"2021-02-15T12:16:47.819223\", \"2021-02-15T12:17:37.844174\"], \"y\": [118, 59, 8]}, {\"hoverinfo\": \"text\", \"line\": {\"color\": \"#d62728\", \"width\": 3}, \"mode\": \"lines+markers\", \"name\": \"[24] 1578\", \"text\": [\"<b>Bus : 4707</b> <br>Stop[24]: 1578<br>Time : 12:15:57<br>ETA : 227\", \"<b>Bus : 4707</b> <br>Stop[24]: 1578<br>Time : 12:16:47<br>ETA : 177\", \"<b>Bus : 4707</b> <br>Stop[24]: 1578<br>Time : 12:17:37<br>ETA : 113\", \"<b>Bus : 4707</b> <br>Stop[24]: 1578<br>Time : 12:18:27<br>ETA : 20\"], \"type\": \"scatter\", \"x\": [\"2021-02-15T12:15:57.436022\", \"2021-02-15T12:16:47.323347\", \"2021-02-15T12:17:37.317011\", \"2021-02-15T12:18:27.556085\"], \"y\": [227, 177, 113, 20]}, {\"hoverinfo\": \"text\", \"line\": {\"color\": \"#ff7f0e\", \"width\": 3}, \"mode\": \"lines+markers\", \"name\": \"[25] 1675\", \"text\": [\"<b>Bus : 4707</b> <br>Stop[25]: 1675<br>Time : 12:15:57<br>ETA : 250\", \"<b>Bus : 4707</b> <br>Stop[25]: 1675<br>Time : 12:16:47<br>ETA : 200\", \"<b>Bus : 4707</b> <br>Stop[25]: 1675<br>Time : 12:17:37<br>ETA : 170\", \"<b>Bus : 4707</b> <br>Stop[25]: 1675<br>Time : 12:18:27<br>ETA : 76\", \"<b>Bus : 4707</b> <br>Stop[25]: 1675<br>Time : 12:19:18<br>ETA : 52\", \"<b>Bus : 4707</b> <br>Stop[25]: 1675<br>Time : 12:20:07<br>ETA : 29\", \"<b>Bus : 4707</b> <br>Stop[25]: 1675<br>Time : 12:20:57<br>ETA : 24\", \"<b>Bus : 4707</b> <br>Stop[25]: 1675<br>Time : 12:21:47<br>ETA : 20\"], \"type\": \"scatter\", \"x\": [\"2021-02-15T12:15:57.941938\", \"2021-02-15T12:16:47.333625\", \"2021-02-15T12:17:37.435572\", \"2021-02-15T12:18:27.675230\", \"2021-02-15T12:19:18.037544\", \"2021-02-15T12:20:07.454156\", \"2021-02-15T12:20:57.325830\", \"2021-02-15T12:21:47.405008\"], \"y\": [250, 200, 170, 76, 52, 29, 24, 20]}, {\"hoverinfo\": \"text\", \"line\": {\"color\": \"#ff7f0e\", \"width\": 3}, \"mode\": \"lines+markers\", \"name\": \"[26] 3286\", \"text\": [\"<b>Bus : 4707</b> <br>Stop[26]: 3286<br>Time : 12:15:57<br>ETA : 331\", \"<b>Bus : 4707</b> <br>Stop[26]: 3286<br>Time : 12:16:47<br>ETA : 281\", \"<b>Bus : 4707</b> <br>Stop[26]: 3286<br>Time : 12:17:37<br>ETA : 247\", \"<b>Bus : 4707</b> <br>Stop[26]: 3286<br>Time : 12:18:27<br>ETA : 151\", \"<b>Bus : 4707</b> <br>Stop[26]: 3286<br>Time : 12:19:18<br>ETA : 128\", \"<b>Bus : 4707</b> <br>Stop[26]: 3286<br>Time : 12:20:07<br>ETA : 105\", \"<b>Bus : 4707</b> <br>Stop[26]: 3286<br>Time : 12:20:57<br>ETA : 103\", \"<b>Bus : 4707</b> <br>Stop[26]: 3286<br>Time : 12:21:47<br>ETA : 101\", \"<b>Bus : 4707</b> <br>Stop[26]: 3286<br>Time : 12:22:38<br>ETA : 37\"], \"type\": \"scatter\", \"x\": [\"2021-02-15T12:15:57.947228\", \"2021-02-15T12:16:47.798728\", \"2021-02-15T12:17:37.841130\", \"2021-02-15T12:18:27.909858\", \"2021-02-15T12:19:18.049399\", \"2021-02-15T12:20:07.675483\", \"2021-02-15T12:20:57.648781\", \"2021-02-15T12:21:47.509000\", \"2021-02-15T12:22:38.148909\"], \"y\": [331, 281, 247, 151, 128, 105, 103, 101, 37]}, {\"hoverinfo\": \"text\", \"line\": {\"color\": \"#17becf\", \"width\": 3}, \"mode\": \"lines+markers\", \"name\": \"[27] 3284\", \"text\": [\"<b>Bus : 4707</b> <br>Stop[27]: 3284<br>Time : 12:15:57<br>ETA : 404\", \"<b>Bus : 4707</b> <br>Stop[27]: 3284<br>Time : 12:16:47<br>ETA : 354\", \"<b>Bus : 4707</b> <br>Stop[27]: 3284<br>Time : 12:17:37<br>ETA : 289\", \"<b>Bus : 4707</b> <br>Stop[27]: 3284<br>Time : 12:18:27<br>ETA : 223\", \"<b>Bus : 4707</b> <br>Stop[27]: 3284<br>Time : 12:19:17<br>ETA : 172\", \"<b>Bus : 4707</b> <br>Stop[27]: 3284<br>Time : 12:20:07<br>ETA : 148\", \"<b>Bus : 4707</b> <br>Stop[27]: 3284<br>Time : 12:20:57<br>ETA : 146\", \"<b>Bus : 4707</b> <br>Stop[27]: 3284<br>Time : 12:21:47<br>ETA : 146\", \"<b>Bus : 4707</b> <br>Stop[27]: 3284<br>Time : 12:22:37<br>ETA : 83\", \"<b>Bus : 4707</b> <br>Stop[27]: 3284<br>Time : 12:23:27<br>ETA : 6\"], \"type\": \"scatter\", \"x\": [\"2021-02-15T12:15:57.440088\", \"2021-02-15T12:16:47.330969\", \"2021-02-15T12:17:37.304894\", \"2021-02-15T12:18:27.308816\", \"2021-02-15T12:19:17.546693\", \"2021-02-15T12:20:07.285461\", \"2021-02-15T12:20:57.325796\", \"2021-02-15T12:21:47.363904\", \"2021-02-15T12:22:37.611739\", \"2021-02-15T12:23:27.285237\"], \"y\": [404, 354, 289, 223, 172, 148, 146, 146, 83, 6]}, {\"hoverinfo\": \"text\", \"line\": {\"color\": \"#7f7f7f\", \"width\": 3}, \"mode\": \"lines+markers\", \"name\": \"[28] 3282\", \"text\": [\"<b>Bus : 4707</b> <br>Stop[28]: 3282<br>Time : 12:15:55<br>ETA : 433\", \"<b>Bus : 4707</b> <br>Stop[28]: 3282<br>Time : 12:16:45<br>ETA : 383\", \"<b>Bus : 4707</b> <br>Stop[28]: 3282<br>Time : 12:17:35<br>ETA : 333\", \"<b>Bus : 4707</b> <br>Stop[28]: 3282<br>Time : 12:18:25<br>ETA : 266\", \"<b>Bus : 4707</b> <br>Stop[28]: 3282<br>Time : 12:19:15<br>ETA : 216\", \"<b>Bus : 4707</b> <br>Stop[28]: 3282<br>Time : 12:20:05<br>ETA : 191\", \"<b>Bus : 4707</b> <br>Stop[28]: 3282<br>Time : 12:20:55<br>ETA : 191\", \"<b>Bus : 4707</b> <br>Stop[28]: 3282<br>Time : 12:21:45<br>ETA : 192\", \"<b>Bus : 4707</b> <br>Stop[28]: 3282<br>Time : 12:22:35<br>ETA : 142\", \"<b>Bus : 4707</b> <br>Stop[28]: 3282<br>Time : 12:23:25<br>ETA : 53\", \"<b>Bus : 4707</b> <br>Stop[28]: 3282<br>Time : 12:24:15<br>ETA : 12\"], \"type\": \"scatter\", \"x\": [\"2021-02-15T12:15:55.585463\", \"2021-02-15T12:16:45.596058\", \"2021-02-15T12:17:35.570615\", \"2021-02-15T12:18:25.629695\", \"2021-02-15T12:19:15.623222\", \"2021-02-15T12:20:05.655875\", \"2021-02-15T12:20:55.580270\", \"2021-02-15T12:21:45.698466\", \"2021-02-15T12:22:35.623703\", \"2021-02-15T12:23:25.585815\", \"2021-02-15T12:24:15.647337\"], \"y\": [433, 383, 333, 266, 216, 191, 191, 192, 142, 53, 12]}, {\"hoverinfo\": \"text\", \"line\": {\"color\": \"#8c564b\", \"width\": 3}, \"mode\": \"lines+markers\", \"name\": \"[29] 3280\", \"text\": [\"<b>Bus : 4707</b> <br>Stop[29]: 3280<br>Time : 12:15:56<br>ETA : 491\", \"<b>Bus : 4707</b> <br>Stop[29]: 3280<br>Time : 12:16:46<br>ETA : 425\", \"<b>Bus : 4707</b> <br>Stop[29]: 3280<br>Time : 12:17:36<br>ETA : 375\", \"<b>Bus : 4707</b> <br>Stop[29]: 3280<br>Time : 12:18:26<br>ETA : 302\", \"<b>Bus : 4707</b> <br>Stop[29]: 3280<br>Time : 12:19:16<br>ETA : 252\", \"<b>Bus : 4707</b> <br>Stop[29]: 3280<br>Time : 12:20:06<br>ETA : 227\", \"<b>Bus : 4707</b> <br>Stop[29]: 3280<br>Time : 12:20:56<br>ETA : 228\", \"<b>Bus : 4707</b> <br>Stop[29]: 3280<br>Time : 12:21:46<br>ETA : 210\", \"<b>Bus : 4707</b> <br>Stop[29]: 3280<br>Time : 12:22:37<br>ETA : 188\", \"<b>Bus : 4707</b> <br>Stop[29]: 3280<br>Time : 12:23:26<br>ETA : 92\", \"<b>Bus : 4707</b> <br>Stop[29]: 3280<br>Time : 12:24:16<br>ETA : 50\", \"<b>Bus : 4707</b> <br>Stop[29]: 3280<br>Time : 12:25:06<br>ETA : 1\"], \"type\": \"scatter\", \"x\": [\"2021-02-15T12:15:56.719617\", \"2021-02-15T12:16:46.776724\", \"2021-02-15T12:17:36.781245\", \"2021-02-15T12:18:26.673405\", \"2021-02-15T12:19:16.818409\", \"2021-02-15T12:20:06.710720\", \"2021-02-15T12:20:56.694832\", \"2021-02-15T12:21:46.613941\", \"2021-02-15T12:22:37.063452\", \"2021-02-15T12:23:26.729607\", \"2021-02-15T12:24:16.659622\", \"2021-02-15T12:25:06.841887\"], \"y\": [491, 425, 375, 302, 252, 227, 228, 210, 188, 92, 50, 1]}, {\"hoverinfo\": \"text\", \"line\": {\"color\": \"#bcbd22\", \"width\": 3}, \"mode\": \"lines+markers\", \"name\": \"[30] 3292\", \"text\": [\"<b>Bus : 4707</b> <br>Stop[30]: 3292<br>Time : 12:15:57<br>ETA : 540\", \"<b>Bus : 4707</b> <br>Stop[30]: 3292<br>Time : 12:16:47<br>ETA : 466\", \"<b>Bus : 4707</b> <br>Stop[30]: 3292<br>Time : 12:17:37<br>ETA : 415\", \"<b>Bus : 4707</b> <br>Stop[30]: 3292<br>Time : 12:18:27<br>ETA : 315\", \"<b>Bus : 4707</b> <br>Stop[30]: 3292<br>Time : 12:19:18<br>ETA : 265\", \"<b>Bus : 4707</b> <br>Stop[30]: 3292<br>Time : 12:20:07<br>ETA : 269\", \"<b>Bus : 4707</b> <br>Stop[30]: 3292<br>Time : 12:20:57<br>ETA : 271\", \"<b>Bus : 4707</b> <br>Stop[30]: 3292<br>Time : 12:21:47<br>ETA : 254\", \"<b>Bus : 4707</b> <br>Stop[30]: 3292<br>Time : 12:22:38<br>ETA : 234\", \"<b>Bus : 4707</b> <br>Stop[30]: 3292<br>Time : 12:23:27<br>ETA : 138\", \"<b>Bus : 4707</b> <br>Stop[30]: 3292<br>Time : 12:24:17<br>ETA : 95\", \"<b>Bus : 4707</b> <br>Stop[30]: 3292<br>Time : 12:25:07<br>ETA : 44\"], \"type\": \"scatter\", \"x\": [\"2021-02-15T12:15:57.942569\", \"2021-02-15T12:16:47.483594\", \"2021-02-15T12:17:37.770638\", \"2021-02-15T12:18:27.680850\", \"2021-02-15T12:19:18.030137\", \"2021-02-15T12:20:07.650160\", \"2021-02-15T12:20:57.448550\", \"2021-02-15T12:21:47.432838\", \"2021-02-15T12:22:38.139290\", \"2021-02-15T12:23:27.811893\", \"2021-02-15T12:24:17.422724\", \"2021-02-15T12:25:07.669919\"], \"y\": [540, 466, 415, 315, 265, 269, 271, 254, 234, 138, 95, 44]}, {\"hoverinfo\": \"text\", \"line\": {\"color\": \"#bcbd22\", \"width\": 3}, \"mode\": \"lines+markers\", \"name\": \"[31] 3274\", \"text\": [\"<b>Bus : 4707</b> <br>Stop[31]: 3274<br>Time : 12:15:56<br>ETA : 583\", \"<b>Bus : 4707</b> <br>Stop[31]: 3274<br>Time : 12:16:46<br>ETA : 533\", \"<b>Bus : 4707</b> <br>Stop[31]: 3274<br>Time : 12:17:36<br>ETA : 449\", \"<b>Bus : 4707</b> <br>Stop[31]: 3274<br>Time : 12:18:26<br>ETA : 353\", \"<b>Bus : 4707</b> <br>Stop[31]: 3274<br>Time : 12:19:16<br>ETA : 303\", \"<b>Bus : 4707</b> <br>Stop[31]: 3274<br>Time : 12:20:06<br>ETA : 307\", \"<b>Bus : 4707</b> <br>Stop[31]: 3274<br>Time : 12:20:56<br>ETA : 309\", \"<b>Bus : 4707</b> <br>Stop[31]: 3274<br>Time : 12:21:46<br>ETA : 315\", \"<b>Bus : 4707</b> <br>Stop[31]: 3274<br>Time : 12:22:36<br>ETA : 265\", \"<b>Bus : 4707</b> <br>Stop[31]: 3274<br>Time : 12:23:26<br>ETA : 179\", \"<b>Bus : 4707</b> <br>Stop[31]: 3274<br>Time : 12:24:16<br>ETA : 134\", \"<b>Bus : 4707</b> <br>Stop[31]: 3274<br>Time : 12:25:06<br>ETA : 84\", \"<b>Bus : 4707</b> <br>Stop[31]: 3274<br>Time : 12:25:56<br>ETA : 34\"], \"type\": \"scatter\", \"x\": [\"2021-02-15T12:15:56.171383\", \"2021-02-15T12:16:46.270223\", \"2021-02-15T12:17:36.317166\", \"2021-02-15T12:18:26.229093\", \"2021-02-15T12:19:16.272849\", \"2021-02-15T12:20:06.233240\", \"2021-02-15T12:20:56.187866\", \"2021-02-15T12:21:46.279574\", \"2021-02-15T12:22:36.495939\", \"2021-02-15T12:23:26.212926\", \"2021-02-15T12:24:16.301684\", \"2021-02-15T12:25:06.309688\", \"2021-02-15T12:25:56.366497\"], \"y\": [583, 533, 449, 353, 303, 307, 309, 315, 265, 179, 134, 84, 34]}, {\"hoverinfo\": \"text\", \"line\": {\"color\": \"#1f77b4\", \"width\": 3}, \"mode\": \"lines+markers\", \"name\": \"[32] 1692\", \"text\": [\"<b>Bus : 4707</b> <br>Stop[32]: 1692<br>Time : 12:15:56<br>ETA : 700\", \"<b>Bus : 4707</b> <br>Stop[32]: 1692<br>Time : 12:16:46<br>ETA : 649\", \"<b>Bus : 4707</b> <br>Stop[32]: 1692<br>Time : 12:17:36<br>ETA : 600\", \"<b>Bus : 4707</b> <br>Stop[32]: 1692<br>Time : 12:18:26<br>ETA : 440\", \"<b>Bus : 4707</b> <br>Stop[32]: 1692<br>Time : 12:19:16<br>ETA : 389\", \"<b>Bus : 4707</b> <br>Stop[32]: 1692<br>Time : 12:20:06<br>ETA : 393\", \"<b>Bus : 4707</b> <br>Stop[32]: 1692<br>Time : 12:20:56<br>ETA : 399\", \"<b>Bus : 4707</b> <br>Stop[32]: 1692<br>Time : 12:21:46<br>ETA : 408\", \"<b>Bus : 4707</b> <br>Stop[32]: 1692<br>Time : 12:22:40<br>ETA : 354\", \"<b>Bus : 4707</b> <br>Stop[32]: 1692<br>Time : 12:23:26<br>ETA : 308\", \"<b>Bus : 4707</b> <br>Stop[32]: 1692<br>Time : 12:24:16<br>ETA : 258\", \"<b>Bus : 4707</b> <br>Stop[32]: 1692<br>Time : 12:25:06<br>ETA : 176\", \"<b>Bus : 4707</b> <br>Stop[32]: 1692<br>Time : 12:25:56<br>ETA : 132\", \"<b>Bus : 4707</b> <br>Stop[32]: 1692<br>Time : 12:26:46<br>ETA : 68\", \"<b>Bus : 4707</b> <br>Stop[32]: 1692<br>Time : 12:27:36<br>ETA : 18\"], \"type\": \"scatter\", \"x\": [\"2021-02-15T12:15:56.498830\", \"2021-02-15T12:16:46.746256\", \"2021-02-15T12:17:36.549486\", \"2021-02-15T12:18:26.678677\", \"2021-02-15T12:19:16.783695\", \"2021-02-15T12:20:06.633302\", \"2021-02-15T12:20:56.308149\", \"2021-02-15T12:21:46.441443\", \"2021-02-15T12:22:40.170281\", \"2021-02-15T12:23:26.506273\", \"2021-02-15T12:24:16.512011\", \"2021-02-15T12:25:06.582016\", \"2021-02-15T12:25:56.652960\", \"2021-02-15T12:26:46.753492\", \"2021-02-15T12:27:36.390574\"], \"y\": [700, 649, 600, 440, 389, 393, 399, 408, 354, 308, 258, 176, 132, 68, 18]}, {\"hoverinfo\": \"text\", \"line\": {\"color\": \"#bcbd22\", \"width\": 3}, \"mode\": \"lines+markers\", \"name\": \"[33] 1690\", \"text\": [\"<b>Bus : 4707</b> <br>Stop[33]: 1690<br>Time : 12:15:56<br>ETA : 741\", \"<b>Bus : 4707</b> <br>Stop[33]: 1690<br>Time : 12:16:46<br>ETA : 691\", \"<b>Bus : 4707</b> <br>Stop[33]: 1690<br>Time : 12:17:36<br>ETA : 641\", \"<b>Bus : 4707</b> <br>Stop[33]: 1690<br>Time : 12:18:26<br>ETA : 519\", \"<b>Bus : 4707</b> <br>Stop[33]: 1690<br>Time : 12:19:16<br>ETA : 469\", \"<b>Bus : 4707</b> <br>Stop[33]: 1690<br>Time : 12:20:06<br>ETA : 442\", \"<b>Bus : 4707</b> <br>Stop[33]: 1690<br>Time : 12:20:56<br>ETA : 449\", \"<b>Bus : 4707</b> <br>Stop[33]: 1690<br>Time : 12:21:46<br>ETA : 459\", \"<b>Bus : 4707</b> <br>Stop[33]: 1690<br>Time : 12:22:36<br>ETA : 409\", \"<b>Bus : 4707</b> <br>Stop[33]: 1690<br>Time : 12:23:26<br>ETA : 359\", \"<b>Bus : 4707</b> <br>Stop[33]: 1690<br>Time : 12:24:19<br>ETA : 306\", \"<b>Bus : 4707</b> <br>Stop[33]: 1690<br>Time : 12:25:06<br>ETA : 231\", \"<b>Bus : 4707</b> <br>Stop[33]: 1690<br>Time : 12:25:56<br>ETA : 180\", \"<b>Bus : 4707</b> <br>Stop[33]: 1690<br>Time : 12:26:46<br>ETA : 125\", \"<b>Bus : 4707</b> <br>Stop[33]: 1690<br>Time : 12:27:36<br>ETA : 75\", \"<b>Bus : 4707</b> <br>Stop[33]: 1690<br>Time : 12:28:26<br>ETA : 16\", \"<b>Bus : 4707</b> <br>Stop[33]: 1690<br>Time : 12:29:16<br>ETA : 6\"], \"type\": \"scatter\", \"x\": [\"2021-02-15T12:15:56.170809\", \"2021-02-15T12:16:46.279905\", \"2021-02-15T12:17:36.226303\", \"2021-02-15T12:18:26.224784\", \"2021-02-15T12:19:16.262262\", \"2021-02-15T12:20:06.233127\", \"2021-02-15T12:20:56.168608\", \"2021-02-15T12:21:46.257737\", \"2021-02-15T12:22:36.480642\", \"2021-02-15T12:23:26.194396\", \"2021-02-15T12:24:19.377665\", \"2021-02-15T12:25:06.336080\", \"2021-02-15T12:25:56.354050\", \"2021-02-15T12:26:46.328265\", \"2021-02-15T12:27:36.097340\", \"2021-02-15T12:28:26.325639\", \"2021-02-15T12:29:16.169935\"], \"y\": [741, 691, 641, 519, 469, 442, 449, 459, 409, 359, 306, 231, 180, 125, 75, 16, 6]}, {\"hoverinfo\": \"text\", \"line\": {\"color\": \"#8c564b\", \"width\": 3}, \"mode\": \"lines+markers\", \"name\": \"[34] 1688\", \"text\": [\"<b>Bus : 4707</b> <br>Stop[34]: 1688<br>Time : 12:15:56<br>ETA : 825\", \"<b>Bus : 4707</b> <br>Stop[34]: 1688<br>Time : 12:16:46<br>ETA : 775\", \"<b>Bus : 4707</b> <br>Stop[34]: 1688<br>Time : 12:17:36<br>ETA : 725\", \"<b>Bus : 4707</b> <br>Stop[34]: 1688<br>Time : 12:18:26<br>ETA : 601\", \"<b>Bus : 4707</b> <br>Stop[34]: 1688<br>Time : 12:19:16<br>ETA : 551\", \"<b>Bus : 4707</b> <br>Stop[34]: 1688<br>Time : 12:20:06<br>ETA : 501\", \"<b>Bus : 4707</b> <br>Stop[34]: 1688<br>Time : 12:20:56<br>ETA : 507\", \"<b>Bus : 4707</b> <br>Stop[34]: 1688<br>Time : 12:21:46<br>ETA : 519\", \"<b>Bus : 4707</b> <br>Stop[34]: 1688<br>Time : 12:22:37<br>ETA : 468\", \"<b>Bus : 4707</b> <br>Stop[34]: 1688<br>Time : 12:23:26<br>ETA : 419\", \"<b>Bus : 4707</b> <br>Stop[34]: 1688<br>Time : 12:24:16<br>ETA : 369\", \"<b>Bus : 4707</b> <br>Stop[34]: 1688<br>Time : 12:25:06<br>ETA : 288\", \"<b>Bus : 4707</b> <br>Stop[34]: 1688<br>Time : 12:25:56<br>ETA : 238\", \"<b>Bus : 4707</b> <br>Stop[34]: 1688<br>Time : 12:26:46<br>ETA : 182\", \"<b>Bus : 4707</b> <br>Stop[34]: 1688<br>Time : 12:27:36<br>ETA : 132\", \"<b>Bus : 4707</b> <br>Stop[34]: 1688<br>Time : 12:28:26<br>ETA : 72\"], \"type\": \"scatter\", \"x\": [\"2021-02-15T12:15:56.636058\", \"2021-02-15T12:16:46.733052\", \"2021-02-15T12:17:36.510753\", \"2021-02-15T12:18:26.629592\", \"2021-02-15T12:19:16.773474\", \"2021-02-15T12:20:06.575431\", \"2021-02-15T12:20:56.309024\", \"2021-02-15T12:21:46.425583\", \"2021-02-15T12:22:37.003857\", \"2021-02-15T12:23:26.483601\", \"2021-02-15T12:24:16.489065\", \"2021-02-15T12:25:06.583835\", \"2021-02-15T12:25:56.618249\", \"2021-02-15T12:26:46.665940\", \"2021-02-15T12:27:36.382811\", \"2021-02-15T12:28:26.665698\"], \"y\": [825, 775, 725, 601, 551, 501, 507, 519, 468, 419, 369, 288, 238, 182, 132, 72]}, {\"hoverinfo\": \"text\", \"line\": {\"color\": \"#2ca02c\", \"width\": 3}, \"mode\": \"lines+markers\", \"name\": \"[35] 1685\", \"text\": [\"<b>Bus : 4707</b> <br>Stop[35]: 1685<br>Time : 12:16:47<br>ETA : 834\", \"<b>Bus : 4707</b> <br>Stop[35]: 1685<br>Time : 12:17:37<br>ETA : 784\", \"<b>Bus : 4707</b> <br>Stop[35]: 1685<br>Time : 12:18:27<br>ETA : 636\", \"<b>Bus : 4707</b> <br>Stop[35]: 1685<br>Time : 12:19:17<br>ETA : 586\", \"<b>Bus : 4707</b> <br>Stop[35]: 1685<br>Time : 12:20:07<br>ETA : 590\", \"<b>Bus : 4707</b> <br>Stop[35]: 1685<br>Time : 12:20:57<br>ETA : 578\", \"<b>Bus : 4707</b> <br>Stop[35]: 1685<br>Time : 12:21:47<br>ETA : 565\", \"<b>Bus : 4707</b> <br>Stop[35]: 1685<br>Time : 12:22:38<br>ETA : 515\", \"<b>Bus : 4707</b> <br>Stop[35]: 1685<br>Time : 12:23:27<br>ETA : 465\", \"<b>Bus : 4707</b> <br>Stop[35]: 1685<br>Time : 12:24:17<br>ETA : 415\", \"<b>Bus : 4707</b> <br>Stop[35]: 1685<br>Time : 12:25:07<br>ETA : 365\", \"<b>Bus : 4707</b> <br>Stop[35]: 1685<br>Time : 12:25:57<br>ETA : 310\", \"<b>Bus : 4707</b> <br>Stop[35]: 1685<br>Time : 12:26:47<br>ETA : 242\", \"<b>Bus : 4707</b> <br>Stop[35]: 1685<br>Time : 12:27:37<br>ETA : 192\", \"<b>Bus : 4707</b> <br>Stop[35]: 1685<br>Time : 12:28:27<br>ETA : 141\", \"<b>Bus : 4707</b> <br>Stop[35]: 1685<br>Time : 12:29:17<br>ETA : 131\"], \"type\": \"scatter\", \"x\": [\"2021-02-15T12:16:47.455958\", \"2021-02-15T12:17:37.750199\", \"2021-02-15T12:18:27.685224\", \"2021-02-15T12:19:17.986079\", \"2021-02-15T12:20:07.674768\", \"2021-02-15T12:20:57.307847\", \"2021-02-15T12:21:47.398903\", \"2021-02-15T12:22:38.138558\", \"2021-02-15T12:23:27.569004\", \"2021-02-15T12:24:17.396368\", \"2021-02-15T12:25:07.656058\", \"2021-02-15T12:25:57.726835\", \"2021-02-15T12:26:47.816291\", \"2021-02-15T12:27:37.482616\", \"2021-02-15T12:28:27.407696\", \"2021-02-15T12:29:17.668781\"], \"y\": [834, 784, 636, 586, 590, 578, 565, 515, 465, 415, 365, 310, 242, 192, 141, 131]}, {\"hoverinfo\": \"text\", \"line\": {\"color\": \"#1f77b4\", \"width\": 3}, \"mode\": \"lines+markers\", \"name\": \"[36] 1331\", \"text\": [\"<b>Bus : 4707</b> <br>Stop[36]: 1331<br>Time : 12:16:46<br>ETA : 892\", \"<b>Bus : 4707</b> <br>Stop[36]: 1331<br>Time : 12:17:36<br>ETA : 842\", \"<b>Bus : 4707</b> <br>Stop[36]: 1331<br>Time : 12:18:26<br>ETA : 704\", \"<b>Bus : 4707</b> <br>Stop[36]: 1331<br>Time : 12:19:16<br>ETA : 654\", \"<b>Bus : 4707</b> <br>Stop[36]: 1331<br>Time : 12:20:06<br>ETA : 604\", \"<b>Bus : 4707</b> <br>Stop[36]: 1331<br>Time : 12:20:56<br>ETA : 605\", \"<b>Bus : 4707</b> <br>Stop[36]: 1331<br>Time : 12:21:46<br>ETA : 650\", \"<b>Bus : 4707</b> <br>Stop[36]: 1331<br>Time : 12:22:36<br>ETA : 600\", \"<b>Bus : 4707</b> <br>Stop[36]: 1331<br>Time : 12:23:26<br>ETA : 550\", \"<b>Bus : 4707</b> <br>Stop[36]: 1331<br>Time : 12:24:16<br>ETA : 500\", \"<b>Bus : 4707</b> <br>Stop[36]: 1331<br>Time : 12:25:06<br>ETA : 450\", \"<b>Bus : 4707</b> <br>Stop[36]: 1331<br>Time : 12:25:56<br>ETA : 366\", \"<b>Bus : 4707</b> <br>Stop[36]: 1331<br>Time : 12:26:46<br>ETA : 316\", \"<b>Bus : 4707</b> <br>Stop[36]: 1331<br>Time : 12:27:36<br>ETA : 266\", \"<b>Bus : 4707</b> <br>Stop[36]: 1331<br>Time : 12:28:26<br>ETA : 216\", \"<b>Bus : 4707</b> <br>Stop[36]: 1331<br>Time : 12:29:16<br>ETA : 185\"], \"type\": \"scatter\", \"x\": [\"2021-02-15T12:16:46.274293\", \"2021-02-15T12:17:36.341468\", \"2021-02-15T12:18:26.224565\", \"2021-02-15T12:19:16.274094\", \"2021-02-15T12:20:06.319124\", \"2021-02-15T12:20:56.193689\", \"2021-02-15T12:21:46.284683\", \"2021-02-15T12:22:36.478024\", \"2021-02-15T12:23:26.220960\", \"2021-02-15T12:24:16.319756\", \"2021-02-15T12:25:06.358415\", \"2021-02-15T12:25:56.368518\", \"2021-02-15T12:26:46.354303\", \"2021-02-15T12:27:36.246086\", \"2021-02-15T12:28:26.322062\", \"2021-02-15T12:29:16.295186\"], \"y\": [892, 842, 704, 654, 604, 605, 650, 600, 550, 500, 450, 366, 316, 266, 216, 185]}, {\"hoverinfo\": \"text\", \"line\": {\"color\": \"#e377c2\", \"width\": 3}, \"mode\": \"lines+markers\", \"name\": \"[37] 4514\", \"text\": [\"<b>Bus : 4707</b> <br>Stop[37]: 4514<br>Time : 12:22:35<br>ETA : 968\", \"<b>Bus : 4707</b> <br>Stop[37]: 4514<br>Time : 12:23:25<br>ETA : 918\", \"<b>Bus : 4707</b> <br>Stop[37]: 4514<br>Time : 12:24:15<br>ETA : 868\", \"<b>Bus : 4707</b> <br>Stop[37]: 4514<br>Time : 12:25:05<br>ETA : 777\", \"<b>Bus : 4707</b> <br>Stop[37]: 4514<br>Time : 12:25:55<br>ETA : 727\", \"<b>Bus : 4707</b> <br>Stop[37]: 4514<br>Time : 12:26:45<br>ETA : 620\", \"<b>Bus : 4707</b> <br>Stop[37]: 4514<br>Time : 12:27:35<br>ETA : 577\", \"<b>Bus : 4707</b> <br>Stop[37]: 4514<br>Time : 12:28:25<br>ETA : 527\", \"<b>Bus : 4707</b> <br>Stop[37]: 4514<br>Time : 12:29:15<br>ETA : 477\"], \"type\": \"scatter\", \"x\": [\"2021-02-15T12:22:35.659719\", \"2021-02-15T12:23:25.613530\", \"2021-02-15T12:24:15.693925\", \"2021-02-15T12:25:05.687315\", \"2021-02-15T12:25:55.699999\", \"2021-02-15T12:26:45.626385\", \"2021-02-15T12:27:35.620585\", \"2021-02-15T12:28:25.620282\", \"2021-02-15T12:29:15.712929\"], \"y\": [968, 918, 868, 777, 727, 620, 577, 527, 477]}, {\"hoverinfo\": \"text\", \"line\": {\"color\": \"#1f77b4\", \"width\": 3}, \"mode\": \"lines+markers\", \"name\": \"[38] 4022\", \"text\": [\"<b>Bus : 4707</b> <br>Stop[38]: 4022<br>Time : 12:24:15<br>ETA : 909\", \"<b>Bus : 4707</b> <br>Stop[38]: 4022<br>Time : 12:25:05<br>ETA : 859\", \"<b>Bus : 4707</b> <br>Stop[38]: 4022<br>Time : 12:25:55<br>ETA : 795\", \"<b>Bus : 4707</b> <br>Stop[38]: 4022<br>Time : 12:26:45<br>ETA : 745\", \"<b>Bus : 4707</b> <br>Stop[38]: 4022<br>Time : 12:28:25<br>ETA : 645\", \"<b>Bus : 4707</b> <br>Stop[38]: 4022<br>Time : 12:29:15<br>ETA : 595\"], \"type\": \"scatter\", \"x\": [\"2021-02-15T12:24:15.696154\", \"2021-02-15T12:25:05.680286\", \"2021-02-15T12:25:55.698840\", \"2021-02-15T12:26:45.640658\", \"2021-02-15T12:28:25.622854\", \"2021-02-15T12:29:15.711838\"], \"y\": [909, 859, 795, 745, 645, 595]}, {\"hoverinfo\": \"text\", \"line\": {\"color\": \"#e377c2\", \"width\": 3}, \"mode\": \"lines+markers\", \"name\": \"[39] 3047\", \"text\": [\"<b>Bus : 4707</b> <br>Stop[39]: 3047<br>Time : 12:24:15<br>ETA : 991\", \"<b>Bus : 4707</b> <br>Stop[39]: 3047<br>Time : 12:25:05<br>ETA : 941\", \"<b>Bus : 4707</b> <br>Stop[39]: 3047<br>Time : 12:25:55<br>ETA : 891\", \"<b>Bus : 4707</b> <br>Stop[39]: 3047<br>Time : 12:26:45<br>ETA : 815\", \"<b>Bus : 4707</b> <br>Stop[39]: 3047<br>Time : 12:27:35<br>ETA : 765\", \"<b>Bus : 4707</b> <br>Stop[39]: 3047<br>Time : 12:28:25<br>ETA : 715\", \"<b>Bus : 4707</b> <br>Stop[39]: 3047<br>Time : 12:29:15<br>ETA : 665\"], \"type\": \"scatter\", \"x\": [\"2021-02-15T12:24:15.676579\", \"2021-02-15T12:25:05.689276\", \"2021-02-15T12:25:55.692727\", \"2021-02-15T12:26:45.624594\", \"2021-02-15T12:27:35.604305\", \"2021-02-15T12:28:25.614397\", \"2021-02-15T12:29:15.713273\"], \"y\": [991, 941, 891, 815, 765, 715, 665]}],                        {\"hovermode\": \"closest\", \"legend\": {\"title\": {\"text\": \"<b>Destination Stop</b>\"}}, \"margin\": {\"b\": 0, \"l\": 0, \"r\": 0, \"t\": 40}, \"template\": {\"data\": {\"bar\": [{\"error_x\": {\"color\": \"#2a3f5f\"}, \"error_y\": {\"color\": \"#2a3f5f\"}, \"marker\": {\"line\": {\"color\": \"white\", \"width\": 0.5}}, \"type\": \"bar\"}], \"barpolar\": [{\"marker\": {\"line\": {\"color\": \"white\", \"width\": 0.5}}, \"type\": \"barpolar\"}], \"carpet\": [{\"aaxis\": {\"endlinecolor\": \"#2a3f5f\", \"gridcolor\": \"#C8D4E3\", \"linecolor\": \"#C8D4E3\", \"minorgridcolor\": \"#C8D4E3\", \"startlinecolor\": \"#2a3f5f\"}, \"baxis\": {\"endlinecolor\": \"#2a3f5f\", \"gridcolor\": \"#C8D4E3\", \"linecolor\": \"#C8D4E3\", \"minorgridcolor\": \"#C8D4E3\", \"startlinecolor\": \"#2a3f5f\"}, \"type\": \"carpet\"}], \"choropleth\": [{\"colorbar\": {\"outlinewidth\": 0, \"ticks\": \"\"}, \"type\": \"choropleth\"}], \"contour\": [{\"colorbar\": {\"outlinewidth\": 0, \"ticks\": \"\"}, \"colorscale\": [[0.0, \"#0d0887\"], [0.1111111111111111, \"#46039f\"], [0.2222222222222222, \"#7201a8\"], [0.3333333333333333, \"#9c179e\"], [0.4444444444444444, \"#bd3786\"], [0.5555555555555556, \"#d8576b\"], [0.6666666666666666, \"#ed7953\"], [0.7777777777777778, \"#fb9f3a\"], [0.8888888888888888, \"#fdca26\"], [1.0, \"#f0f921\"]], \"type\": \"contour\"}], \"contourcarpet\": [{\"colorbar\": {\"outlinewidth\": 0, \"ticks\": \"\"}, \"type\": \"contourcarpet\"}], \"heatmap\": [{\"colorbar\": {\"outlinewidth\": 0, \"ticks\": \"\"}, \"colorscale\": [[0.0, \"#0d0887\"], [0.1111111111111111, \"#46039f\"], [0.2222222222222222, \"#7201a8\"], [0.3333333333333333, \"#9c179e\"], [0.4444444444444444, \"#bd3786\"], [0.5555555555555556, \"#d8576b\"], [0.6666666666666666, \"#ed7953\"], [0.7777777777777778, \"#fb9f3a\"], [0.8888888888888888, \"#fdca26\"], [1.0, \"#f0f921\"]], \"type\": \"heatmap\"}], \"heatmapgl\": [{\"colorbar\": {\"outlinewidth\": 0, \"ticks\": \"\"}, \"colorscale\": [[0.0, \"#0d0887\"], [0.1111111111111111, \"#46039f\"], [0.2222222222222222, \"#7201a8\"], [0.3333333333333333, \"#9c179e\"], [0.4444444444444444, \"#bd3786\"], [0.5555555555555556, \"#d8576b\"], [0.6666666666666666, \"#ed7953\"], [0.7777777777777778, \"#fb9f3a\"], [0.8888888888888888, \"#fdca26\"], [1.0, \"#f0f921\"]], \"type\": \"heatmapgl\"}], \"histogram\": [{\"marker\": {\"colorbar\": {\"outlinewidth\": 0, \"ticks\": \"\"}}, \"type\": \"histogram\"}], \"histogram2d\": [{\"colorbar\": {\"outlinewidth\": 0, \"ticks\": \"\"}, \"colorscale\": [[0.0, \"#0d0887\"], [0.1111111111111111, \"#46039f\"], [0.2222222222222222, \"#7201a8\"], [0.3333333333333333, \"#9c179e\"], [0.4444444444444444, \"#bd3786\"], [0.5555555555555556, \"#d8576b\"], [0.6666666666666666, \"#ed7953\"], [0.7777777777777778, \"#fb9f3a\"], [0.8888888888888888, \"#fdca26\"], [1.0, \"#f0f921\"]], \"type\": \"histogram2d\"}], \"histogram2dcontour\": [{\"colorbar\": {\"outlinewidth\": 0, \"ticks\": \"\"}, \"colorscale\": [[0.0, \"#0d0887\"], [0.1111111111111111, \"#46039f\"], [0.2222222222222222, \"#7201a8\"], [0.3333333333333333, \"#9c179e\"], [0.4444444444444444, \"#bd3786\"], [0.5555555555555556, \"#d8576b\"], [0.6666666666666666, \"#ed7953\"], [0.7777777777777778, \"#fb9f3a\"], [0.8888888888888888, \"#fdca26\"], [1.0, \"#f0f921\"]], \"type\": \"histogram2dcontour\"}], \"mesh3d\": [{\"colorbar\": {\"outlinewidth\": 0, \"ticks\": \"\"}, \"type\": \"mesh3d\"}], \"parcoords\": [{\"line\": {\"colorbar\": {\"outlinewidth\": 0, \"ticks\": \"\"}}, \"type\": \"parcoords\"}], \"pie\": [{\"automargin\": true, \"type\": \"pie\"}], \"scatter\": [{\"marker\": {\"colorbar\": {\"outlinewidth\": 0, \"ticks\": \"\"}}, \"type\": \"scatter\"}], \"scatter3d\": [{\"line\": {\"colorbar\": {\"outlinewidth\": 0, \"ticks\": \"\"}}, \"marker\": {\"colorbar\": {\"outlinewidth\": 0, \"ticks\": \"\"}}, \"type\": \"scatter3d\"}], \"scattercarpet\": [{\"marker\": {\"colorbar\": {\"outlinewidth\": 0, \"ticks\": \"\"}}, \"type\": \"scattercarpet\"}], \"scattergeo\": [{\"marker\": {\"colorbar\": {\"outlinewidth\": 0, \"ticks\": \"\"}}, \"type\": \"scattergeo\"}], \"scattergl\": [{\"marker\": {\"colorbar\": {\"outlinewidth\": 0, \"ticks\": \"\"}}, \"type\": \"scattergl\"}], \"scattermapbox\": [{\"marker\": {\"colorbar\": {\"outlinewidth\": 0, \"ticks\": \"\"}}, \"type\": \"scattermapbox\"}], \"scatterpolar\": [{\"marker\": {\"colorbar\": {\"outlinewidth\": 0, \"ticks\": \"\"}}, \"type\": \"scatterpolar\"}], \"scatterpolargl\": [{\"marker\": {\"colorbar\": {\"outlinewidth\": 0, \"ticks\": \"\"}}, \"type\": \"scatterpolargl\"}], \"scatterternary\": [{\"marker\": {\"colorbar\": {\"outlinewidth\": 0, \"ticks\": \"\"}}, \"type\": \"scatterternary\"}], \"surface\": [{\"colorbar\": {\"outlinewidth\": 0, \"ticks\": \"\"}, \"colorscale\": [[0.0, \"#0d0887\"], [0.1111111111111111, \"#46039f\"], [0.2222222222222222, \"#7201a8\"], [0.3333333333333333, \"#9c179e\"], [0.4444444444444444, \"#bd3786\"], [0.5555555555555556, \"#d8576b\"], [0.6666666666666666, \"#ed7953\"], [0.7777777777777778, \"#fb9f3a\"], [0.8888888888888888, \"#fdca26\"], [1.0, \"#f0f921\"]], \"type\": \"surface\"}], \"table\": [{\"cells\": {\"fill\": {\"color\": \"#EBF0F8\"}, \"line\": {\"color\": \"white\"}}, \"header\": {\"fill\": {\"color\": \"#C8D4E3\"}, \"line\": {\"color\": \"white\"}}, \"type\": \"table\"}]}, \"layout\": {\"annotationdefaults\": {\"arrowcolor\": \"#2a3f5f\", \"arrowhead\": 0, \"arrowwidth\": 1}, \"autotypenumbers\": \"strict\", \"coloraxis\": {\"colorbar\": {\"outlinewidth\": 0, \"ticks\": \"\"}}, \"colorscale\": {\"diverging\": [[0, \"#8e0152\"], [0.1, \"#c51b7d\"], [0.2, \"#de77ae\"], [0.3, \"#f1b6da\"], [0.4, \"#fde0ef\"], [0.5, \"#f7f7f7\"], [0.6, \"#e6f5d0\"], [0.7, \"#b8e186\"], [0.8, \"#7fbc41\"], [0.9, \"#4d9221\"], [1, \"#276419\"]], \"sequential\": [[0.0, \"#0d0887\"], [0.1111111111111111, \"#46039f\"], [0.2222222222222222, \"#7201a8\"], [0.3333333333333333, \"#9c179e\"], [0.4444444444444444, \"#bd3786\"], [0.5555555555555556, \"#d8576b\"], [0.6666666666666666, \"#ed7953\"], [0.7777777777777778, \"#fb9f3a\"], [0.8888888888888888, \"#fdca26\"], [1.0, \"#f0f921\"]], \"sequentialminus\": [[0.0, \"#0d0887\"], [0.1111111111111111, \"#46039f\"], [0.2222222222222222, \"#7201a8\"], [0.3333333333333333, \"#9c179e\"], [0.4444444444444444, \"#bd3786\"], [0.5555555555555556, \"#d8576b\"], [0.6666666666666666, \"#ed7953\"], [0.7777777777777778, \"#fb9f3a\"], [0.8888888888888888, \"#fdca26\"], [1.0, \"#f0f921\"]]}, \"colorway\": [\"#636efa\", \"#EF553B\", \"#00cc96\", \"#ab63fa\", \"#FFA15A\", \"#19d3f3\", \"#FF6692\", \"#B6E880\", \"#FF97FF\", \"#FECB52\"], \"font\": {\"color\": \"#2a3f5f\"}, \"geo\": {\"bgcolor\": \"white\", \"lakecolor\": \"white\", \"landcolor\": \"white\", \"showlakes\": true, \"showland\": true, \"subunitcolor\": \"#C8D4E3\"}, \"hoverlabel\": {\"align\": \"left\"}, \"hovermode\": \"closest\", \"mapbox\": {\"style\": \"light\"}, \"paper_bgcolor\": \"white\", \"plot_bgcolor\": \"white\", \"polar\": {\"angularaxis\": {\"gridcolor\": \"#EBF0F8\", \"linecolor\": \"#EBF0F8\", \"ticks\": \"\"}, \"bgcolor\": \"white\", \"radialaxis\": {\"gridcolor\": \"#EBF0F8\", \"linecolor\": \"#EBF0F8\", \"ticks\": \"\"}}, \"scene\": {\"xaxis\": {\"backgroundcolor\": \"white\", \"gridcolor\": \"#DFE8F3\", \"gridwidth\": 2, \"linecolor\": \"#EBF0F8\", \"showbackground\": true, \"ticks\": \"\", \"zerolinecolor\": \"#EBF0F8\"}, \"yaxis\": {\"backgroundcolor\": \"white\", \"gridcolor\": \"#DFE8F3\", \"gridwidth\": 2, \"linecolor\": \"#EBF0F8\", \"showbackground\": true, \"ticks\": \"\", \"zerolinecolor\": \"#EBF0F8\"}, \"zaxis\": {\"backgroundcolor\": \"white\", \"gridcolor\": \"#DFE8F3\", \"gridwidth\": 2, \"linecolor\": \"#EBF0F8\", \"showbackground\": true, \"ticks\": \"\", \"zerolinecolor\": \"#EBF0F8\"}}, \"shapedefaults\": {\"line\": {\"color\": \"#2a3f5f\"}}, \"ternary\": {\"aaxis\": {\"gridcolor\": \"#DFE8F3\", \"linecolor\": \"#A2B1C6\", \"ticks\": \"\"}, \"baxis\": {\"gridcolor\": \"#DFE8F3\", \"linecolor\": \"#A2B1C6\", \"ticks\": \"\"}, \"bgcolor\": \"white\", \"caxis\": {\"gridcolor\": \"#DFE8F3\", \"linecolor\": \"#A2B1C6\", \"ticks\": \"\"}}, \"title\": {\"x\": 0.05}, \"xaxis\": {\"automargin\": true, \"gridcolor\": \"#EBF0F8\", \"linecolor\": \"#EBF0F8\", \"ticks\": \"\", \"title\": {\"standoff\": 15}, \"zerolinecolor\": \"#EBF0F8\", \"zerolinewidth\": 2}, \"yaxis\": {\"automargin\": true, \"gridcolor\": \"#EBF0F8\", \"linecolor\": \"#EBF0F8\", \"ticks\": \"\", \"title\": {\"standoff\": 15}, \"zerolinecolor\": \"#EBF0F8\", \"zerolinewidth\": 2}}}, \"title\": {\"text\": \"<b>Bus 4707 : ETA Time Series</b> - Line: 132\"}, \"yaxis\": {\"nticks\": 10, \"title\": {\"text\": \"ETA in Seconds\"}, \"zerolinecolor\": \"darkgrey\"}},                        {\"responsive\": true}                    ).then(function(){\n",
       "                            \n",
       "var gd = document.getElementById('1b45cfc5-9619-4081-9ba5-8cab919770e6');\n",
       "var x = new MutationObserver(function (mutations, observer) {{\n",
       "        var display = window.getComputedStyle(gd).display;\n",
       "        if (!display || display === 'none') {{\n",
       "            console.log([gd, 'removed!']);\n",
       "            Plotly.purge(gd);\n",
       "            observer.disconnect();\n",
       "        }}\n",
       "}});\n",
       "\n",
       "// Listen for the removal of the full notebook cells\n",
       "var notebookContainer = gd.closest('#notebook-container');\n",
       "if (notebookContainer) {{\n",
       "    x.observe(notebookContainer, {childList: true});\n",
       "}}\n",
       "\n",
       "// Listen for the clearing of the current output cell\n",
       "var outputEl = gd.closest('.output');\n",
       "if (outputEl) {{\n",
       "    x.observe(outputEl, {childList: true});\n",
       "}}\n",
       "\n",
       "                        })                };                });            </script>        </div>"
      ]
     },
     "metadata": {},
     "output_type": "display_data"
    }
   ],
   "source": [
    "bus_id = '4707'\n",
    "build_time_series_graph(th_df, TH, bus_id).show()"
   ]
  },
  {
   "cell_type": "code",
   "execution_count": null,
   "metadata": {},
   "outputs": [],
   "source": []
  }
 ],
 "metadata": {
  "kernelspec": {
   "display_name": "Python 3",
   "language": "python",
   "name": "python3"
  },
  "language_info": {
   "codemirror_mode": {
    "name": "ipython",
    "version": 3
   },
   "file_extension": ".py",
   "mimetype": "text/x-python",
   "name": "python",
   "nbconvert_exporter": "python",
   "pygments_lexer": "ipython3",
   "version": "3.8.6"
  }
 },
 "nbformat": 4,
 "nbformat_minor": 4
}
